{
  "cells": [
    {
      "cell_type": "markdown",
      "metadata": {
        "id": "view-in-github",
        "colab_type": "text"
      },
      "source": [
        "<a href=\"https://colab.research.google.com/github/Kushi2407/AI_ML/blob/main/Numpy_exercises.ipynb\" target=\"_parent\"><img src=\"https://colab.research.google.com/assets/colab-badge.svg\" alt=\"Open In Colab\"/></a>"
      ]
    },
    {
      "cell_type": "code",
      "execution_count": null,
      "metadata": {
        "id": "BGMlkyC0zJDU",
        "colab": {
          "base_uri": "https://localhost:8080/",
          "height": 477
        },
        "outputId": "0efe5254-cc67-4ae9-ba42-3ca87d192a77"
      },
      "outputs": [
        {
          "output_type": "error",
          "ename": "Exception",
          "evalue": "ignored",
          "traceback": [
            "\u001b[0;31m---------------------------------------------------------------------------\u001b[0m",
            "\u001b[0;31mOSError\u001b[0m                                   Traceback (most recent call last)",
            "\u001b[0;32m/usr/local/lib/python3.10/dist-packages/IPython/core/magics/execution.py\u001b[0m in \u001b[0;36mrun\u001b[0;34m(self, parameter_s, runner, file_finder)\u001b[0m\n\u001b[1;32m    713\u001b[0m             \u001b[0mfpath\u001b[0m \u001b[0;34m=\u001b[0m \u001b[0marg_lst\u001b[0m\u001b[0;34m[\u001b[0m\u001b[0;36m0\u001b[0m\u001b[0;34m]\u001b[0m\u001b[0;34m\u001b[0m\u001b[0;34m\u001b[0m\u001b[0m\n\u001b[0;32m--> 714\u001b[0;31m             \u001b[0mfilename\u001b[0m \u001b[0;34m=\u001b[0m \u001b[0mfile_finder\u001b[0m\u001b[0;34m(\u001b[0m\u001b[0mfpath\u001b[0m\u001b[0;34m)\u001b[0m\u001b[0;34m\u001b[0m\u001b[0;34m\u001b[0m\u001b[0m\n\u001b[0m\u001b[1;32m    715\u001b[0m         \u001b[0;32mexcept\u001b[0m \u001b[0mIndexError\u001b[0m\u001b[0;34m:\u001b[0m\u001b[0;34m\u001b[0m\u001b[0;34m\u001b[0m\u001b[0m\n",
            "\u001b[0;32m/usr/local/lib/python3.10/dist-packages/IPython/utils/path.py\u001b[0m in \u001b[0;36mget_py_filename\u001b[0;34m(name, force_win32)\u001b[0m\n\u001b[1;32m    108\u001b[0m     \u001b[0;32melse\u001b[0m\u001b[0;34m:\u001b[0m\u001b[0;34m\u001b[0m\u001b[0;34m\u001b[0m\u001b[0m\n\u001b[0;32m--> 109\u001b[0;31m         \u001b[0;32mraise\u001b[0m \u001b[0mIOError\u001b[0m\u001b[0;34m(\u001b[0m\u001b[0;34m'File `%r` not found.'\u001b[0m \u001b[0;34m%\u001b[0m \u001b[0mname\u001b[0m\u001b[0;34m)\u001b[0m\u001b[0;34m\u001b[0m\u001b[0;34m\u001b[0m\u001b[0m\n\u001b[0m\u001b[1;32m    110\u001b[0m \u001b[0;34m\u001b[0m\u001b[0m\n",
            "\u001b[0;31mOSError\u001b[0m: File `'initialise.py'` not found.",
            "\nDuring handling of the above exception, another exception occurred:\n",
            "\u001b[0;31mException\u001b[0m                                 Traceback (most recent call last)",
            "\u001b[0;32m<ipython-input-2-79a9b8b96c92>\u001b[0m in \u001b[0;36m<cell line: 1>\u001b[0;34m()\u001b[0m\n\u001b[0;32m----> 1\u001b[0;31m \u001b[0mget_ipython\u001b[0m\u001b[0;34m(\u001b[0m\u001b[0;34m)\u001b[0m\u001b[0;34m.\u001b[0m\u001b[0mrun_line_magic\u001b[0m\u001b[0;34m(\u001b[0m\u001b[0;34m'run'\u001b[0m\u001b[0;34m,\u001b[0m \u001b[0;34m'initialise.py'\u001b[0m\u001b[0;34m)\u001b[0m\u001b[0;34m\u001b[0m\u001b[0;34m\u001b[0m\u001b[0m\n\u001b[0m",
            "\u001b[0;32m/usr/local/lib/python3.10/dist-packages/IPython/core/interactiveshell.py\u001b[0m in \u001b[0;36mrun_line_magic\u001b[0;34m(self, magic_name, line, _stack_depth)\u001b[0m\n\u001b[1;32m   2416\u001b[0m                 \u001b[0mkwargs\u001b[0m\u001b[0;34m[\u001b[0m\u001b[0;34m'local_ns'\u001b[0m\u001b[0;34m]\u001b[0m \u001b[0;34m=\u001b[0m \u001b[0mself\u001b[0m\u001b[0;34m.\u001b[0m\u001b[0mget_local_scope\u001b[0m\u001b[0;34m(\u001b[0m\u001b[0mstack_depth\u001b[0m\u001b[0;34m)\u001b[0m\u001b[0;34m\u001b[0m\u001b[0;34m\u001b[0m\u001b[0m\n\u001b[1;32m   2417\u001b[0m             \u001b[0;32mwith\u001b[0m \u001b[0mself\u001b[0m\u001b[0;34m.\u001b[0m\u001b[0mbuiltin_trap\u001b[0m\u001b[0;34m:\u001b[0m\u001b[0;34m\u001b[0m\u001b[0;34m\u001b[0m\u001b[0m\n\u001b[0;32m-> 2418\u001b[0;31m                 \u001b[0mresult\u001b[0m \u001b[0;34m=\u001b[0m \u001b[0mfn\u001b[0m\u001b[0;34m(\u001b[0m\u001b[0;34m*\u001b[0m\u001b[0margs\u001b[0m\u001b[0;34m,\u001b[0m \u001b[0;34m**\u001b[0m\u001b[0mkwargs\u001b[0m\u001b[0;34m)\u001b[0m\u001b[0;34m\u001b[0m\u001b[0;34m\u001b[0m\u001b[0m\n\u001b[0m\u001b[1;32m   2419\u001b[0m             \u001b[0;32mreturn\u001b[0m \u001b[0mresult\u001b[0m\u001b[0;34m\u001b[0m\u001b[0;34m\u001b[0m\u001b[0m\n\u001b[1;32m   2420\u001b[0m \u001b[0;34m\u001b[0m\u001b[0m\n",
            "\u001b[0;32m<decorator-gen-52>\u001b[0m in \u001b[0;36mrun\u001b[0;34m(self, parameter_s, runner, file_finder)\u001b[0m\n",
            "\u001b[0;32m/usr/local/lib/python3.10/dist-packages/IPython/core/magic.py\u001b[0m in \u001b[0;36m<lambda>\u001b[0;34m(f, *a, **k)\u001b[0m\n\u001b[1;32m    185\u001b[0m     \u001b[0;31m# but it's overkill for just that one bit of state.\u001b[0m\u001b[0;34m\u001b[0m\u001b[0;34m\u001b[0m\u001b[0m\n\u001b[1;32m    186\u001b[0m     \u001b[0;32mdef\u001b[0m \u001b[0mmagic_deco\u001b[0m\u001b[0;34m(\u001b[0m\u001b[0marg\u001b[0m\u001b[0;34m)\u001b[0m\u001b[0;34m:\u001b[0m\u001b[0;34m\u001b[0m\u001b[0;34m\u001b[0m\u001b[0m\n\u001b[0;32m--> 187\u001b[0;31m         \u001b[0mcall\u001b[0m \u001b[0;34m=\u001b[0m \u001b[0;32mlambda\u001b[0m \u001b[0mf\u001b[0m\u001b[0;34m,\u001b[0m \u001b[0;34m*\u001b[0m\u001b[0ma\u001b[0m\u001b[0;34m,\u001b[0m \u001b[0;34m**\u001b[0m\u001b[0mk\u001b[0m\u001b[0;34m:\u001b[0m \u001b[0mf\u001b[0m\u001b[0;34m(\u001b[0m\u001b[0;34m*\u001b[0m\u001b[0ma\u001b[0m\u001b[0;34m,\u001b[0m \u001b[0;34m**\u001b[0m\u001b[0mk\u001b[0m\u001b[0;34m)\u001b[0m\u001b[0;34m\u001b[0m\u001b[0;34m\u001b[0m\u001b[0m\n\u001b[0m\u001b[1;32m    188\u001b[0m \u001b[0;34m\u001b[0m\u001b[0m\n\u001b[1;32m    189\u001b[0m         \u001b[0;32mif\u001b[0m \u001b[0mcallable\u001b[0m\u001b[0;34m(\u001b[0m\u001b[0marg\u001b[0m\u001b[0;34m)\u001b[0m\u001b[0;34m:\u001b[0m\u001b[0;34m\u001b[0m\u001b[0;34m\u001b[0m\u001b[0m\n",
            "\u001b[0;32m/usr/local/lib/python3.10/dist-packages/IPython/core/magics/execution.py\u001b[0m in \u001b[0;36mrun\u001b[0;34m(self, parameter_s, runner, file_finder)\u001b[0m\n\u001b[1;32m    723\u001b[0m             \u001b[0;32mif\u001b[0m \u001b[0mos\u001b[0m\u001b[0;34m.\u001b[0m\u001b[0mname\u001b[0m \u001b[0;34m==\u001b[0m \u001b[0;34m'nt'\u001b[0m \u001b[0;32mand\u001b[0m \u001b[0mre\u001b[0m\u001b[0;34m.\u001b[0m\u001b[0mmatch\u001b[0m\u001b[0;34m(\u001b[0m\u001b[0;34mr\"^'.*'$\"\u001b[0m\u001b[0;34m,\u001b[0m\u001b[0mfpath\u001b[0m\u001b[0;34m)\u001b[0m\u001b[0;34m:\u001b[0m\u001b[0;34m\u001b[0m\u001b[0;34m\u001b[0m\u001b[0m\n\u001b[1;32m    724\u001b[0m                 \u001b[0mwarn\u001b[0m\u001b[0;34m(\u001b[0m\u001b[0;34m'For Windows, use double quotes to wrap a filename: %run \"mypath\\\\myfile.py\"'\u001b[0m\u001b[0;34m)\u001b[0m\u001b[0;34m\u001b[0m\u001b[0;34m\u001b[0m\u001b[0m\n\u001b[0;32m--> 725\u001b[0;31m             \u001b[0;32mraise\u001b[0m \u001b[0mException\u001b[0m\u001b[0;34m(\u001b[0m\u001b[0mmsg\u001b[0m\u001b[0;34m)\u001b[0m\u001b[0;34m\u001b[0m\u001b[0;34m\u001b[0m\u001b[0m\n\u001b[0m\u001b[1;32m    726\u001b[0m         \u001b[0;32mexcept\u001b[0m \u001b[0mTypeError\u001b[0m\u001b[0;34m:\u001b[0m\u001b[0;34m\u001b[0m\u001b[0;34m\u001b[0m\u001b[0m\n\u001b[1;32m    727\u001b[0m             \u001b[0;32mif\u001b[0m \u001b[0mfpath\u001b[0m \u001b[0;32min\u001b[0m \u001b[0msys\u001b[0m\u001b[0;34m.\u001b[0m\u001b[0mmeta_path\u001b[0m\u001b[0;34m:\u001b[0m\u001b[0;34m\u001b[0m\u001b[0;34m\u001b[0m\u001b[0m\n",
            "\u001b[0;31mException\u001b[0m: File `'initialise.py'` not found."
          ]
        }
      ],
      "source": [
        "%run initialise.py"
      ]
    },
    {
      "cell_type": "markdown",
      "metadata": {
        "id": "ZFVc2zLvzJDX"
      },
      "source": [
        "#### 1. Import the numpy package under the name `np` (★☆☆)"
      ]
    },
    {
      "cell_type": "code",
      "execution_count": null,
      "metadata": {
        "id": "FmiTNKYfzJDa"
      },
      "outputs": [],
      "source": [
        "import numpy as np"
      ]
    },
    {
      "cell_type": "markdown",
      "metadata": {
        "id": "H2_82MoazJDb"
      },
      "source": [
        "#### 2. Print the numpy version and the configuration (★☆☆)"
      ]
    },
    {
      "cell_type": "code",
      "execution_count": null,
      "metadata": {
        "id": "z5GXtGECzJDb",
        "outputId": "ea9b36b6-85ea-4645-d2e7-9078b166f95d",
        "colab": {
          "base_uri": "https://localhost:8080/"
        }
      },
      "outputs": [
        {
          "output_type": "stream",
          "name": "stdout",
          "text": [
            "1.23.5\n",
            "openblas64__info:\n",
            "    libraries = ['openblas64_', 'openblas64_']\n",
            "    library_dirs = ['/usr/local/lib']\n",
            "    language = c\n",
            "    define_macros = [('HAVE_CBLAS', None), ('BLAS_SYMBOL_SUFFIX', '64_'), ('HAVE_BLAS_ILP64', None)]\n",
            "    runtime_library_dirs = ['/usr/local/lib']\n",
            "blas_ilp64_opt_info:\n",
            "    libraries = ['openblas64_', 'openblas64_']\n",
            "    library_dirs = ['/usr/local/lib']\n",
            "    language = c\n",
            "    define_macros = [('HAVE_CBLAS', None), ('BLAS_SYMBOL_SUFFIX', '64_'), ('HAVE_BLAS_ILP64', None)]\n",
            "    runtime_library_dirs = ['/usr/local/lib']\n",
            "openblas64__lapack_info:\n",
            "    libraries = ['openblas64_', 'openblas64_']\n",
            "    library_dirs = ['/usr/local/lib']\n",
            "    language = c\n",
            "    define_macros = [('HAVE_CBLAS', None), ('BLAS_SYMBOL_SUFFIX', '64_'), ('HAVE_BLAS_ILP64', None), ('HAVE_LAPACKE', None)]\n",
            "    runtime_library_dirs = ['/usr/local/lib']\n",
            "lapack_ilp64_opt_info:\n",
            "    libraries = ['openblas64_', 'openblas64_']\n",
            "    library_dirs = ['/usr/local/lib']\n",
            "    language = c\n",
            "    define_macros = [('HAVE_CBLAS', None), ('BLAS_SYMBOL_SUFFIX', '64_'), ('HAVE_BLAS_ILP64', None), ('HAVE_LAPACKE', None)]\n",
            "    runtime_library_dirs = ['/usr/local/lib']\n",
            "Supported SIMD extensions in this NumPy install:\n",
            "    baseline = SSE,SSE2,SSE3\n",
            "    found = SSSE3,SSE41,POPCNT,SSE42,AVX,F16C,FMA3,AVX2\n",
            "    not found = AVX512F,AVX512CD,AVX512_KNL,AVX512_KNM,AVX512_SKX,AVX512_CLX,AVX512_CNL,AVX512_ICL\n"
          ]
        }
      ],
      "source": [
        "print(np.__version__)\n",
        "np.show_config()"
      ]
    },
    {
      "cell_type": "markdown",
      "metadata": {
        "id": "UJ9ojZkezJDd"
      },
      "source": [
        "#### 3. Create a null vector of size 10 (★☆☆)"
      ]
    },
    {
      "cell_type": "code",
      "execution_count": null,
      "metadata": {
        "id": "iSfUKQZFzJDe",
        "outputId": "ccd31094-353a-40fd-9980-ad751c889e0b",
        "colab": {
          "base_uri": "https://localhost:8080/"
        }
      },
      "outputs": [
        {
          "output_type": "stream",
          "name": "stdout",
          "text": [
            "[0. 0. 0. 0. 0. 0. 0. 0. 0. 0.]\n"
          ]
        }
      ],
      "source": [
        "Z = np.zeros(10)\n",
        "print(Z)"
      ]
    },
    {
      "cell_type": "markdown",
      "metadata": {
        "id": "t_0jzJ8rzJDe"
      },
      "source": [
        "#### 4. How to find the memory size of any array (★☆☆)"
      ]
    },
    {
      "cell_type": "code",
      "execution_count": null,
      "metadata": {
        "id": "UmUhTa8MzJDf",
        "outputId": "ebf448ff-6ee1-4964-e517-394f383f34f5",
        "colab": {
          "base_uri": "https://localhost:8080/"
        }
      },
      "outputs": [
        {
          "output_type": "stream",
          "name": "stdout",
          "text": [
            "800 bytes\n"
          ]
        }
      ],
      "source": [
        "Z = np.zeros((10,10))\n",
        "print(\"%d bytes\" % (Z.size * Z.itemsize))"
      ]
    },
    {
      "cell_type": "markdown",
      "metadata": {
        "id": "-t0EgMeKzJDg"
      },
      "source": [
        "#### 5. How to get the documentation of the numpy add function from the command line? (★☆☆)"
      ]
    },
    {
      "cell_type": "code",
      "execution_count": null,
      "metadata": {
        "id": "QN4PmyySzJDg",
        "outputId": "4dd032ac-3bac-44e8-9817-22eb5e9a2189",
        "colab": {
          "base_uri": "https://localhost:8080/"
        }
      },
      "outputs": [
        {
          "output_type": "stream",
          "name": "stdout",
          "text": [
            "Help on ufunc:\n",
            "\n",
            "add = <ufunc 'add'>\n",
            "    add(x1, x2, /, out=None, *, where=True, casting='same_kind', order='K', dtype=None, subok=True[, signature, extobj])\n",
            "    \n",
            "    Add arguments element-wise.\n",
            "    \n",
            "    Parameters\n",
            "    ----------\n",
            "    x1, x2 : array_like\n",
            "        The arrays to be added.\n",
            "        If ``x1.shape != x2.shape``, they must be broadcastable to a common\n",
            "        shape (which becomes the shape of the output).\n",
            "    out : ndarray, None, or tuple of ndarray and None, optional\n",
            "        A location into which the result is stored. If provided, it must have\n",
            "        a shape that the inputs broadcast to. If not provided or None,\n",
            "        a freshly-allocated array is returned. A tuple (possible only as a\n",
            "        keyword argument) must have length equal to the number of outputs.\n",
            "    where : array_like, optional\n",
            "        This condition is broadcast over the input. At locations where the\n",
            "        condition is True, the `out` array will be set to the ufunc result.\n",
            "        Elsewhere, the `out` array will retain its original value.\n",
            "        Note that if an uninitialized `out` array is created via the default\n",
            "        ``out=None``, locations within it where the condition is False will\n",
            "        remain uninitialized.\n",
            "    **kwargs\n",
            "        For other keyword-only arguments, see the\n",
            "        :ref:`ufunc docs <ufuncs.kwargs>`.\n",
            "    \n",
            "    Returns\n",
            "    -------\n",
            "    add : ndarray or scalar\n",
            "        The sum of `x1` and `x2`, element-wise.\n",
            "        This is a scalar if both `x1` and `x2` are scalars.\n",
            "    \n",
            "    Notes\n",
            "    -----\n",
            "    Equivalent to `x1` + `x2` in terms of array broadcasting.\n",
            "    \n",
            "    Examples\n",
            "    --------\n",
            "    >>> np.add(1.0, 4.0)\n",
            "    5.0\n",
            "    >>> x1 = np.arange(9.0).reshape((3, 3))\n",
            "    >>> x2 = np.arange(3.0)\n",
            "    >>> np.add(x1, x2)\n",
            "    array([[  0.,   2.,   4.],\n",
            "           [  3.,   5.,   7.],\n",
            "           [  6.,   8.,  10.]])\n",
            "    \n",
            "    The ``+`` operator can be used as a shorthand for ``np.add`` on ndarrays.\n",
            "    \n",
            "    >>> x1 = np.arange(9.0).reshape((3, 3))\n",
            "    >>> x2 = np.arange(3.0)\n",
            "    >>> x1 + x2\n",
            "    array([[ 0.,  2.,  4.],\n",
            "           [ 3.,  5.,  7.],\n",
            "           [ 6.,  8., 10.]])\n",
            "\n"
          ]
        }
      ],
      "source": [
        "import numpy as np\n",
        "help(np.add)"
      ]
    },
    {
      "cell_type": "markdown",
      "metadata": {
        "id": "ZQsl5XjLzJDg"
      },
      "source": [
        "#### 6. Create a null vector of size 10 but the fifth value which is 1 (★☆☆)"
      ]
    },
    {
      "cell_type": "code",
      "execution_count": null,
      "metadata": {
        "id": "jAFZ7zZEzJDg",
        "outputId": "51f88880-1fd4-4c37-dd1c-ca498b0bd0ff",
        "colab": {
          "base_uri": "https://localhost:8080/"
        }
      },
      "outputs": [
        {
          "output_type": "stream",
          "name": "stdout",
          "text": [
            "[0. 0. 0. 0. 1. 0. 0. 0. 0. 0.]\n"
          ]
        }
      ],
      "source": [
        "import numpy as np\n",
        "\n",
        "# Create a null vector of size 10\n",
        "null_vector = np.zeros(10)\n",
        "\n",
        "# Set the fifth value (index 4) to 1\n",
        "null_vector[4] = 1\n",
        "\n",
        "print(null_vector)"
      ]
    },
    {
      "cell_type": "markdown",
      "metadata": {
        "id": "D65_bV_8zJDh"
      },
      "source": [
        "#### 7. Create a vector with values ranging from 10 to 49 (★☆☆)"
      ]
    },
    {
      "cell_type": "code",
      "execution_count": null,
      "metadata": {
        "id": "4U3srBoLzJDh",
        "outputId": "a57bc3e1-e0bc-4c0e-ac92-cdc7bb300466",
        "colab": {
          "base_uri": "https://localhost:8080/"
        }
      },
      "outputs": [
        {
          "output_type": "stream",
          "name": "stdout",
          "text": [
            "[10 11 12 13 14 15 16 17 18 19 20 21 22 23 24 25 26 27 28 29 30 31 32 33\n",
            " 34 35 36 37 38 39 40 41 42 43 44 45 46 47 48 49]\n"
          ]
        }
      ],
      "source": [
        "import numpy as np\n",
        "\n",
        "# Create a vector with values ranging from 10 to 49\n",
        "vector = np.arange(10, 50)\n",
        "\n",
        "print(vector)"
      ]
    },
    {
      "cell_type": "markdown",
      "metadata": {
        "id": "H4Vf3-apzJDh"
      },
      "source": [
        "#### 8. Reverse a vector (first element becomes last) (★☆☆)"
      ]
    },
    {
      "cell_type": "code",
      "execution_count": null,
      "metadata": {
        "id": "56xGHI1xzJDh",
        "outputId": "1f6ec6a2-5f39-40ba-e869-64c9c8911c12",
        "colab": {
          "base_uri": "https://localhost:8080/"
        }
      },
      "outputs": [
        {
          "output_type": "stream",
          "name": "stdout",
          "text": [
            "[5 4 3 2 1]\n"
          ]
        }
      ],
      "source": [
        "import numpy as np\n",
        "\n",
        "# Create a sample vector\n",
        "original_vector = np.array([1, 2, 3, 4, 5])\n",
        "\n",
        "# Reverse the vector\n",
        "reversed_vector = original_vector[::-1]\n",
        "\n",
        "print(reversed_vector)"
      ]
    },
    {
      "cell_type": "markdown",
      "metadata": {
        "id": "G_1HDKx9zJDh"
      },
      "source": [
        "#### 9. Create a 3x3 matrix with values ranging from 0 to 8 (★☆☆)"
      ]
    },
    {
      "cell_type": "code",
      "execution_count": null,
      "metadata": {
        "id": "T-pebF-DzJDi",
        "outputId": "aa6646e5-6a79-4255-fb61-46d081eb08ef",
        "colab": {
          "base_uri": "https://localhost:8080/"
        }
      },
      "outputs": [
        {
          "output_type": "stream",
          "name": "stdout",
          "text": [
            "[[0 1 2]\n",
            " [3 4 5]\n",
            " [6 7 8]]\n"
          ]
        }
      ],
      "source": [
        "import numpy as np\n",
        "\n",
        "# Create a 3x3 matrix with values ranging from 0 to 8\n",
        "matrix = np.arange(9).reshape(3, 3)\n",
        "\n",
        "print(matrix)"
      ]
    },
    {
      "cell_type": "markdown",
      "metadata": {
        "id": "VTURpRhKzJDi"
      },
      "source": [
        "#### 10. Find indices of non-zero elements from [1,2,0,0,4,0] (★☆☆)"
      ]
    },
    {
      "cell_type": "code",
      "execution_count": null,
      "metadata": {
        "id": "yBiwnTGnzJDi",
        "outputId": "5a2a155f-e389-45c6-fadb-65cabbc54d5f",
        "colab": {
          "base_uri": "https://localhost:8080/"
        }
      },
      "outputs": [
        {
          "output_type": "stream",
          "name": "stdout",
          "text": [
            "(array([0, 1, 4]),)\n"
          ]
        }
      ],
      "source": [
        "import numpy as np\n",
        "\n",
        "# Create the array\n",
        "arr = np.array([1, 2, 0, 0, 4, 0])\n",
        "\n",
        "# Find the indices of non-zero elements\n",
        "non_zero_indices = np.nonzero(arr)\n",
        "\n",
        "print(non_zero_indices)"
      ]
    },
    {
      "cell_type": "markdown",
      "metadata": {
        "id": "QXYHCpAjzJDi"
      },
      "source": [
        "#### 11. Create a 3x3 identity matrix (★☆☆)"
      ]
    },
    {
      "cell_type": "code",
      "execution_count": null,
      "metadata": {
        "id": "eX8XYdUGzJDi",
        "outputId": "0159792b-7232-4d4c-84ed-ba8473acc659",
        "colab": {
          "base_uri": "https://localhost:8080/"
        }
      },
      "outputs": [
        {
          "output_type": "stream",
          "name": "stdout",
          "text": [
            "[[1. 0. 0.]\n",
            " [0. 1. 0.]\n",
            " [0. 0. 1.]]\n"
          ]
        }
      ],
      "source": [
        "import numpy as np\n",
        "\n",
        "# Create a 3x3 identity matrix\n",
        "identity_matrix = np.eye(3)\n",
        "\n",
        "print(identity_matrix)"
      ]
    },
    {
      "cell_type": "markdown",
      "metadata": {
        "id": "eJD_OOWBzJDj"
      },
      "source": [
        "#### 12. Create a 3x3x3 array with random values (★☆☆)"
      ]
    },
    {
      "cell_type": "code",
      "execution_count": null,
      "metadata": {
        "id": "AusYUAhZzJDj",
        "outputId": "b3efc249-fd6c-493e-e723-0185ff9856e5",
        "colab": {
          "base_uri": "https://localhost:8080/"
        }
      },
      "outputs": [
        {
          "output_type": "stream",
          "name": "stdout",
          "text": [
            "[[[0.40439484 0.75315345 0.45411835]\n",
            "  [0.54870618 0.43516561 0.20075876]\n",
            "  [0.68677908 0.71665139 0.12529954]]\n",
            "\n",
            " [[0.18816836 0.09060126 0.94754567]\n",
            "  [0.37431739 0.36027562 0.05112266]\n",
            "  [0.65281889 0.24863774 0.43462014]]\n",
            "\n",
            " [[0.06271944 0.14713431 0.09066057]\n",
            "  [0.62760809 0.02835517 0.49009926]\n",
            "  [0.37937912 0.57788918 0.86645072]]]\n"
          ]
        }
      ],
      "source": [
        "import numpy as np\n",
        "\n",
        "# Create a 3x3x3 array with random values between 0 and 1\n",
        "random_array = np.random.rand(3, 3, 3)\n",
        "\n",
        "print(random_array)"
      ]
    },
    {
      "cell_type": "markdown",
      "metadata": {
        "id": "NJpjDUb_zJDj"
      },
      "source": [
        "#### 13. Create a 10x10 array with random values and find the minimum and maximum values (★☆☆)"
      ]
    },
    {
      "cell_type": "code",
      "execution_count": null,
      "metadata": {
        "id": "6Y9J1cEGzJDj",
        "outputId": "7cb48244-071b-4d11-d6ab-40530594b3ab",
        "colab": {
          "base_uri": "https://localhost:8080/"
        }
      },
      "outputs": [
        {
          "output_type": "stream",
          "name": "stdout",
          "text": [
            "Minimum Value: 0.007445363656828574\n",
            "Maximum Value: 0.9981486163854716\n"
          ]
        }
      ],
      "source": [
        "\n",
        "import numpy as np\n",
        "\n",
        "# Create a 10x10 array with random values between 0 and 1\n",
        "random_array = np.random.rand(10, 10)\n",
        "\n",
        "# Find the minimum and maximum values in the array\n",
        "min_value = random_array.min()\n",
        "max_value = random_array.max()\n",
        "\n",
        "print(\"Minimum Value:\", min_value)\n",
        "print(\"Maximum Value:\", max_value)"
      ]
    },
    {
      "cell_type": "markdown",
      "metadata": {
        "id": "H626Fg-kzJDj"
      },
      "source": [
        "#### 14. Create a random vector of size 30 and find the mean value (★☆☆)"
      ]
    },
    {
      "cell_type": "code",
      "execution_count": null,
      "metadata": {
        "id": "M7DHZtJ2zJDj",
        "outputId": "a150ac9d-47a1-488d-8d63-ac3db8d22319",
        "colab": {
          "base_uri": "https://localhost:8080/"
        }
      },
      "outputs": [
        {
          "output_type": "stream",
          "name": "stdout",
          "text": [
            "Mean Value: 0.43372099116849355\n"
          ]
        }
      ],
      "source": [
        "\n",
        "import numpy as np\n",
        "\n",
        "# Create a random vector of size 30 with values between 0 and 1\n",
        "random_vector = np.random.rand(30)\n",
        "\n",
        "# Find the mean value of the vector\n",
        "mean_value = np.mean(random_vector)\n",
        "\n",
        "print(\"Mean Value:\", mean_value)"
      ]
    },
    {
      "cell_type": "markdown",
      "metadata": {
        "id": "QQ4T1g8ZzJDj"
      },
      "source": [
        "#### 15. Create a 2d array with 1 on the border and 0 inside (★☆☆)"
      ]
    },
    {
      "cell_type": "code",
      "execution_count": null,
      "metadata": {
        "id": "eNSnE0vRzJDk",
        "outputId": "0956fa87-59ae-4834-f2c5-1956b9717d8a",
        "colab": {
          "base_uri": "https://localhost:8080/"
        }
      },
      "outputs": [
        {
          "output_type": "stream",
          "name": "stdout",
          "text": [
            "[[1. 1. 1. 1. 1.]\n",
            " [1. 0. 0. 0. 1.]\n",
            " [1. 0. 0. 0. 1.]\n",
            " [1. 0. 0. 0. 1.]\n",
            " [1. 1. 1. 1. 1.]]\n"
          ]
        }
      ],
      "source": [
        "\n",
        "import numpy as np\n",
        "\n",
        "# Define the dimensions of the desired array\n",
        "rows = 5  # Number of rows\n",
        "cols = 5  # Number of columns\n",
        "\n",
        "# Create a 2D array filled with zeros\n",
        "array = np.zeros((rows, cols))\n",
        "\n",
        "# Set the border elements to 1\n",
        "array[0, :] = 1  # Top row\n",
        "array[rows-1, :] = 1  # Bottom row\n",
        "array[:, 0] = 1  # Left column\n",
        "array[:, cols-1] = 1  # Right column\n",
        "\n",
        "print(array)"
      ]
    },
    {
      "cell_type": "markdown",
      "metadata": {
        "id": "8dWTMdV9zJDk"
      },
      "source": [
        "#### 16. How to add a border (filled with 0's) around an existing array? (★☆☆)"
      ]
    },
    {
      "cell_type": "code",
      "execution_count": null,
      "metadata": {
        "id": "DdfCLXs5zJDk",
        "outputId": "c9b6358d-53eb-41ce-dcd7-2f6bf02c3c18",
        "colab": {
          "base_uri": "https://localhost:8080/"
        }
      },
      "outputs": [
        {
          "output_type": "stream",
          "name": "stdout",
          "text": [
            "[[0. 0. 0. 0. 0.]\n",
            " [0. 1. 2. 3. 0.]\n",
            " [0. 4. 5. 6. 0.]\n",
            " [0. 7. 8. 9. 0.]\n",
            " [0. 0. 0. 0. 0.]]\n"
          ]
        }
      ],
      "source": [
        "\n",
        "import numpy as np\n",
        "\n",
        "# Create your existing array\n",
        "existing_array = np.array([[1, 2, 3],\n",
        "                           [4, 5, 6],\n",
        "                           [7, 8, 9]])\n",
        "\n",
        "# Determine the dimensions of the new array with the border\n",
        "rows, cols = existing_array.shape\n",
        "border_width = 1  # You can adjust this as needed\n",
        "\n",
        "# Create a new array with zeros and the appropriate dimensions\n",
        "new_array = np.zeros((rows + 2 * border_width, cols + 2 * border_width))\n",
        "\n",
        "# Copy the existing array into the center of the new array\n",
        "new_array[border_width:border_width + rows, border_width:border_width + cols] = existing_array\n",
        "\n",
        "print(new_array)"
      ]
    },
    {
      "cell_type": "markdown",
      "metadata": {
        "id": "xvOoJVpnzJDk"
      },
      "source": [
        "#### 17. What is the result of the following expression? (★☆☆)\n",
        "```python\n",
        "0 * np.nan\n",
        "np.nan == np.nan\n",
        "np.inf > np.nan\n",
        "np.nan - np.nan\n",
        "np.nan in set([np.nan])\n",
        "0.3 == 3 * 0.1\n",
        "```"
      ]
    },
    {
      "cell_type": "code",
      "execution_count": null,
      "metadata": {
        "id": "Wi53E_yRzJDk",
        "outputId": "2633cc59-1dbb-4125-ce1c-f620f5919efe",
        "colab": {
          "base_uri": "https://localhost:8080/",
          "height": 245
        }
      },
      "outputs": [
        {
          "output_type": "error",
          "ename": "NameError",
          "evalue": "ignored",
          "traceback": [
            "\u001b[0;31m---------------------------------------------------------------------------\u001b[0m",
            "\u001b[0;31mNameError\u001b[0m                                 Traceback (most recent call last)",
            "\u001b[0;32m<ipython-input-1-7008bd00f87f>\u001b[0m in \u001b[0;36m<cell line: 1>\u001b[0;34m()\u001b[0m\n\u001b[0;32m----> 1\u001b[0;31m \u001b[0mnan\u001b[0m\u001b[0;34m\u001b[0m\u001b[0;34m\u001b[0m\u001b[0m\n\u001b[0m\u001b[1;32m      2\u001b[0m \u001b[0;32mFalse\u001b[0m\u001b[0;34m\u001b[0m\u001b[0;34m\u001b[0m\u001b[0m\n\u001b[1;32m      3\u001b[0m \u001b[0;32mFalse\u001b[0m\u001b[0;34m\u001b[0m\u001b[0;34m\u001b[0m\u001b[0m\n\u001b[1;32m      4\u001b[0m \u001b[0mnan\u001b[0m\u001b[0;34m\u001b[0m\u001b[0;34m\u001b[0m\u001b[0m\n\u001b[1;32m      5\u001b[0m \u001b[0;32mTrue\u001b[0m\u001b[0;34m\u001b[0m\u001b[0;34m\u001b[0m\u001b[0m\n",
            "\u001b[0;31mNameError\u001b[0m: name 'nan' is not defined"
          ]
        }
      ],
      "source": [
        "\n",
        "nan\n",
        "False\n",
        "False\n",
        "nan\n",
        "True\n",
        "True"
      ]
    },
    {
      "cell_type": "markdown",
      "metadata": {
        "id": "XNhw50BAzJDk"
      },
      "source": [
        "#### 18. Create a 5x5 matrix with values 1,2,3,4 just below the diagonal (★☆☆)"
      ]
    },
    {
      "cell_type": "code",
      "execution_count": null,
      "metadata": {
        "id": "jmUUxaiRzJDl",
        "outputId": "f2b2d51a-38e4-4ff6-f3c6-ddae3cea16da",
        "colab": {
          "base_uri": "https://localhost:8080/"
        }
      },
      "outputs": [
        {
          "output_type": "stream",
          "name": "stdout",
          "text": [
            "[[0. 0. 0. 0. 0.]\n",
            " [1. 0. 0. 0. 0.]\n",
            " [0. 2. 0. 0. 0.]\n",
            " [0. 0. 3. 0. 0.]\n",
            " [0. 0. 0. 4. 0.]]\n"
          ]
        }
      ],
      "source": [
        "\n",
        "import numpy as np\n",
        "\n",
        "# Create a 5x5 matrix filled with zeros\n",
        "matrix = np.zeros((5, 5))\n",
        "\n",
        "# Fill the values 1, 2, 3, and 4 just below the diagonal\n",
        "np.fill_diagonal(matrix[1:], [1, 2, 3, 4])\n",
        "\n",
        "print(matrix)"
      ]
    },
    {
      "cell_type": "markdown",
      "metadata": {
        "id": "vaXi7IvuzJDl"
      },
      "source": [
        "#### 19. Create a 8x8 matrix and fill it with a checkerboard pattern (★☆☆)"
      ]
    },
    {
      "cell_type": "code",
      "execution_count": null,
      "metadata": {
        "id": "rboULCNvzJDl",
        "outputId": "9387a7c8-477e-4c1d-a8ad-da6bb7b749c0",
        "colab": {
          "base_uri": "https://localhost:8080/"
        }
      },
      "outputs": [
        {
          "output_type": "stream",
          "name": "stdout",
          "text": [
            "[[0. 1. 0. 1. 0. 1. 0. 1.]\n",
            " [1. 0. 1. 0. 1. 0. 1. 0.]\n",
            " [0. 1. 0. 1. 0. 1. 0. 1.]\n",
            " [1. 0. 1. 0. 1. 0. 1. 0.]\n",
            " [0. 1. 0. 1. 0. 1. 0. 1.]\n",
            " [1. 0. 1. 0. 1. 0. 1. 0.]\n",
            " [0. 1. 0. 1. 0. 1. 0. 1.]\n",
            " [1. 0. 1. 0. 1. 0. 1. 0.]]\n"
          ]
        }
      ],
      "source": [
        "\n",
        "import numpy as np\n",
        "\n",
        "# Create an 8x8 matrix filled with zeros\n",
        "matrix = np.zeros((8, 8))\n",
        "\n",
        "# Fill the checkerboard pattern with alternating 1s and 0s\n",
        "matrix[1::2, ::2] = 1  # Odd rows, even columns\n",
        "matrix[::2, 1::2] = 1  # Even rows, odd columns\n",
        "\n",
        "print(matrix)"
      ]
    },
    {
      "cell_type": "markdown",
      "metadata": {
        "id": "93OnydULzJDm"
      },
      "source": [
        "#### 20. Consider a (6,7,8) shape array, what is the index (x,y,z) of the 100th element?"
      ]
    },
    {
      "cell_type": "code",
      "execution_count": null,
      "metadata": {
        "id": "1Dms5ytbzJDn",
        "outputId": "cabefea9-18d4-43b3-ba34-21beafe9c068",
        "colab": {
          "base_uri": "https://localhost:8080/"
        }
      },
      "outputs": [
        {
          "output_type": "stream",
          "name": "stdout",
          "text": [
            "The index (x, y, z) of the 100th element is (4, 2, 2)\n"
          ]
        }
      ],
      "source": [
        "\n",
        "element_index = 100\n",
        "\n",
        "# Calculate z (third dimension)\n",
        "z = element_index // (6 * 7)\n",
        "\n",
        "# Calculate the remaining element index after removing the contributions from z\n",
        "remaining_index = element_index - z * (6 * 7)\n",
        "\n",
        "# Calculate y (second dimension)\n",
        "y = remaining_index // 6\n",
        "\n",
        "# Calculate x (first dimension)\n",
        "x = remaining_index % 6\n",
        "\n",
        "print(f\"The index (x, y, z) of the 100th element is ({x}, {y}, {z})\")"
      ]
    },
    {
      "cell_type": "markdown",
      "metadata": {
        "id": "ST9SZgKkzJDn"
      },
      "source": [
        "#### 21. Create a checkerboard 8x8 matrix using the tile function (★☆☆)"
      ]
    },
    {
      "cell_type": "code",
      "execution_count": null,
      "metadata": {
        "id": "dQqN_G34zJDn",
        "colab": {
          "base_uri": "https://localhost:8080/"
        },
        "outputId": "1d65b03a-83db-48a4-da14-2b047f1a2757"
      },
      "outputs": [
        {
          "output_type": "stream",
          "name": "stdout",
          "text": [
            "[[0 1 0 1 0 1 0 1]\n",
            " [1 0 1 0 1 0 1 0]\n",
            " [0 1 0 1 0 1 0 1]\n",
            " [1 0 1 0 1 0 1 0]\n",
            " [0 1 0 1 0 1 0 1]\n",
            " [1 0 1 0 1 0 1 0]\n",
            " [0 1 0 1 0 1 0 1]\n",
            " [1 0 1 0 1 0 1 0]]\n"
          ]
        }
      ],
      "source": [
        "import numpy as np\n",
        "\n",
        "# Define a 2x2 checkerboard pattern\n",
        "checkerboard_pattern = np.array([[0, 1],\n",
        "                                  [1, 0]])\n",
        "\n",
        "# Use the tile function to create an 8x8 checkerboard matrix\n",
        "checkerboard = np.tile(checkerboard_pattern, (4, 4))\n",
        "\n",
        "print(checkerboard)\n"
      ]
    },
    {
      "cell_type": "markdown",
      "metadata": {
        "id": "IZLImmQQzJDn"
      },
      "source": [
        "#### 22. Normalize a 5x5 random matrix (★☆☆)"
      ]
    },
    {
      "cell_type": "code",
      "execution_count": null,
      "metadata": {
        "id": "bTG2yxLMzJDn",
        "colab": {
          "base_uri": "https://localhost:8080/"
        },
        "outputId": "457fcb6a-80a4-4bdb-87e7-bc6820390573"
      },
      "outputs": [
        {
          "output_type": "stream",
          "name": "stdout",
          "text": [
            "Original Matrix:\n",
            "[[0.83283511 0.70283519 0.19508189 0.27405947 0.62841696]\n",
            " [0.76210657 0.94167443 0.02835645 0.33877851 0.31898016]\n",
            " [0.91824777 0.78157709 0.72213073 0.32160398 0.16212205]\n",
            " [0.94603921 0.67697945 0.59363631 0.76592498 0.53757927]\n",
            " [0.30837515 0.51353603 0.46620931 0.25453309 0.27756313]]\n",
            "\n",
            "Normalized Matrix:\n",
            "[[ 1.14424661  0.65180102 -1.27159155 -0.97242087  0.36990138]\n",
            " [ 0.87632369  1.55653489 -1.90315509 -0.72726223 -0.80225929]\n",
            " [ 1.46779367  0.95007889  0.72489339 -0.79232013 -1.39644492]\n",
            " [ 1.5730689   0.55385829  0.23815069  0.89078803  0.02580407]\n",
            " [-0.84243152 -0.06527281 -0.24454856 -1.04638769 -0.95914887]]\n"
          ]
        }
      ],
      "source": [
        "import numpy as np\n",
        "\n",
        "# Create a random 5x5 matrix\n",
        "random_matrix = np.random.rand(5, 5)\n",
        "\n",
        "# Calculate the mean and standard deviation of the matrix\n",
        "mean = np.mean(random_matrix)\n",
        "std_dev = np.std(random_matrix)\n",
        "\n",
        "# Normalize the matrix by subtracting the mean and dividing by the standard deviation\n",
        "normalized_matrix = (random_matrix - mean) / std_dev\n",
        "\n",
        "print(\"Original Matrix:\")\n",
        "print(random_matrix)\n",
        "print(\"\\nNormalized Matrix:\")\n",
        "print(normalized_matrix)\n"
      ]
    },
    {
      "cell_type": "markdown",
      "metadata": {
        "id": "80VRR0ouzJDo"
      },
      "source": [
        "#### 23. Create a custom dtype that describes a color as four unsigned bytes (RGBA) (★☆☆)"
      ]
    },
    {
      "cell_type": "code",
      "execution_count": null,
      "metadata": {
        "id": "BHNJScSjzJDo",
        "colab": {
          "base_uri": "https://localhost:8080/"
        },
        "outputId": "42c86c40-1c24-4149-a4a8-662fdbd4be8c"
      },
      "outputs": [
        {
          "output_type": "stream",
          "name": "stdout",
          "text": [
            "Custom RGBA Color:\n",
            "Red: 255\n",
            "Green: 0\n",
            "Blue: 0\n",
            "Alpha: 128\n"
          ]
        }
      ],
      "source": [
        "import numpy as np\n",
        "\n",
        "# Define a custom dtype for RGBA color\n",
        "rgba_dtype = np.dtype([\n",
        "    ('red', np.uint8),    # Red channel (8 bits)\n",
        "    ('green', np.uint8),  # Green channel (8 bits)\n",
        "    ('blue', np.uint8),   # Blue channel (8 bits)\n",
        "    ('alpha', np.uint8)   # Alpha channel (8 bits)\n",
        "])\n",
        "\n",
        "# Create an example color using the custom dtype\n",
        "color = np.array((255, 0, 0, 128), dtype=rgba_dtype)\n",
        "\n",
        "print(\"Custom RGBA Color:\")\n",
        "print(\"Red:\", color['red'])\n",
        "print(\"Green:\", color['green'])\n",
        "print(\"Blue:\", color['blue'])\n",
        "print(\"Alpha:\", color['alpha'])\n"
      ]
    },
    {
      "cell_type": "markdown",
      "metadata": {
        "id": "V0c6pJoazJDo"
      },
      "source": [
        "#### 24. Multiply a 5x3 matrix by a 3x2 matrix (real matrix product) (★☆☆)"
      ]
    },
    {
      "cell_type": "code",
      "execution_count": null,
      "metadata": {
        "id": "315gRnYtzJDo",
        "colab": {
          "base_uri": "https://localhost:8080/"
        },
        "outputId": "d745c289-eb73-472d-a53b-f09de41686bc"
      },
      "outputs": [
        {
          "output_type": "stream",
          "name": "stdout",
          "text": [
            "Matrix 1 (5x3):\n",
            "[[0.65789017 0.87908101 0.83077197]\n",
            " [0.17952976 0.95769684 0.83713767]\n",
            " [0.76207713 0.56889026 0.83159148]\n",
            " [0.92302064 0.76870075 0.21652669]\n",
            " [0.24566524 0.70920113 0.87966778]]\n",
            "\n",
            "Matrix 2 (3x2):\n",
            "[[0.92703258 0.64440266]\n",
            " [0.75867182 0.32097042]\n",
            " [0.6309999  0.33716695]]\n",
            "\n",
            "Result (5x2):\n",
            "[[1.80103664 0.98621403]\n",
            " [1.42124133 0.70533696]\n",
            " [1.66280548 0.95406664]\n",
            " [1.57549012 0.9145328 ]\n",
            " [1.32086087 0.68253482]]\n"
          ]
        }
      ],
      "source": [
        "import numpy as np\n",
        "\n",
        "# Create a 5x3 matrix\n",
        "matrix1 = np.random.rand(5, 3)\n",
        "\n",
        "# Create a 3x2 matrix\n",
        "matrix2 = np.random.rand(3, 2)\n",
        "\n",
        "# Perform matrix multiplication\n",
        "result = np.dot(matrix1, matrix2)\n",
        "\n",
        "# Alternatively, you can use the @ operator for matrix multiplication\n",
        "# result = matrix1 @ matrix2\n",
        "\n",
        "print(\"Matrix 1 (5x3):\")\n",
        "print(matrix1)\n",
        "print(\"\\nMatrix 2 (3x2):\")\n",
        "print(matrix2)\n",
        "print(\"\\nResult (5x2):\")\n",
        "print(result)\n"
      ]
    },
    {
      "cell_type": "markdown",
      "metadata": {
        "id": "H9hZ1CPVzJDo"
      },
      "source": [
        "#### 25. Given a 1D array, negate all elements which are between 3 and 8, in place. (★☆☆)"
      ]
    },
    {
      "cell_type": "code",
      "execution_count": null,
      "metadata": {
        "id": "CCvDr-HAzJDp",
        "colab": {
          "base_uri": "https://localhost:8080/"
        },
        "outputId": "cda6065a-b562-4d37-b94d-6236b371d5ef"
      },
      "outputs": [
        {
          "output_type": "stream",
          "name": "stdout",
          "text": [
            "[ 1 -4 -6  9  2 -7 -5 11  0]\n"
          ]
        }
      ],
      "source": [
        "import numpy as np\n",
        "\n",
        "# Create a 1D NumPy array\n",
        "arr = np.array([1, 4, 6, 9, 2, 7, 5, 11, 0])\n",
        "\n",
        "# Negate elements between 3 and 8 in place\n",
        "arr[(arr > 3) & (arr < 8)] *= -1\n",
        "\n",
        "# Print the modified array\n",
        "print(arr)\n"
      ]
    },
    {
      "cell_type": "markdown",
      "metadata": {
        "id": "UsbJJTTfzJDp"
      },
      "source": [
        "#### 26. What is the output of the following script? (★☆☆)\n",
        "```python\n",
        "# Author: Jake VanderPlas\n",
        "\n",
        "print(sum(range(5),-1))\n",
        "from numpy import *\n",
        "print(sum(range(5),-1))\n",
        "```"
      ]
    },
    {
      "cell_type": "code",
      "execution_count": null,
      "metadata": {
        "id": "jUys6N_FzJDp"
      },
      "outputs": [],
      "source": [
        "9\n",
        "Traceback (most recent call last):\n",
        "  File \"your_script_name.py\", line 4, in <module>\n",
        "    print(sum(range(5), -1))\n",
        "numpy.AxisError: axis -1 is out of bounds for array of dimension 0\n"
      ]
    },
    {
      "cell_type": "markdown",
      "metadata": {
        "id": "NfO-zv9ZzJDp"
      },
      "source": [
        "#### 27. Consider an integer vector Z, which of these expressions are legal? (★☆☆)\n",
        "```python\n",
        "Z**Z\n",
        "2 << Z >> 2\n",
        "Z <- Z\n",
        "1j*Z\n",
        "Z/1/1\n",
        "Z<Z>Z\n",
        "```"
      ]
    },
    {
      "cell_type": "code",
      "execution_count": null,
      "metadata": {
        "id": "e7oqV20AzJDp"
      },
      "outputs": [],
      "source": [
        "Z**Z: This expression raises Z to the power of itself. It is legal as long as Z contains non-negative integers, but it may result in very large numbers, and the result may not fit within the integer data type.\n",
        "\n",
        "2 << Z >> 2: This expression performs bitwise left shift and right shift operations. It is legal as long as Z contains non-negative integers.\n",
        "\n",
        "Z <- Z: This expression performs element-wise comparison for less than (<) between two vectors. It is legal, and the result will be a boolean array.\n",
        "\n",
        "1j*Z: This expression multiplies Z by the imaginary unit 1j. It is legal, and the result will be a complex number.\n",
        "\n",
        "Z/1/1: This expression performs division. It is legal, and the result will be a floating-point number, even if Z contains integers.\n",
        "\n",
        "Z<Z>Z: This expression involves chained comparisons. It checks if Z is less than Z and then if the result is greater than Z. This is legal, and the result will be a boolean value.\n",
        "\n",
        "In summary, all of the expressions are legal in Python, but the results may vary depending on the values in the integer vector Z."
      ]
    },
    {
      "cell_type": "markdown",
      "metadata": {
        "id": "UmqR3SpozJDq"
      },
      "source": [
        "#### 28. What are the result of the following expressions?\n",
        "```python\n",
        "np.array(0) / np.array(0)\n",
        "np.array(0) // np.array(0)\n",
        "np.array([np.nan]).astype(int).astype(float)\n",
        "```"
      ]
    },
    {
      "cell_type": "code",
      "execution_count": null,
      "metadata": {
        "id": "OphVVbXfzJDq"
      },
      "outputs": [],
      "source": [
        "np.array(0) / np.array(0) results in NaN (with a possible warning).\n",
        "np.array(0) // np.array(0) results in 0.\n",
        "np.array([np.nan]).astype(int).astype(float) results in an array containing a single element 0.0."
      ]
    },
    {
      "cell_type": "markdown",
      "metadata": {
        "id": "s_5ub-GfzJDq"
      },
      "source": [
        "#### 29. How to round away from zero a float array ? (★☆☆)"
      ]
    },
    {
      "cell_type": "code",
      "execution_count": null,
      "metadata": {
        "id": "DkGbaYdrzJDq",
        "colab": {
          "base_uri": "https://localhost:8080/"
        },
        "outputId": "503585f7-1080-4c88-ddb4-fb0f44099381"
      },
      "outputs": [
        {
          "output_type": "stream",
          "name": "stdout",
          "text": [
            "Original Float Array:\n",
            "[ 1.2  2.7 -3.4 -4.8  5.5]\n",
            "\n",
            "Rounded Array (Away from Zero):\n",
            "[ 2.  3. -3. -4.  6.]\n"
          ]
        }
      ],
      "source": [
        "import numpy as np\n",
        "\n",
        "# Create a float array\n",
        "float_array = np.array([1.2, 2.7, -3.4, -4.8, 5.5])\n",
        "\n",
        "# Round away from zero\n",
        "rounded_array = np.ceil(float_array)\n",
        "\n",
        "print(\"Original Float Array:\")\n",
        "print(float_array)\n",
        "print(\"\\nRounded Array (Away from Zero):\")\n",
        "print(rounded_array)\n"
      ]
    },
    {
      "cell_type": "markdown",
      "metadata": {
        "id": "COwpHR5XzJDq"
      },
      "source": [
        "#### 30. How to find common values between two arrays? (★☆☆)"
      ]
    },
    {
      "cell_type": "code",
      "execution_count": null,
      "metadata": {
        "id": "3e0xHq2_zJDr",
        "colab": {
          "base_uri": "https://localhost:8080/"
        },
        "outputId": "7e847d76-9b86-42f6-f4df-2e56feec94de"
      },
      "outputs": [
        {
          "output_type": "stream",
          "name": "stdout",
          "text": [
            "[3, 4, 5]\n"
          ]
        }
      ],
      "source": [
        "# Define two lists\n",
        "list1 = [1, 2, 3, 4, 5]\n",
        "list2 = [3, 4, 5, 6, 7]\n",
        "\n",
        "# Find common values using list comprehensions\n",
        "common_values = [value for value in list1 if value in list2]\n",
        "\n",
        "# common_values will now contain [3, 4, 5]\n",
        "print(common_values)\n"
      ]
    },
    {
      "cell_type": "markdown",
      "metadata": {
        "id": "7TXKtIIAzJDr"
      },
      "source": [
        "#### 31. How to ignore all numpy warnings (not recommended)? (★☆☆)"
      ]
    },
    {
      "cell_type": "code",
      "execution_count": null,
      "metadata": {
        "id": "eo9GkUZdzJDr",
        "colab": {
          "base_uri": "https://localhost:8080/"
        },
        "outputId": "07f39999-9e39-4f43-8c46-0b7ce15aaddb"
      },
      "outputs": [
        {
          "output_type": "stream",
          "name": "stdout",
          "text": [
            "[1.  0.5 inf]\n"
          ]
        }
      ],
      "source": [
        "import numpy as np\n",
        "import warnings\n",
        "\n",
        "# Create a NumPy array with a division by zero warning\n",
        "arr = np.array([1.0, 2.0, 0.0])\n",
        "with warnings.catch_warnings():\n",
        "    warnings.filterwarnings(\"ignore\", category=RuntimeWarning)\n",
        "    result = 1.0 / arr\n",
        "\n",
        "# The warning is suppressed for this block\n",
        "print(result)\n",
        "\n",
        "\n"
      ]
    },
    {
      "cell_type": "markdown",
      "metadata": {
        "id": "abx6Lz9MzJDr"
      },
      "source": [
        "#### 32. Is the following expressions true? (★☆☆)\n",
        "```python\n",
        "np.sqrt(-1) == np.emath.sqrt(-1)\n",
        "```"
      ]
    },
    {
      "cell_type": "code",
      "execution_count": null,
      "metadata": {
        "id": "ItM9YCWzzJDr"
      },
      "outputs": [],
      "source": [
        "True"
      ]
    },
    {
      "cell_type": "markdown",
      "metadata": {
        "id": "VfTpCYtAzJDr"
      },
      "source": [
        "#### 33. How to get the dates of yesterday, today and tomorrow? (★☆☆)"
      ]
    },
    {
      "cell_type": "code",
      "execution_count": null,
      "metadata": {
        "id": "gGZsKm1LzJDs",
        "colab": {
          "base_uri": "https://localhost:8080/"
        },
        "outputId": "9e20e863-7697-4910-c4c7-5c34580cdc99"
      },
      "outputs": [
        {
          "output_type": "stream",
          "name": "stdout",
          "text": [
            "Yesterday: 2023-09-19\n",
            "Today: 2023-09-20\n",
            "Tomorrow: 2023-09-21\n"
          ]
        }
      ],
      "source": [
        "from datetime import datetime, timedelta\n",
        "\n",
        "# Get the current date (today)\n",
        "today = datetime.now().date()\n",
        "\n",
        "# Calculate the dates for yesterday and tomorrow\n",
        "yesterday = today - timedelta(days=1)\n",
        "tomorrow = today + timedelta(days=1)\n",
        "\n",
        "# Print the results\n",
        "print(\"Yesterday:\", yesterday)\n",
        "print(\"Today:\", today)\n",
        "print(\"Tomorrow:\", tomorrow)\n"
      ]
    },
    {
      "cell_type": "markdown",
      "metadata": {
        "id": "WyuvEdp8zJDs"
      },
      "source": [
        "#### 34. How to get all the dates corresponding to the month of July 2016? (★★☆)"
      ]
    },
    {
      "cell_type": "code",
      "execution_count": null,
      "metadata": {
        "id": "Ewr3lk8MzJDs",
        "colab": {
          "base_uri": "https://localhost:8080/"
        },
        "outputId": "cd0c8fa9-692b-4eaf-92d1-2c7b412b18b5"
      },
      "outputs": [
        {
          "output_type": "stream",
          "name": "stdout",
          "text": [
            "2016-07-01\n",
            "2016-07-02\n",
            "2016-07-03\n",
            "2016-07-04\n",
            "2016-07-05\n",
            "2016-07-06\n",
            "2016-07-07\n",
            "2016-07-08\n",
            "2016-07-09\n",
            "2016-07-10\n",
            "2016-07-11\n",
            "2016-07-12\n",
            "2016-07-13\n",
            "2016-07-14\n",
            "2016-07-15\n",
            "2016-07-16\n",
            "2016-07-17\n",
            "2016-07-18\n",
            "2016-07-19\n",
            "2016-07-20\n",
            "2016-07-21\n",
            "2016-07-22\n",
            "2016-07-23\n",
            "2016-07-24\n",
            "2016-07-25\n",
            "2016-07-26\n",
            "2016-07-27\n",
            "2016-07-28\n",
            "2016-07-29\n",
            "2016-07-30\n",
            "2016-07-31\n"
          ]
        }
      ],
      "source": [
        "import calendar\n",
        "\n",
        "# Define the month and year\n",
        "year = 2016\n",
        "month = 7\n",
        "\n",
        "# Get the number of days in the specified month\n",
        "num_days = calendar.monthrange(year, month)[1]\n",
        "\n",
        "# Generate all the dates in the month of July 2016\n",
        "dates_in_july_2016 = [f\"{year}-{month:02d}-{day:02d}\" for day in range(1, num_days + 1)]\n",
        "\n",
        "# Print the list of dates\n",
        "for date in dates_in_july_2016:\n",
        "    print(date)\n",
        "\n"
      ]
    },
    {
      "cell_type": "markdown",
      "metadata": {
        "id": "sHI71ljqzJDs"
      },
      "source": [
        "#### 35. How to compute ((A+B)*(-A/2)) in place (without copy)? (★★☆)"
      ]
    },
    {
      "cell_type": "code",
      "execution_count": null,
      "metadata": {
        "id": "Xc0Oa8YEzJDs",
        "colab": {
          "base_uri": "https://localhost:8080/"
        },
        "outputId": "e9be693b-17aa-40bb-baf0-f482b6782adc"
      },
      "outputs": [
        {
          "output_type": "stream",
          "name": "stdout",
          "text": [
            "[15 15 15]\n"
          ]
        }
      ],
      "source": [
        "import numpy as np\n",
        "\n",
        "# Create NumPy arrays A and B\n",
        "A = np.array([1, 2, 3])\n",
        "B = np.array([4, 5, 6])\n",
        "\n",
        "# Compute the result in place\n",
        "result = np.empty_like(A)  # Create an empty array of the same shape as A\n",
        "np.multiply(A, -1, out=result)  # Multiply A by -1 and store the result in 'result' in place\n",
        "np.add(result, B, out=result)  # Add B to 'result' in place\n",
        "np.multiply(result, 5, out=result)  # Multiply 'result' by 5 in place\n",
        "\n",
        "# 'result' now contains the computed value ((A + B) * (-A / 2))\n",
        "print(result)\n"
      ]
    },
    {
      "cell_type": "markdown",
      "metadata": {
        "id": "H24Awa9xzJDt"
      },
      "source": [
        "#### 36. Extract the integer part of a random array using 5 different methods (★★☆)"
      ]
    },
    {
      "cell_type": "code",
      "execution_count": null,
      "metadata": {
        "id": "lzln3KXuzJDt",
        "colab": {
          "base_uri": "https://localhost:8080/"
        },
        "outputId": "ad7a284b-80e0-4de9-bc7c-69d7f482fe46"
      },
      "outputs": [
        {
          "output_type": "stream",
          "name": "stdout",
          "text": [
            "Method 1: Using numpy.floor\n",
            "[[3 8 0 5 3]\n",
            " [4 7 2 0 2]\n",
            " [1 6 2 5 0]\n",
            " [4 2 0 2 4]\n",
            " [3 8 7 4 6]]\n"
          ]
        }
      ],
      "source": [
        "import numpy as np\n",
        "\n",
        "# Create a random array with floats\n",
        "random_array = np.random.rand(5, 5) * 10\n",
        "\n",
        "# Extract the integer part using numpy.floor\n",
        "integer_part = np.floor(random_array).astype(int)\n",
        "\n",
        "print(\"Method 1: Using numpy.floor\")\n",
        "print(integer_part)\n"
      ]
    },
    {
      "cell_type": "code",
      "source": [
        "# Extract the integer part using numpy.trunc\n",
        "integer_part = np.trunc(random_array).astype(int)\n",
        "\n",
        "print(\"Method 2: Using numpy.trunc\")\n",
        "print(integer_part)\n"
      ],
      "metadata": {
        "colab": {
          "base_uri": "https://localhost:8080/"
        },
        "id": "54As5J0o9zJw",
        "outputId": "96b8cc90-476b-428a-a379-d8ba50576e37"
      },
      "execution_count": null,
      "outputs": [
        {
          "output_type": "stream",
          "name": "stdout",
          "text": [
            "Method 2: Using numpy.trunc\n",
            "[[3 8 0 5 3]\n",
            " [4 7 2 0 2]\n",
            " [1 6 2 5 0]\n",
            " [4 2 0 2 4]\n",
            " [3 8 7 4 6]]\n"
          ]
        }
      ]
    },
    {
      "cell_type": "code",
      "source": [
        "# Extract the integer part using numpy.astype(int)\n",
        "integer_part = random_array.astype(int)\n",
        "\n",
        "print(\"Method 3: Using numpy.astype(int)\")\n",
        "print(integer_part)\n"
      ],
      "metadata": {
        "colab": {
          "base_uri": "https://localhost:8080/"
        },
        "id": "obC7Fd6F94oV",
        "outputId": "a1660089-b4ad-4073-88a8-230510eafbea"
      },
      "execution_count": null,
      "outputs": [
        {
          "output_type": "stream",
          "name": "stdout",
          "text": [
            "Method 3: Using numpy.astype(int)\n",
            "[[3 8 0 5 3]\n",
            " [4 7 2 0 2]\n",
            " [1 6 2 5 0]\n",
            " [4 2 0 2 4]\n",
            " [3 8 7 4 6]]\n"
          ]
        }
      ]
    },
    {
      "cell_type": "code",
      "source": [
        "# Extract the integer part using numpy.rint\n",
        "integer_part = np.rint(random_array).astype(int)\n",
        "\n",
        "print(\"Method 4: Using numpy.rint\")\n",
        "print(integer_part)\n"
      ],
      "metadata": {
        "colab": {
          "base_uri": "https://localhost:8080/"
        },
        "id": "3hl1ADOQ97rb",
        "outputId": "ec851c29-6633-40a8-b2f9-32c722d2bfee"
      },
      "execution_count": null,
      "outputs": [
        {
          "output_type": "stream",
          "name": "stdout",
          "text": [
            "Method 4: Using numpy.rint\n",
            "[[4 9 0 6 4]\n",
            " [5 8 3 1 2]\n",
            " [2 7 3 5 0]\n",
            " [5 3 1 3 4]\n",
            " [3 9 8 4 7]]\n"
          ]
        }
      ]
    },
    {
      "cell_type": "code",
      "source": [
        "# Extract the integer part using Python's built-in int function (element-wise)\n",
        "integer_part = np.vectorize(int)(random_array)\n",
        "\n",
        "print(\"Method 5: Using Python's built-in int function\")\n",
        "print(integer_part)\n"
      ],
      "metadata": {
        "colab": {
          "base_uri": "https://localhost:8080/"
        },
        "id": "mEzMk82N99Ih",
        "outputId": "da707940-3a23-412a-d948-80d299cd08c9"
      },
      "execution_count": null,
      "outputs": [
        {
          "output_type": "stream",
          "name": "stdout",
          "text": [
            "Method 5: Using Python's built-in int function\n",
            "[[3 8 0 5 3]\n",
            " [4 7 2 0 2]\n",
            " [1 6 2 5 0]\n",
            " [4 2 0 2 4]\n",
            " [3 8 7 4 6]]\n"
          ]
        }
      ]
    },
    {
      "cell_type": "markdown",
      "metadata": {
        "id": "-TV1MZtEzJDt"
      },
      "source": [
        "#### 37. Create a 5x5 matrix with row values ranging from 0 to 4 (★★☆)"
      ]
    },
    {
      "cell_type": "code",
      "execution_count": null,
      "metadata": {
        "id": "tniWnhkXzJDt",
        "colab": {
          "base_uri": "https://localhost:8080/"
        },
        "outputId": "4ab3e21f-64a6-4e4a-c383-0b9ca75d256c"
      },
      "outputs": [
        {
          "output_type": "stream",
          "name": "stdout",
          "text": [
            "[[0 1 2 3 4]\n",
            " [0 1 2 3 4]\n",
            " [0 1 2 3 4]\n",
            " [0 1 2 3 4]\n",
            " [0 1 2 3 4]]\n"
          ]
        }
      ],
      "source": [
        "import numpy as np\n",
        "\n",
        "# Create a 5x5 matrix with row values ranging from 0 to 4\n",
        "matrix = np.tile(np.arange(5), (5, 1))\n",
        "\n",
        "print(matrix)\n"
      ]
    },
    {
      "cell_type": "markdown",
      "metadata": {
        "id": "5zvImEOXzJDt"
      },
      "source": [
        "#### 38. Consider a generator function that generates 10 integers and use it to build an array (★☆☆)"
      ]
    },
    {
      "cell_type": "code",
      "execution_count": null,
      "metadata": {
        "id": "j36SQbrXzJDu",
        "colab": {
          "base_uri": "https://localhost:8080/"
        },
        "outputId": "04ad59c8-697e-4f4f-ed8a-9e284bf78647"
      },
      "outputs": [
        {
          "output_type": "stream",
          "name": "stdout",
          "text": [
            "[0 1 2 3 4 5 6 7 8 9]\n"
          ]
        }
      ],
      "source": [
        "import numpy as np\n",
        "\n",
        "# Define a generator function to generate 10 integers\n",
        "def generate_integers(n):\n",
        "    for i in range(n):\n",
        "        yield i\n",
        "\n",
        "# Create an array from the generator using np.fromiter\n",
        "generator = generate_integers(10)\n",
        "integer_array = np.fromiter(generator, int)\n",
        "\n",
        "print(integer_array)\n"
      ]
    },
    {
      "cell_type": "markdown",
      "metadata": {
        "id": "lsaVxkh4zJDu"
      },
      "source": [
        "#### 39. Create a vector of size 10 with values ranging from 0 to 1, both excluded (★★☆)"
      ]
    },
    {
      "cell_type": "code",
      "execution_count": null,
      "metadata": {
        "id": "fo37A_mrzJDu",
        "colab": {
          "base_uri": "https://localhost:8080/"
        },
        "outputId": "ac959932-d849-4271-c96b-2541c0139cf0"
      },
      "outputs": [
        {
          "output_type": "stream",
          "name": "stdout",
          "text": [
            "[0.08333333 0.16666667 0.25       0.33333333 0.41666667 0.5\n",
            " 0.58333333 0.66666667 0.75       0.83333333]\n"
          ]
        }
      ],
      "source": [
        "import numpy as np\n",
        "\n",
        "# Create a vector of size 10 with values ranging from 0 to 1 (both excluded)\n",
        "vector = np.linspace(0, 1, 12, endpoint=False)[1:-1]\n",
        "\n",
        "print(vector)\n"
      ]
    },
    {
      "cell_type": "markdown",
      "metadata": {
        "id": "JgFKUJgizJDu"
      },
      "source": [
        "#### 40. Create a random vector of size 10 and sort it (★★☆)"
      ]
    },
    {
      "cell_type": "code",
      "execution_count": null,
      "metadata": {
        "id": "t4JZIWj9zJDv",
        "colab": {
          "base_uri": "https://localhost:8080/"
        },
        "outputId": "b8436a9e-bf7b-496f-dc9a-4f7cb8cbd472"
      },
      "outputs": [
        {
          "output_type": "stream",
          "name": "stdout",
          "text": [
            "Random Vector:\n",
            "[0.20017823 0.15115371 0.87551978 0.36369452 0.27424066 0.36694939\n",
            " 0.76253437 0.67732773 0.31355254 0.58425897]\n",
            "\n",
            "Sorted Vector:\n",
            "[0.15115371 0.20017823 0.27424066 0.31355254 0.36369452 0.36694939\n",
            " 0.58425897 0.67732773 0.76253437 0.87551978]\n"
          ]
        }
      ],
      "source": [
        "import numpy as np\n",
        "\n",
        "# Create a random vector of size 10\n",
        "random_vector = np.random.rand(10)\n",
        "\n",
        "# Sort the random vector\n",
        "sorted_vector = np.sort(random_vector)\n",
        "\n",
        "print(\"Random Vector:\")\n",
        "print(random_vector)\n",
        "print(\"\\nSorted Vector:\")\n",
        "print(sorted_vector)\n"
      ]
    },
    {
      "cell_type": "markdown",
      "metadata": {
        "id": "x8_k5v4jzJDv"
      },
      "source": [
        "#### 41. How to sum a small array faster than np.sum? (★★☆)"
      ]
    },
    {
      "cell_type": "code",
      "execution_count": null,
      "metadata": {
        "id": "nT3SA7n6zJDv",
        "colab": {
          "base_uri": "https://localhost:8080/"
        },
        "outputId": "08f0e7e6-dd7c-469f-cb55-a0f7ca56984f"
      },
      "outputs": [
        {
          "output_type": "stream",
          "name": "stdout",
          "text": [
            "np.sum: 0.031963 seconds\n",
            "Built-in sum: 0.069509 seconds\n",
            "+= operator: 0.091625 seconds\n"
          ]
        }
      ],
      "source": [
        "import numpy as np\n",
        "import timeit\n",
        "\n",
        "# Create a small array (e.g., 100 elements)\n",
        "small_array = np.arange(100)\n",
        "\n",
        "# Using np.sum\n",
        "def sum_with_np():\n",
        "    return np.sum(small_array)\n",
        "\n",
        "# Using built-in sum\n",
        "def sum_with_builtin_sum():\n",
        "    return sum(small_array)\n",
        "\n",
        "# Using += operator\n",
        "def sum_with_plus_equal():\n",
        "    result = 0\n",
        "    for item in small_array:\n",
        "        result += item\n",
        "    return result\n",
        "\n",
        "# Measure the time taken by each method\n",
        "np_time = timeit.timeit(sum_with_np, number=10000)\n",
        "builtin_sum_time = timeit.timeit(sum_with_builtin_sum, number=10000)\n",
        "plus_equal_time = timeit.timeit(sum_with_plus_equal, number=10000)\n",
        "\n",
        "print(f\"np.sum: {np_time:.6f} seconds\")\n",
        "print(f\"Built-in sum: {builtin_sum_time:.6f} seconds\")\n",
        "print(f\"+= operator: {plus_equal_time:.6f} seconds\")\n"
      ]
    },
    {
      "cell_type": "markdown",
      "metadata": {
        "id": "ZMQCjEj3zJDv"
      },
      "source": [
        "#### 42. Consider two random array A and B, check if they are equal (★★☆)"
      ]
    },
    {
      "cell_type": "code",
      "execution_count": null,
      "metadata": {
        "id": "M-arqXdEzJDv",
        "colab": {
          "base_uri": "https://localhost:8080/"
        },
        "outputId": "51d56a74-0185-434c-a41a-a73d5bdad084"
      },
      "outputs": [
        {
          "output_type": "stream",
          "name": "stdout",
          "text": [
            "Arrays A and B are not equal.\n"
          ]
        }
      ],
      "source": [
        "import numpy as np\n",
        "\n",
        "# Create two random arrays A and B\n",
        "A = np.random.rand(5, 5)\n",
        "B = np.random.rand(5, 5)\n",
        "\n",
        "# Check if the arrays are equal\n",
        "are_equal = np.array_equal(A, B)\n",
        "\n",
        "# Print the result\n",
        "if are_equal:\n",
        "    print(\"Arrays A and B are equal.\")\n",
        "else:\n",
        "    print(\"Arrays A and B are not equal.\")\n"
      ]
    },
    {
      "cell_type": "markdown",
      "metadata": {
        "id": "ZxmS3IeVzJDw"
      },
      "source": [
        "#### 43. Make an array immutable (read-only) (★★☆)"
      ]
    },
    {
      "cell_type": "code",
      "execution_count": null,
      "metadata": {
        "id": "sK-3n-3szJDw",
        "colab": {
          "base_uri": "https://localhost:8080/"
        },
        "outputId": "3e194451-8b2c-4021-9b4a-7e01ac915428"
      },
      "outputs": [
        {
          "output_type": "stream",
          "name": "stdout",
          "text": [
            "Error: assignment destination is read-only\n"
          ]
        }
      ],
      "source": [
        "import numpy as np\n",
        "\n",
        "# Create a NumPy array\n",
        "arr = np.array([1, 2, 3, 4, 5])\n",
        "\n",
        "# Make the array read-only\n",
        "arr.flags.writeable = False\n",
        "\n",
        "# Try to modify the array (this will raise an error)\n",
        "# For example, let's try to change the first element to 10\n",
        "try:\n",
        "    arr[0] = 10\n",
        "except ValueError as e:\n",
        "    print(f\"Error: {e}\")\n"
      ]
    },
    {
      "cell_type": "markdown",
      "metadata": {
        "id": "o_scha1gzJDw"
      },
      "source": [
        "#### 44. Consider a random 10x2 matrix representing cartesian coordinates, convert them to polar coordinates (★★☆)"
      ]
    },
    {
      "cell_type": "code",
      "execution_count": null,
      "metadata": {
        "id": "PHyWy0zhzJDw",
        "colab": {
          "base_uri": "https://localhost:8080/"
        },
        "outputId": "eb064962-7b76-4900-c772-c62011455b1f"
      },
      "outputs": [
        {
          "output_type": "stream",
          "name": "stdout",
          "text": [
            "Cartesian Coordinates:\n",
            "[[0.92731116 0.38731162]\n",
            " [0.49714884 0.97636921]\n",
            " [0.66877341 0.39167039]\n",
            " [0.66727031 0.82709342]\n",
            " [0.18246167 0.10783983]\n",
            " [0.13170315 0.0217637 ]\n",
            " [0.77590338 0.23636201]\n",
            " [0.90429353 0.74282946]\n",
            " [0.97825387 0.51769621]\n",
            " [0.88398875 0.70623961]]\n",
            "\n",
            "Polar Coordinates:\n",
            "[[1.00494591 0.39564717]\n",
            " [1.09565223 1.09983077]\n",
            " [0.77502488 0.52980481]\n",
            " [1.06270089 0.89194377]\n",
            " [0.21194738 0.53379582]\n",
            " [0.13348925 0.16376819]\n",
            " [0.81110607 0.29569738]\n",
            " [1.17027449 0.68768242]\n",
            " [1.10679267 0.48673722]\n",
            " [1.13146387 0.67408435]]\n"
          ]
        }
      ],
      "source": [
        "import numpy as np\n",
        "\n",
        "# Create a random 10x2 matrix representing Cartesian coordinates\n",
        "cartesian_coords = np.random.rand(10, 2)\n",
        "\n",
        "# Extract x and y components\n",
        "x = cartesian_coords[:, 0]\n",
        "y = cartesian_coords[:, 1]\n",
        "\n",
        "# Calculate the radial distance (r)\n",
        "r = np.sqrt(x**2 + y**2)\n",
        "\n",
        "# Calculate the polar angle (theta) in radians\n",
        "theta = np.arctan2(y, x)\n",
        "\n",
        "# Convert theta from radians to degrees if needed\n",
        "# theta_degrees = np.degrees(theta)\n",
        "\n",
        "# Create a 10x2 matrix representing polar coordinates\n",
        "polar_coords = np.column_stack((r, theta))\n",
        "\n",
        "print(\"Cartesian Coordinates:\")\n",
        "print(cartesian_coords)\n",
        "print(\"\\nPolar Coordinates:\")\n",
        "print(polar_coords)\n"
      ]
    },
    {
      "cell_type": "markdown",
      "metadata": {
        "id": "BjT2yNmJzJDw"
      },
      "source": [
        "#### 45. Create random vector of size 10 and replace the maximum value by 0 (★★☆)"
      ]
    },
    {
      "cell_type": "code",
      "execution_count": null,
      "metadata": {
        "id": "PIUepETizJDx",
        "colab": {
          "base_uri": "https://localhost:8080/"
        },
        "outputId": "6b691916-4291-4228-bf7e-e4a092f14bdb"
      },
      "outputs": [
        {
          "output_type": "stream",
          "name": "stdout",
          "text": [
            "Random Vector with Maximum Value Replaced:\n",
            "[0.85442192 0.11530742 0.58002585 0.51060354 0.         0.38867055\n",
            " 0.05926824 0.78684438 0.00930374 0.14071793]\n"
          ]
        }
      ],
      "source": [
        "import numpy as np\n",
        "\n",
        "# Create a random vector of size 10\n",
        "random_vector = np.random.rand(10)\n",
        "\n",
        "# Find the index of the maximum value\n",
        "max_index = np.argmax(random_vector)\n",
        "\n",
        "# Replace the maximum value with 0\n",
        "random_vector[max_index] = 0\n",
        "\n",
        "print(\"Random Vector with Maximum Value Replaced:\")\n",
        "print(random_vector)\n"
      ]
    },
    {
      "cell_type": "markdown",
      "metadata": {
        "id": "tAHRlWcOzJDx"
      },
      "source": [
        "#### 46. Create a structured array with `x` and `y` coordinates covering the [0,1]x[0,1] area (★★☆)"
      ]
    },
    {
      "cell_type": "code",
      "execution_count": null,
      "metadata": {
        "id": "zfFu5YXlzJDx",
        "colab": {
          "base_uri": "https://localhost:8080/"
        },
        "outputId": "a62ae962-8863-43e9-d7b7-260a57699b85"
      },
      "outputs": [
        {
          "output_type": "stream",
          "name": "stdout",
          "text": [
            "[[(0.  , 0.  ) (0.25, 0.25) (0.5 , 0.5 ) (0.75, 0.75) (1.  , 1.  )\n",
            "  (0.  , 0.  ) (0.25, 0.25) (0.5 , 0.5 ) (0.75, 0.75) (1.  , 1.  )\n",
            "  (0.  , 0.  ) (0.25, 0.25) (0.5 , 0.5 ) (0.75, 0.75) (1.  , 1.  )\n",
            "  (0.  , 0.  ) (0.25, 0.25) (0.5 , 0.5 ) (0.75, 0.75) (1.  , 1.  )\n",
            "  (0.  , 0.  ) (0.25, 0.25) (0.5 , 0.5 ) (0.75, 0.75) (1.  , 1.  )]\n",
            " [(0.  , 0.  ) (0.  , 0.  ) (0.  , 0.  ) (0.  , 0.  ) (0.  , 0.  )\n",
            "  (0.25, 0.25) (0.25, 0.25) (0.25, 0.25) (0.25, 0.25) (0.25, 0.25)\n",
            "  (0.5 , 0.5 ) (0.5 , 0.5 ) (0.5 , 0.5 ) (0.5 , 0.5 ) (0.5 , 0.5 )\n",
            "  (0.75, 0.75) (0.75, 0.75) (0.75, 0.75) (0.75, 0.75) (0.75, 0.75)\n",
            "  (1.  , 1.  ) (1.  , 1.  ) (1.  , 1.  ) (1.  , 1.  ) (1.  , 1.  )]]\n"
          ]
        }
      ],
      "source": [
        "import numpy as np\n",
        "\n",
        "# Define the number of points in each direction\n",
        "num_points = 5  # You can change this to your desired number of points\n",
        "\n",
        "# Create a grid of x and y coordinates covering the [0, 1] x [0, 1] area\n",
        "x_coords = np.linspace(0, 1, num_points)\n",
        "y_coords = np.linspace(0, 1, num_points)\n",
        "\n",
        "# Use np.meshgrid to create a grid of (x, y) coordinates\n",
        "x, y = np.meshgrid(x_coords, y_coords)\n",
        "\n",
        "# Create a structured array with x and y coordinates\n",
        "structured_array = np.array([x.flatten(), y.flatten()], dtype=[('x', 'f8'), ('y', 'f8')])\n",
        "\n",
        "# Print the structured array\n",
        "print(structured_array)\n"
      ]
    },
    {
      "cell_type": "markdown",
      "metadata": {
        "id": "PgK3_S_ZzJDx"
      },
      "source": [
        "#### 47. Given two arrays, X and Y, construct the Cauchy matrix C (Cij =1/(xi - yj))"
      ]
    },
    {
      "cell_type": "code",
      "execution_count": null,
      "metadata": {
        "id": "gWPOM7LezJDx",
        "colab": {
          "base_uri": "https://localhost:8080/"
        },
        "outputId": "af864482-a12d-454f-ad44-35b3434aff47"
      },
      "outputs": [
        {
          "output_type": "stream",
          "name": "stdout",
          "text": [
            "Cauchy Matrix C:\n",
            "[[-0.33333333 -0.25       -0.2       ]\n",
            " [-0.5        -0.33333333 -0.25      ]\n",
            " [-1.         -0.5        -0.33333333]]\n"
          ]
        }
      ],
      "source": [
        "import numpy as np\n",
        "\n",
        "# Define arrays X and Y\n",
        "X = np.array([1, 2, 3])\n",
        "Y = np.array([4, 5, 6])\n",
        "\n",
        "# Calculate the Cauchy matrix C\n",
        "C = 1.0 / (X[:, np.newaxis] - Y)\n",
        "\n",
        "print(\"Cauchy Matrix C:\")\n",
        "print(C)\n"
      ]
    },
    {
      "cell_type": "markdown",
      "metadata": {
        "id": "ebmrUnFtzJDx"
      },
      "source": [
        "#### 48. Print the minimum and maximum representable value for each numpy scalar type (★★☆)"
      ]
    },
    {
      "cell_type": "code",
      "execution_count": null,
      "metadata": {
        "id": "QnClYCEOzJDy",
        "colab": {
          "base_uri": "https://localhost:8080/"
        },
        "outputId": "b1dadf65-54cb-4fba-cdca-ceb44d7d2dd5"
      },
      "outputs": [
        {
          "output_type": "stream",
          "name": "stdout",
          "text": [
            "Integer Data Types:\n",
            "<class 'numpy.int8'>:\n",
            "  Min: -128\n",
            "  Max: 127\n",
            "<class 'numpy.int16'>:\n",
            "  Min: -32768\n",
            "  Max: 32767\n",
            "<class 'numpy.int32'>:\n",
            "  Min: -2147483648\n",
            "  Max: 2147483647\n",
            "<class 'numpy.int64'>:\n",
            "  Min: -9223372036854775808\n",
            "  Max: 9223372036854775807\n",
            "\n",
            "Unsigned Integer Data Types:\n",
            "<class 'numpy.uint8'>:\n",
            "  Min: 0\n",
            "  Max: 255\n",
            "<class 'numpy.uint16'>:\n",
            "  Min: 0\n",
            "  Max: 65535\n",
            "<class 'numpy.uint32'>:\n",
            "  Min: 0\n",
            "  Max: 4294967295\n",
            "<class 'numpy.uint64'>:\n",
            "  Min: 0\n",
            "  Max: 18446744073709551615\n",
            "\n",
            "Floating-Point Data Types:\n",
            "<class 'numpy.float16'>:\n",
            "  Min: -65504.0\n",
            "  Max: 65504.0\n",
            "<class 'numpy.float32'>:\n",
            "  Min: -3.4028234663852886e+38\n",
            "  Max: 3.4028234663852886e+38\n",
            "<class 'numpy.float64'>:\n",
            "  Min: -1.7976931348623157e+308\n",
            "  Max: 1.7976931348623157e+308\n",
            "<class 'numpy.float128'>:\n",
            "  Min: -inf\n",
            "  Max: inf\n"
          ]
        }
      ],
      "source": [
        "import numpy as np\n",
        "\n",
        "# Integer data types\n",
        "int_types = [np.int8, np.int16, np.int32, np.int64]\n",
        "uint_types = [np.uint8, np.uint16, np.uint32, np.uint64]\n",
        "\n",
        "print(\"Integer Data Types:\")\n",
        "for int_type in int_types:\n",
        "    info = np.iinfo(int_type)\n",
        "    print(f\"{int_type}:\")\n",
        "    print(f\"  Min: {info.min}\")\n",
        "    print(f\"  Max: {info.max}\")\n",
        "\n",
        "print(\"\\nUnsigned Integer Data Types:\")\n",
        "for uint_type in uint_types:\n",
        "    info = np.iinfo(uint_type)\n",
        "    print(f\"{uint_type}:\")\n",
        "    print(f\"  Min: {info.min}\")\n",
        "    print(f\"  Max: {info.max}\")\n",
        "\n",
        "# Floating-point data types\n",
        "float_types = [np.float16, np.float32, np.float64, np.float128]\n",
        "\n",
        "print(\"\\nFloating-Point Data Types:\")\n",
        "for float_type in float_types:\n",
        "    info = np.finfo(float_type)\n",
        "    print(f\"{float_type}:\")\n",
        "    print(f\"  Min: {info.min}\")\n",
        "    print(f\"  Max: {info.max}\")\n"
      ]
    },
    {
      "cell_type": "markdown",
      "metadata": {
        "id": "oLnuKKnTzJDy"
      },
      "source": [
        "#### 49. How to print all the values of an array? (★★☆)"
      ]
    },
    {
      "cell_type": "code",
      "execution_count": null,
      "metadata": {
        "id": "ykdAzXezzJDy",
        "colab": {
          "base_uri": "https://localhost:8080/"
        },
        "outputId": "42ca42f0-4818-4f8d-a97b-719aef12a37e"
      },
      "outputs": [
        {
          "output_type": "stream",
          "name": "stdout",
          "text": [
            "All Values in the Array:\n",
            "[1 2 3 4 5]\n"
          ]
        }
      ],
      "source": [
        "import numpy as np\n",
        "\n",
        "# Create a NumPy array\n",
        "my_array = np.array([1, 2, 3, 4, 5])\n",
        "\n",
        "# Print all the values of the array\n",
        "print(\"All Values in the Array:\")\n",
        "print(my_array)\n"
      ]
    },
    {
      "cell_type": "markdown",
      "metadata": {
        "id": "yZ06RTMWzJDy"
      },
      "source": [
        "#### 50. How to find the closest value (to a given scalar) in a vector? (★★☆)"
      ]
    },
    {
      "cell_type": "code",
      "execution_count": null,
      "metadata": {
        "id": "uG5p9f9zzJDy",
        "colab": {
          "base_uri": "https://localhost:8080/"
        },
        "outputId": "08fd1eaa-c049-4611-9742-6b73823d0283"
      },
      "outputs": [
        {
          "output_type": "stream",
          "name": "stdout",
          "text": [
            "Vector: [1.2 3.4 5.6 7.8 9. ]\n",
            "Target Scalar: 4.0\n",
            "Closest Value: 3.4\n"
          ]
        }
      ],
      "source": [
        "import numpy as np\n",
        "\n",
        "# Create a vector (array)\n",
        "vector = np.array([1.2, 3.4, 5.6, 7.8, 9.0])\n",
        "\n",
        "# Target scalar\n",
        "target = 4.0\n",
        "\n",
        "# Calculate the absolute differences between the target and vector elements\n",
        "abs_diff = np.abs(vector - target)\n",
        "\n",
        "# Find the index of the minimum absolute difference\n",
        "closest_index = np.argmin(abs_diff)\n",
        "\n",
        "# Find the closest value\n",
        "closest_value = vector[closest_index]\n",
        "\n",
        "print(\"Vector:\", vector)\n",
        "print(\"Target Scalar:\", target)\n",
        "print(\"Closest Value:\", closest_value)\n"
      ]
    },
    {
      "cell_type": "markdown",
      "metadata": {
        "id": "vtt5-hWLzJDz"
      },
      "source": [
        "#### 51. Create a structured array representing a position (x,y) and a color (r,g,b) (★★☆)"
      ]
    },
    {
      "cell_type": "code",
      "execution_count": null,
      "metadata": {
        "id": "US9rrTbLzJDz",
        "colab": {
          "base_uri": "https://localhost:8080/"
        },
        "outputId": "78d31078-6825-44d3-be80-2d8b8c2df6d1"
      },
      "outputs": [
        {
          "output_type": "stream",
          "name": "stdout",
          "text": [
            "Element 1 - Position: (1., 2.) Color: (255, 0, 0)\n",
            "Element 2 - Position: (3.5, 4.5) Color: (0, 128, 255)\n"
          ]
        }
      ],
      "source": [
        "import numpy as np\n",
        "\n",
        "# Define the structured data type with fields for position and color\n",
        "dtype = np.dtype([('position', [('x', float), ('y', float)]),\n",
        "                  ('color', [('r', int), ('g', int), ('b', int)])])\n",
        "\n",
        "# Create a structured array with sample data\n",
        "data = np.array([((1.0, 2.0), (255, 0, 0)),  # Example entry 1\n",
        "                 ((3.5, 4.5), (0, 128, 255)),  # Example entry 2\n",
        "                 ((0.0, 0.0), (128, 128, 128))], dtype=dtype)\n",
        "\n",
        "# Access elements in the structured array\n",
        "print(\"Element 1 - Position:\", data['position'][0], \"Color:\", data['color'][0])\n",
        "print(\"Element 2 - Position:\", data['position'][1], \"Color:\", data['color'][1])\n"
      ]
    },
    {
      "cell_type": "markdown",
      "metadata": {
        "id": "rK59KjuVzJDz"
      },
      "source": [
        "#### 52. Consider a random vector with shape (100,2) representing coordinates, find point by point distances (★★☆)"
      ]
    },
    {
      "cell_type": "code",
      "execution_count": null,
      "metadata": {
        "id": "Ms7FIc9IzJDz",
        "colab": {
          "base_uri": "https://localhost:8080/"
        },
        "outputId": "9646b3d7-5b0b-4940-8e3b-e92acf7700ae"
      },
      "outputs": [
        {
          "output_type": "stream",
          "name": "stdout",
          "text": [
            "[[0.         0.1786471  0.14306129 ... 0.29476183 0.56184    0.5654225 ]\n",
            " [0.1786471  0.         0.20562852 ... 0.14721688 0.47464981 0.55582212]\n",
            " [0.14306129 0.20562852 0.         ... 0.35206592 0.43796338 0.42237997]\n",
            " ...\n",
            " [0.29476183 0.14721688 0.35206592 ... 0.         0.5639395  0.68382195]\n",
            " [0.56184    0.47464981 0.43796338 ... 0.5639395  0.         0.24721062]\n",
            " [0.5654225  0.55582212 0.42237997 ... 0.68382195 0.24721062 0.        ]]\n"
          ]
        }
      ],
      "source": [
        "import numpy as np\n",
        "from scipy.spatial import distance\n",
        "\n",
        "# Create a random vector with shape (100, 2) representing coordinates\n",
        "np.random.seed(0)  # For reproducibility\n",
        "coordinates = np.random.rand(100, 2)\n",
        "\n",
        "# Calculate point-by-point distances using cdist\n",
        "distances = distance.cdist(coordinates, coordinates, 'euclidean')\n",
        "\n",
        "# Print the distances matrix\n",
        "print(distances)\n"
      ]
    },
    {
      "cell_type": "markdown",
      "metadata": {
        "id": "jmBUWR-bzJDz"
      },
      "source": [
        "#### 53. How to convert a float (32 bits) array into an integer (32 bits) in place?"
      ]
    },
    {
      "cell_type": "code",
      "execution_count": null,
      "metadata": {
        "id": "91aTjgdGzJD0",
        "colab": {
          "base_uri": "https://localhost:8080/"
        },
        "outputId": "db2cf4b4-1d4a-4c36-9c6d-529b8a8bd5ae"
      },
      "outputs": [
        {
          "output_type": "stream",
          "name": "stdout",
          "text": [
            "[1 2 3 4 5]\n"
          ]
        }
      ],
      "source": [
        "import numpy as np\n",
        "\n",
        "# Create a float (32 bits) array\n",
        "float_array = np.array([1.2, 2.5, 3.7, 4.0, 5.8], dtype=np.float32)\n",
        "\n",
        "# Convert the float array to an integer (32 bits) array in place\n",
        "float_array = float_array.astype(np.int32)\n",
        "\n",
        "# Print the resulting integer array\n",
        "print(float_array)\n"
      ]
    },
    {
      "cell_type": "markdown",
      "metadata": {
        "id": "G6UqX_hbzJD0"
      },
      "source": [
        "#### 54. How to read the following file? (★★☆)\n",
        "```\n",
        "1, 2, 3, 4, 5\n",
        "6,  ,  , 7, 8\n",
        " ,  , 9,10,11\n",
        "```"
      ]
    },
    {
      "cell_type": "code",
      "execution_count": null,
      "metadata": {
        "id": "W3NHmT84zJD0",
        "colab": {
          "base_uri": "https://localhost:8080/",
          "height": 245
        },
        "outputId": "612fa857-ad83-4cd2-d6ba-95c10d042d76"
      },
      "outputs": [
        {
          "output_type": "error",
          "ename": "AttributeError",
          "evalue": "ignored",
          "traceback": [
            "\u001b[0;31m---------------------------------------------------------------------------\u001b[0m",
            "\u001b[0;31mAttributeError\u001b[0m                            Traceback (most recent call last)",
            "\u001b[0;32m<ipython-input-7-dcbfc7f6f3f2>\u001b[0m in \u001b[0;36m<cell line: 8>\u001b[0;34m()\u001b[0m\n\u001b[1;32m      6\u001b[0m \u001b[0;31m# Define the delimiter as ',' and specify the dtype as float\u001b[0m\u001b[0;34m\u001b[0m\u001b[0;34m\u001b[0m\u001b[0m\n\u001b[1;32m      7\u001b[0m \u001b[0;31m# Use np.nan to represent missing values\u001b[0m\u001b[0;34m\u001b[0m\u001b[0;34m\u001b[0m\u001b[0m\n\u001b[0;32m----> 8\u001b[0;31m \u001b[0mdata\u001b[0m \u001b[0;34m=\u001b[0m \u001b[0mnp\u001b[0m\u001b[0;34m.\u001b[0m\u001b[0mgenfromtxt\u001b[0m\u001b[0;34m(\u001b[0m\u001b[0mdata\u001b[0m\u001b[0;34m.\u001b[0m\u001b[0mcsv\u001b[0m\u001b[0;34m,\u001b[0m \u001b[0mdelimiter\u001b[0m\u001b[0;34m=\u001b[0m\u001b[0;34m','\u001b[0m\u001b[0;34m,\u001b[0m \u001b[0mdtype\u001b[0m\u001b[0;34m=\u001b[0m\u001b[0mfloat\u001b[0m\u001b[0;34m,\u001b[0m \u001b[0mmissing_values\u001b[0m\u001b[0;34m=\u001b[0m\u001b[0;34m' 8'\u001b[0m\u001b[0;34m,\u001b[0m \u001b[0mfilling_values\u001b[0m\u001b[0;34m=\u001b[0m\u001b[0mnp\u001b[0m\u001b[0;34m.\u001b[0m\u001b[0mnan\u001b[0m\u001b[0;34m)\u001b[0m\u001b[0;34m\u001b[0m\u001b[0;34m\u001b[0m\u001b[0m\n\u001b[0m\u001b[1;32m      9\u001b[0m \u001b[0;34m\u001b[0m\u001b[0m\n\u001b[1;32m     10\u001b[0m \u001b[0;31m# Print the resulting NumPy array\u001b[0m\u001b[0;34m\u001b[0m\u001b[0;34m\u001b[0m\u001b[0m\n",
            "\u001b[0;31mAttributeError\u001b[0m: 'numpy.ndarray' object has no attribute 'csv'"
          ]
        }
      ],
      "source": [
        "import numpy as np\n",
        "\n",
        "# Define the filename\n",
        "filename = 'data.csv'  # Replace 'your_file.csv' with the actual file path\n",
        "\n",
        "# Define the delimiter as ',' and specify the dtype as float\n",
        "# Use np.nan to represent missing values\n",
        "data = np.genfromtxt(data.csv, delimiter=',', dtype=float, missing_values=' 8', filling_values=np.nan)\n",
        "\n",
        "# Print the resulting NumPy array\n",
        "print(data)\n",
        "\n"
      ]
    },
    {
      "cell_type": "markdown",
      "metadata": {
        "id": "e7a_4q0zzJD0"
      },
      "source": [
        "#### 55. What is the equivalent of enumerate for numpy arrays? (★★☆)"
      ]
    },
    {
      "cell_type": "code",
      "execution_count": null,
      "metadata": {
        "id": "EBCkrLDMzJD0",
        "colab": {
          "base_uri": "https://localhost:8080/"
        },
        "outputId": "0717b49c-88c9-4124-edac-89e4597c3244"
      },
      "outputs": [
        {
          "output_type": "stream",
          "name": "stdout",
          "text": [
            "Index: (0, 0) Value: 1\n",
            "Index: (0, 1) Value: 2\n",
            "Index: (0, 2) Value: 3\n",
            "Index: (1, 0) Value: 4\n",
            "Index: (1, 1) Value: 5\n",
            "Index: (1, 2) Value: 6\n",
            "Index: (2, 0) Value: 7\n",
            "Index: (2, 1) Value: 8\n",
            "Index: (2, 2) Value: 9\n"
          ]
        }
      ],
      "source": [
        "import numpy as np\n",
        "\n",
        "# Create a NumPy array\n",
        "arr = np.array([[1, 2, 3],\n",
        "                [4, 5, 6],\n",
        "                [7, 8, 9]])\n",
        "\n",
        "# Use numpy.ndenumerate to iterate over indices and values\n",
        "for index, value in np.ndenumerate(arr):\n",
        "    print(\"Index:\", index, \"Value:\", value)\n"
      ]
    },
    {
      "cell_type": "markdown",
      "metadata": {
        "id": "zTjaO-vRzJD1"
      },
      "source": [
        "#### 56. Generate a generic 2D Gaussian-like array (★★☆)"
      ]
    },
    {
      "cell_type": "code",
      "execution_count": null,
      "metadata": {
        "id": "YuA-C6GuzJD1",
        "colab": {
          "base_uri": "https://localhost:8080/",
          "height": 472
        },
        "outputId": "c82e1b5b-1285-4cad-f029-17a34564a345"
      },
      "outputs": [
        {
          "output_type": "display_data",
          "data": {
            "text/plain": [
              "<Figure size 640x480 with 2 Axes>"
            ],
            "image/png": "[encoded data removed]"
          },
          "metadata": {}
        }
      ],
      "source": [
        "import numpy as np\n",
        "import matplotlib.pyplot as plt\n",
        "\n",
        "# Define the parameters for the Gaussian function\n",
        "A = 1.0  # Amplitude\n",
        "x0 = 0.0  # Mean in the x-direction\n",
        "y0 = 0.0  # Mean in the y-direction\n",
        "sigma_x = 1.0  # Standard deviation in the x-direction\n",
        "sigma_y = 1.0  # Standard deviation in the y-direction\n",
        "\n",
        "# Create a grid of x and y values\n",
        "x = np.linspace(-5, 5, 100)  # Adjust the range and number of points as needed\n",
        "y = np.linspace(-5, 5, 100)\n",
        "x, y = np.meshgrid(x, y)\n",
        "\n",
        "# Compute the Gaussian function for each point on the grid\n",
        "gaussian_array = A * np.exp(-((x - x0)**2 / (2 * sigma_x**2) + (y - y0)**2 / (2 * sigma_y**2)))\n",
        "\n",
        "# Plot the Gaussian-like array\n",
        "plt.imshow(gaussian_array, cmap='viridis', extent=(-5, 5, -5, 5), origin='lower')\n",
        "plt.colorbar()\n",
        "plt.title('2D Gaussian-like Array')\n",
        "plt.xlabel('X')\n",
        "plt.ylabel('Y')\n",
        "plt.show()\n"
      ]
    },
    {
      "cell_type": "markdown",
      "metadata": {
        "id": "XM1ugQ3xzJD1"
      },
      "source": [
        "#### 57. How to randomly place p elements in a 2D array? (★★☆)"
      ]
    },
    {
      "cell_type": "code",
      "execution_count": null,
      "metadata": {
        "id": "YFwVN9WCzJD1",
        "colab": {
          "base_uri": "https://localhost:8080/"
        },
        "outputId": "21e664f9-4267-42a5-fbbf-cefc9c39a11f"
      },
      "outputs": [
        {
          "output_type": "stream",
          "name": "stdout",
          "text": [
            "[[1 0 0 0 0]\n",
            " [0 0 0 0 1]\n",
            " [0 1 0 0 1]\n",
            " [0 0 0 1 0]\n",
            " [0 1 0 0 0]]\n"
          ]
        }
      ],
      "source": [
        "import numpy as np\n",
        "\n",
        "# Define the dimensions of the 2D array\n",
        "rows = 5\n",
        "cols = 5\n",
        "\n",
        "# Define the number of elements to randomly place\n",
        "p = 7\n",
        "\n",
        "# Create an empty 2D array filled with zeros\n",
        "array_2d = np.zeros((rows, cols), dtype=int)\n",
        "\n",
        "# Generate 'p' random coordinates within the array dimensions\n",
        "random_coordinates = np.random.randint(0, rows*cols, size=p)\n",
        "random_rows = random_coordinates // cols\n",
        "random_cols = random_coordinates % cols\n",
        "\n",
        "# Place the elements (e.g., 1) at the randomly generated coordinates\n",
        "array_2d[random_rows, random_cols] = 1\n",
        "\n",
        "# Print the resulting 2D array\n",
        "print(array_2d)\n",
        "\n",
        "\n"
      ]
    },
    {
      "cell_type": "markdown",
      "metadata": {
        "id": "zHMPU1whzJD1"
      },
      "source": [
        "#### 58. Subtract the mean of each row of a matrix (★★☆)"
      ]
    },
    {
      "cell_type": "code",
      "execution_count": null,
      "metadata": {
        "id": "iIMS2mB8zJD1",
        "colab": {
          "base_uri": "https://localhost:8080/"
        },
        "outputId": "07e91239-ffc5-434a-fd36-06fe765c9b81"
      },
      "outputs": [
        {
          "output_type": "stream",
          "name": "stdout",
          "text": [
            "Original Matrix:\n",
            "[[1 2 3]\n",
            " [4 5 6]\n",
            " [7 8 9]]\n",
            "\n",
            "Matrix with Row Means Subtracted:\n",
            "[[-1.  0.  1.]\n",
            " [-1.  0.  1.]\n",
            " [-1.  0.  1.]]\n"
          ]
        }
      ],
      "source": [
        "import numpy as np\n",
        "\n",
        "# Create a sample matrix (replace this with your own matrix)\n",
        "matrix = np.array([[1, 2, 3],\n",
        "                   [4, 5, 6],\n",
        "                   [7, 8, 9]])\n",
        "\n",
        "# Calculate the mean of each row\n",
        "row_means = np.mean(matrix, axis=1, keepdims=True)\n",
        "\n",
        "# Subtract the row means from the matrix\n",
        "matrix_minus_mean = matrix - row_means\n",
        "\n",
        "# Print the original matrix and the matrix with row means subtracted\n",
        "print(\"Original Matrix:\")\n",
        "print(matrix)\n",
        "print(\"\\nMatrix with Row Means Subtracted:\")\n",
        "print(matrix_minus_mean)\n"
      ]
    },
    {
      "cell_type": "markdown",
      "metadata": {
        "id": "IouVAJN3zJD2"
      },
      "source": [
        "#### 59. How to sort an array by the nth column? (★★☆)"
      ]
    },
    {
      "cell_type": "code",
      "execution_count": null,
      "metadata": {
        "id": "ETLFceLpzJD2",
        "colab": {
          "base_uri": "https://localhost:8080/"
        },
        "outputId": "b1469888-fd30-451b-9c75-122325a1087c"
      },
      "outputs": [
        {
          "output_type": "stream",
          "name": "stdout",
          "text": [
            "Original Array:\n",
            "[[3 5 2]\n",
            " [1 8 4]\n",
            " [9 2 6]]\n",
            "\n",
            "Sorted Array by Column 1 :\n",
            "[[9 2 6]\n",
            " [3 5 2]\n",
            " [1 8 4]]\n"
          ]
        }
      ],
      "source": [
        "import numpy as np\n",
        "\n",
        "# Create a sample 2D array\n",
        "array = np.array([[3, 5, 2],\n",
        "                  [1, 8, 4],\n",
        "                  [9, 2, 6]])\n",
        "\n",
        "# Define the column index (n) by which you want to sort\n",
        "n = 1  # Sort by the second column (index 1)\n",
        "\n",
        "# Get the indices that would sort the array by the nth column\n",
        "sorted_indices = np.argsort(array[:, n])\n",
        "\n",
        "# Sort the array by rearranging rows based on the sorted indices\n",
        "sorted_array = array[sorted_indices]\n",
        "\n",
        "# Print the original and sorted arrays\n",
        "print(\"Original Array:\")\n",
        "print(array)\n",
        "print(\"\\nSorted Array by Column\", n, \":\")\n",
        "print(sorted_array)\n"
      ]
    },
    {
      "cell_type": "markdown",
      "metadata": {
        "id": "RfsuO8UlzJD2"
      },
      "source": [
        "#### 60. How to tell if a given 2D array has null columns? (★★☆)"
      ]
    },
    {
      "cell_type": "code",
      "execution_count": null,
      "metadata": {
        "id": "PSwbQ9JuzJD2",
        "colab": {
          "base_uri": "https://localhost:8080/"
        },
        "outputId": "d6dd3602-5628-4d19-d0c3-673d423111fa"
      },
      "outputs": [
        {
          "output_type": "stream",
          "name": "stdout",
          "text": [
            "The array does not have null columns.\n"
          ]
        }
      ],
      "source": [
        "import numpy as np\n",
        "\n",
        "# Create a sample 2D array (replace this with your own array)\n",
        "array = np.array([[0, 1, 0],\n",
        "                  [0, 0, 0],\n",
        "                  [1, 2, 3]])\n",
        "\n",
        "# Check if any column has a sum equal to zero\n",
        "null_columns = np.any(np.sum(array, axis=0) == 0)\n",
        "\n",
        "# Print the result\n",
        "if null_columns:\n",
        "    print(\"The array has null columns.\")\n",
        "else:\n",
        "    print(\"The array does not have null columns.\")\n"
      ]
    },
    {
      "cell_type": "markdown",
      "metadata": {
        "id": "e8ASxCMFzJD2"
      },
      "source": [
        "#### 61. Find the nearest value from a given value in an array (★★☆)"
      ]
    },
    {
      "cell_type": "code",
      "execution_count": null,
      "metadata": {
        "id": "fizIaIRWzJD3",
        "colab": {
          "base_uri": "https://localhost:8080/"
        },
        "outputId": "3fd6d240-14f6-488f-a6c6-394c06f30391"
      },
      "outputs": [
        {
          "output_type": "stream",
          "name": "stdout",
          "text": [
            "Target Value: 22\n",
            "Nearest Value: 20\n",
            "Index of Nearest Value: 2\n"
          ]
        }
      ],
      "source": [
        "import numpy as np\n",
        "\n",
        "# Create a sample NumPy array (replace this with your own array)\n",
        "array = np.array([10, 15, 20, 25, 30])\n",
        "\n",
        "# Define the target value\n",
        "target_value = 22\n",
        "\n",
        "# Calculate the absolute differences between each element and the target value\n",
        "absolute_differences = np.abs(array - target_value)\n",
        "\n",
        "# Find the index of the element with the smallest absolute difference\n",
        "nearest_index = np.argmin(absolute_differences)\n",
        "\n",
        "# Get the nearest value\n",
        "nearest_value = array[nearest_index]\n",
        "\n",
        "# Print the nearest value and its index\n",
        "print(\"Target Value:\", target_value)\n",
        "print(\"Nearest Value:\", nearest_value)\n",
        "print(\"Index of Nearest Value:\", nearest_index)\n"
      ]
    },
    {
      "cell_type": "markdown",
      "metadata": {
        "id": "Hv9ic4JizJD3"
      },
      "source": [
        "#### 62. Considering two arrays with shape (1,3) and (3,1), how to compute their sum using an iterator? (★★☆)"
      ]
    },
    {
      "cell_type": "code",
      "execution_count": null,
      "metadata": {
        "id": "HRR9ANu2zJD3",
        "colab": {
          "base_uri": "https://localhost:8080/"
        },
        "outputId": "0961357d-534d-4235-9c23-b89eda32474f"
      },
      "outputs": [
        {
          "output_type": "stream",
          "name": "stdout",
          "text": [
            "Array 1:\n",
            "[[1 2 3]]\n",
            "\n",
            "Array 2:\n",
            "[[4]\n",
            " [5]\n",
            " [6]]\n",
            "\n",
            "Sum:\n",
            "[[5 6 7]\n",
            " [6 7 8]\n",
            " [7 8 9]]\n"
          ]
        }
      ],
      "source": [
        "import numpy as np\n",
        "\n",
        "# Create two arrays with shape (1, 3) and (3, 1)\n",
        "array1 = np.array([[1, 2, 3]])\n",
        "array2 = np.array([[4], [5], [6]])\n",
        "\n",
        "# Initialize a variable to store the sum\n",
        "result = np.zeros((3, 3), dtype=int)  # Initialize a 3x3 result matrix\n",
        "\n",
        "# Compute the sum using nested loops\n",
        "for i in range(3):\n",
        "    for j in range(3):\n",
        "        result[i, j] = array1[0, i] + array2[j, 0]\n",
        "\n",
        "# Print the result\n",
        "print(\"Array 1:\")\n",
        "print(array1)\n",
        "print(\"\\nArray 2:\")\n",
        "print(array2)\n",
        "print(\"\\nSum:\")\n",
        "print(result)\n"
      ]
    },
    {
      "cell_type": "markdown",
      "metadata": {
        "id": "2hQ4Uh1dzJD3"
      },
      "source": [
        "#### 63. Create an array class that has a name attribute (★★☆)"
      ]
    },
    {
      "cell_type": "code",
      "execution_count": null,
      "metadata": {
        "id": "Y1kxq3oYzJD3"
      },
      "outputs": [],
      "source": []
    },
    {
      "cell_type": "markdown",
      "metadata": {
        "id": "WPB-NfAXzJD3"
      },
      "source": [
        "#### 64. Consider a given vector, how to add 1 to each element indexed by a second vector (be careful with repeated indices)? (★★★)"
      ]
    },
    {
      "cell_type": "code",
      "execution_count": null,
      "metadata": {
        "id": "Ud2H5pAyzJD4",
        "colab": {
          "base_uri": "https://localhost:8080/"
        },
        "outputId": "266cdc00-da90-42d3-b9ff-0625e3a87f58"
      },
      "outputs": [
        {
          "output_type": "stream",
          "name": "stdout",
          "text": [
            "Array Data: [1 2 3]\n",
            "Array Name: CustomArray\n"
          ]
        }
      ],
      "source": [
        "import numpy as np\n",
        "\n",
        "class NamedArray(np.ndarray):\n",
        "    def __new__(cls, array, name=None):\n",
        "        obj = np.asarray(array).view(cls)\n",
        "        obj.name = name\n",
        "        return obj\n",
        "\n",
        "    def __array_finalize__(self, obj):\n",
        "        if obj is None:\n",
        "            return\n",
        "        self.name = getattr(obj, 'name', None)\n",
        "\n",
        "# Create an instance of the custom array class with a name\n",
        "data = np.array([1, 2, 3])\n",
        "named_array = NamedArray(data, name=\"CustomArray\")\n",
        "\n",
        "# Access the array and its name\n",
        "print(\"Array Data:\", named_array)\n",
        "print(\"Array Name:\", named_array.name)\n"
      ]
    },
    {
      "cell_type": "markdown",
      "metadata": {
        "id": "PDJL42tnzJD4"
      },
      "source": [
        "#### 65. How to accumulate elements of a vector (X) to an array (F) based on an index list (I)? (★★★)"
      ]
    },
    {
      "cell_type": "code",
      "execution_count": null,
      "metadata": {
        "id": "csbjZN9_zJD4",
        "colab": {
          "base_uri": "https://localhost:8080/"
        },
        "outputId": "2b47b7bf-cc66-4213-a307-d0af3ae145b9"
      },
      "outputs": [
        {
          "output_type": "stream",
          "name": "stdout",
          "text": [
            "Vector X: [1 2 3 4 5]\n",
            "Index List I: [0 2 1 4 3]\n",
            "Accumulated Array F: [1 3 2 5 4]\n"
          ]
        }
      ],
      "source": [
        "import numpy as np\n",
        "\n",
        "# Create a sample vector X\n",
        "X = np.array([1, 2, 3, 4, 5])\n",
        "\n",
        "# Create a sample index list I (should contain valid indices for F)\n",
        "I = np.array([0, 2, 1, 4, 3])\n",
        "\n",
        "# Create an array F to accumulate elements into\n",
        "F = np.zeros_like(X)\n",
        "\n",
        "# Accumulate elements of X into F based on the index list I\n",
        "np.add.at(F, I, X)\n",
        "\n",
        "# Print the result\n",
        "print(\"Vector X:\", X)\n",
        "print(\"Index List I:\", I)\n",
        "print(\"Accumulated Array F:\", F)\n"
      ]
    },
    {
      "cell_type": "markdown",
      "metadata": {
        "id": "V_P8YYF6zJD4"
      },
      "source": [
        "#### 66. Considering a (w,h,3) image of (dtype=ubyte), compute the number of unique colors (★★★)"
      ]
    },
    {
      "cell_type": "code",
      "execution_count": null,
      "metadata": {
        "id": "iHBUT5yHzJD4",
        "colab": {
          "base_uri": "https://localhost:8080/"
        },
        "outputId": "64138ee5-fa60-4769-caf1-d0056944c60a"
      },
      "outputs": [
        {
          "output_type": "stream",
          "name": "stdout",
          "text": [
            "Number of Unique Colors: 4\n"
          ]
        }
      ],
      "source": [
        "import numpy as np\n",
        "\n",
        "# Create a sample image (replace this with your image)\n",
        "w, h = 4, 4\n",
        "image = np.array([[[255, 0, 0], [0, 255, 0], [0, 0, 255], [255, 255, 0]],\n",
        "                  [[255, 0, 0], [0, 255, 0], [0, 0, 255], [255, 255, 0]],\n",
        "                  [[255, 0, 0], [0, 255, 0], [0, 0, 255], [255, 255, 0]],\n",
        "                  [[255, 0, 0], [0, 255, 0], [0, 0, 255], [255, 255, 0]]], dtype=np.ubyte)\n",
        "\n",
        "# Reshape the image to a 2D array of shape (w * h, 3)\n",
        "reshaped_image = image.reshape(-1, 3)\n",
        "\n",
        "# Compute the unique colors\n",
        "unique_colors = np.unique(reshaped_image, axis=0)\n",
        "\n",
        "# Get the number of unique colors\n",
        "num_unique_colors = unique_colors.shape[0]\n",
        "\n",
        "# Print the result\n",
        "print(\"Number of Unique Colors:\", num_unique_colors)\n"
      ]
    },
    {
      "cell_type": "markdown",
      "metadata": {
        "id": "osvyw5tAzJD4"
      },
      "source": [
        "#### 67. Considering a four dimensions array, how to get sum over the last two axis at once? (★★★)"
      ]
    },
    {
      "cell_type": "code",
      "execution_count": null,
      "metadata": {
        "id": "lTtuEgx3zJD5",
        "colab": {
          "base_uri": "https://localhost:8080/"
        },
        "outputId": "48318d6a-a19e-4f33-9f5e-aea94b6446c6"
      },
      "outputs": [
        {
          "output_type": "stream",
          "name": "stdout",
          "text": [
            "Original Array Shape: (2, 3, 4, 5)\n",
            "Sum over Last Two Axes Shape: (2, 3)\n"
          ]
        }
      ],
      "source": [
        "import numpy as np\n",
        "\n",
        "# Create a sample four-dimensional array\n",
        "# Replace this with your own array with the appropriate dimensions\n",
        "array = np.random.rand(2, 3, 4, 5)\n",
        "\n",
        "# Sum over the last two axes (axis=(2, 3))\n",
        "sum_over_last_two_axes = np.sum(array, axis=(2, 3))\n",
        "\n",
        "# Print the original array and the result\n",
        "print(\"Original Array Shape:\", array.shape)\n",
        "print(\"Sum over Last Two Axes Shape:\", sum_over_last_two_axes.shape)\n"
      ]
    },
    {
      "cell_type": "markdown",
      "metadata": {
        "id": "oHPLxR8_zJD5"
      },
      "source": [
        "#### 68. Considering a one-dimensional vector D, how to compute means of subsets of D using a vector S of same size describing subset  indices? (★★★)"
      ]
    },
    {
      "cell_type": "code",
      "execution_count": null,
      "metadata": {
        "id": "QiJ9FUtfzJD5",
        "colab": {
          "base_uri": "https://localhost:8080/"
        },
        "outputId": "e554d4b4-5235-4251-9280-97832be72f92"
      },
      "outputs": [
        {
          "output_type": "stream",
          "name": "stdout",
          "text": [
            "Vector D: [ 10  20  30  40  50  60  70  80  90 100]\n",
            "Subset Index Vector S: [0 0 1 1 1 2 2 2 3 3]\n",
            "Subset Means: [15.0, 40.0, 70.0, 95.0]\n"
          ]
        }
      ],
      "source": [
        "import numpy as np\n",
        "\n",
        "# Create a sample one-dimensional vector D\n",
        "D = np.array([10, 20, 30, 40, 50, 60, 70, 80, 90, 100])\n",
        "\n",
        "# Create a sample subset index vector S\n",
        "S = np.array([0, 0, 1, 1, 1, 2, 2, 2, 3, 3])\n",
        "\n",
        "# Calculate the means of subsets using a loop\n",
        "subset_means = [np.mean(D[S == i]) for i in np.unique(S)]\n",
        "\n",
        "# Print the original vector, subset index vector, and subset means\n",
        "print(\"Vector D:\", D)\n",
        "print(\"Subset Index Vector S:\", S)\n",
        "print(\"Subset Means:\", subset_means)\n"
      ]
    },
    {
      "cell_type": "markdown",
      "metadata": {
        "id": "4luZ5NMRzJD5"
      },
      "source": [
        "#### 69. How to get the diagonal of a dot product? (★★★)"
      ]
    },
    {
      "cell_type": "code",
      "execution_count": null,
      "metadata": {
        "id": "LmplfsTuzJD5",
        "colab": {
          "base_uri": "https://localhost:8080/"
        },
        "outputId": "cc91cdf9-8ce6-401e-9545-816ff85e4eb1"
      },
      "outputs": [
        {
          "output_type": "stream",
          "name": "stdout",
          "text": [
            "Matrix A:\n",
            "[[1 2 3]\n",
            " [4 5 6]\n",
            " [7 8 9]]\n",
            "\n",
            "Matrix B:\n",
            "[[9 8 7]\n",
            " [6 5 4]\n",
            " [3 2 1]]\n",
            "\n",
            "Dot Product (A dot B):\n",
            "[[ 30  24  18]\n",
            " [ 84  69  54]\n",
            " [138 114  90]]\n",
            "\n",
            "Diagonal of Dot Product:\n",
            "[30 69 90]\n"
          ]
        }
      ],
      "source": [
        "import numpy as np\n",
        "\n",
        "# Create two sample matrices A and B\n",
        "A = np.array([[1, 2, 3],\n",
        "              [4, 5, 6],\n",
        "              [7, 8, 9]])\n",
        "\n",
        "B = np.array([[9, 8, 7],\n",
        "              [6, 5, 4],\n",
        "              [3, 2, 1]])\n",
        "\n",
        "# Calculate the dot product of A and B\n",
        "dot_product = np.dot(A, B)\n",
        "\n",
        "# Get the diagonal of the dot product using numpy.einsum\n",
        "diagonal = np.einsum(\"ii->i\", dot_product)\n",
        "\n",
        "# Print the original matrices, dot product, and diagonal\n",
        "print(\"Matrix A:\")\n",
        "print(A)\n",
        "print(\"\\nMatrix B:\")\n",
        "print(B)\n",
        "print(\"\\nDot Product (A dot B):\")\n",
        "print(dot_product)\n",
        "print(\"\\nDiagonal of Dot Product:\")\n",
        "print(diagonal)\n"
      ]
    },
    {
      "cell_type": "markdown",
      "metadata": {
        "id": "fhnTcgsezJD6"
      },
      "source": [
        "#### 70. Consider the vector [1, 2, 3, 4, 5], how to build a new vector with 3 consecutive zeros interleaved between each value? (★★★)"
      ]
    },
    {
      "cell_type": "code",
      "execution_count": null,
      "metadata": {
        "id": "oiQ4gmhSzJD6",
        "colab": {
          "base_uri": "https://localhost:8080/",
          "height": 245
        },
        "outputId": "762a6994-7416-45e5-ab49-86cadcf493ff"
      },
      "outputs": [
        {
          "output_type": "error",
          "ename": "ValueError",
          "evalue": "ignored",
          "traceback": [
            "\u001b[0;31m---------------------------------------------------------------------------\u001b[0m",
            "\u001b[0;31mValueError\u001b[0m                                Traceback (most recent call last)",
            "\u001b[0;32m<ipython-input-27-270562c2bfcd>\u001b[0m in \u001b[0;36m<cell line: 15>\u001b[0;34m()\u001b[0m\n\u001b[1;32m     13\u001b[0m \u001b[0mnew_vector\u001b[0m \u001b[0;34m=\u001b[0m \u001b[0mnp\u001b[0m\u001b[0;34m.\u001b[0m\u001b[0mempty\u001b[0m\u001b[0;34m(\u001b[0m\u001b[0moriginal_vector\u001b[0m\u001b[0;34m.\u001b[0m\u001b[0msize\u001b[0m \u001b[0;34m+\u001b[0m \u001b[0mzeros\u001b[0m\u001b[0;34m.\u001b[0m\u001b[0msize\u001b[0m\u001b[0;34m,\u001b[0m \u001b[0mdtype\u001b[0m\u001b[0;34m=\u001b[0m\u001b[0moriginal_vector\u001b[0m\u001b[0;34m.\u001b[0m\u001b[0mdtype\u001b[0m\u001b[0;34m)\u001b[0m\u001b[0;34m\u001b[0m\u001b[0;34m\u001b[0m\u001b[0m\n\u001b[1;32m     14\u001b[0m \u001b[0mnew_vector\u001b[0m\u001b[0;34m[\u001b[0m\u001b[0;34m:\u001b[0m\u001b[0;34m:\u001b[0m\u001b[0mconsecutive_zeros\u001b[0m \u001b[0;34m+\u001b[0m \u001b[0;36m1\u001b[0m\u001b[0;34m]\u001b[0m \u001b[0;34m=\u001b[0m \u001b[0moriginal_vector\u001b[0m\u001b[0;34m\u001b[0m\u001b[0;34m\u001b[0m\u001b[0m\n\u001b[0;32m---> 15\u001b[0;31m \u001b[0mnew_vector\u001b[0m\u001b[0;34m[\u001b[0m\u001b[0;36m1\u001b[0m\u001b[0;34m:\u001b[0m\u001b[0;34m:\u001b[0m\u001b[0mconsecutive_zeros\u001b[0m \u001b[0;34m+\u001b[0m \u001b[0;36m1\u001b[0m\u001b[0;34m]\u001b[0m \u001b[0;34m=\u001b[0m \u001b[0mzeros\u001b[0m\u001b[0;34m\u001b[0m\u001b[0;34m\u001b[0m\u001b[0m\n\u001b[0m\u001b[1;32m     16\u001b[0m \u001b[0;34m\u001b[0m\u001b[0m\n\u001b[1;32m     17\u001b[0m \u001b[0;31m# Print the new vector\u001b[0m\u001b[0;34m\u001b[0m\u001b[0;34m\u001b[0m\u001b[0m\n",
            "\u001b[0;31mValueError\u001b[0m: could not broadcast input array from shape (12,) into shape (4,)"
          ]
        }
      ],
      "source": [
        "import numpy as np\n",
        "\n",
        "# Create the original vector\n",
        "original_vector = np.array([1, 2, 3, 4, 5])\n",
        "\n",
        "# Number of consecutive zeros to insert between each value\n",
        "consecutive_zeros = 3\n",
        "\n",
        "# Create the interleaved zeros\n",
        "zeros = np.zeros((original_vector.size - 1) * consecutive_zeros)\n",
        "\n",
        "# Create the new vector by interleaving the zeros\n",
        "new_vector = np.empty(original_vector.size + zeros.size, dtype=original_vector.dtype)\n",
        "new_vector[::consecutive_zeros + 1] = original_vector\n",
        "new_vector[1::consecutive_zeros + 1] = zeros\n",
        "\n",
        "# Print the new vector\n",
        "print(new_vector)\n"
      ]
    },
    {
      "cell_type": "markdown",
      "metadata": {
        "id": "I1Tc8k7-zJD6"
      },
      "source": [
        "#### 71. Consider an array of dimension (5,5,3), how to mulitply it by an array with dimensions (5,5)? (★★★)"
      ]
    },
    {
      "cell_type": "code",
      "execution_count": null,
      "metadata": {
        "id": "Y37YrRXNzJD6",
        "colab": {
          "base_uri": "https://localhost:8080/"
        },
        "outputId": "f3c375c9-46de-4b29-9bbf-b388c740b6ae"
      },
      "outputs": [
        {
          "output_type": "stream",
          "name": "stdout",
          "text": [
            "Shape of 3D Array: (5, 5, 3)\n",
            "Shape of 2D Array: (5, 5)\n",
            "Shape of Result: (5, 5, 3)\n"
          ]
        }
      ],
      "source": [
        "import numpy as np\n",
        "\n",
        "# Create a sample array with dimensions (5, 5, 3)\n",
        "array_3d = np.random.rand(5, 5, 3)\n",
        "\n",
        "# Create a sample array with dimensions (5, 5)\n",
        "array_2d = np.random.rand(5, 5)\n",
        "\n",
        "# Multiply the 3D array by the 2D array using broadcasting\n",
        "result = array_3d * array_2d[:, :, np.newaxis]\n",
        "\n",
        "# Print the shapes of the original arrays and the result\n",
        "print(\"Shape of 3D Array:\", array_3d.shape)\n",
        "print(\"Shape of 2D Array:\", array_2d.shape)\n",
        "print(\"Shape of Result:\", result.shape)\n"
      ]
    },
    {
      "cell_type": "markdown",
      "metadata": {
        "id": "X_WGcgsAzJD6"
      },
      "source": [
        "#### 72. How to swap two rows of an array? (★★★)"
      ]
    },
    {
      "cell_type": "code",
      "execution_count": null,
      "metadata": {
        "id": "tvIasZjczJD6",
        "colab": {
          "base_uri": "https://localhost:8080/"
        },
        "outputId": "505ff285-1d8c-49ce-cb51-460bb0751145"
      },
      "outputs": [
        {
          "output_type": "stream",
          "name": "stdout",
          "text": [
            "Array after swapping rows:\n",
            "[[1 2 3]\n",
            " [7 8 9]\n",
            " [4 5 6]]\n"
          ]
        }
      ],
      "source": [
        "import numpy as np\n",
        "\n",
        "# Create a sample 2D array\n",
        "array = np.array([[1, 2, 3],\n",
        "                  [4, 5, 6],\n",
        "                  [7, 8, 9]])\n",
        "\n",
        "# Swap rows, for example, swap rows 1 and 2\n",
        "row1 = 1  # Index of the first row to swap\n",
        "row2 = 2  # Index of the second row to swap\n",
        "\n",
        "# Perform the row swap\n",
        "array[row1], array[row2] = array[row2].copy(), array[row1].copy()\n",
        "\n",
        "# Print the array after swapping rows\n",
        "print(\"Array after swapping rows:\")\n",
        "print(array)\n"
      ]
    },
    {
      "cell_type": "markdown",
      "metadata": {
        "id": "A735JJ48zJD7"
      },
      "source": [
        "#### 73. Consider a set of 10 triplets describing 10 triangles (with shared vertices), find the set of unique line segments composing all the  triangles (★★★)"
      ]
    },
    {
      "cell_type": "code",
      "execution_count": null,
      "metadata": {
        "id": "4L7I1H6JzJD7",
        "colab": {
          "base_uri": "https://localhost:8080/"
        },
        "outputId": "e8a2da92-bd8a-468b-8802-48007957cefe"
      },
      "outputs": [
        {
          "output_type": "stream",
          "name": "stdout",
          "text": [
            "Unique Line Segments:\n",
            "[3, 4]\n",
            "[4, 6]\n",
            "[5, 7]\n",
            "[0, 2]\n",
            "[8, 9]\n",
            "[1, 6]\n",
            "[1, 3]\n",
            "[2, 8]\n",
            "[5, 6]\n",
            "[4, 8]\n",
            "[3, 6]\n",
            "[0, 1]\n",
            "[0, 7]\n",
            "[2, 4]\n",
            "[1, 2]\n",
            "[2, 7]\n",
            "[1, 5]\n",
            "[7, 9]\n",
            "[6, 7]\n",
            "[3, 5]\n",
            "[0, 9]\n",
            "[2, 3]\n",
            "[2, 9]\n",
            "[2, 6]\n",
            "[7, 8]\n"
          ]
        }
      ],
      "source": [
        "import numpy as np\n",
        "\n",
        "# Create a set of 10 triplets describing triangles (replace with your data)\n",
        "# Each triplet contains three vertex indices\n",
        "triplets = np.array([[0, 1, 2],\n",
        "                     [2, 3, 4],\n",
        "                     [5, 6, 7],\n",
        "                     [7, 8, 9],\n",
        "                     [2, 4, 6],\n",
        "                     [1, 3, 5],\n",
        "                     [0, 2, 7],\n",
        "                     [2, 4, 8],\n",
        "                     [1, 3, 6],\n",
        "                     [0, 2, 9]])\n",
        "\n",
        "# Initialize a set to store unique line segments\n",
        "unique_line_segments = set()\n",
        "\n",
        "# Extract line segments from each triplet and add them to the set\n",
        "for triplet in triplets:\n",
        "    # Iterate over the vertices of the triplet to create line segments\n",
        "    for i in range(3):\n",
        "        vertex1 = triplet[i]\n",
        "        vertex2 = triplet[(i + 1) % 3]  # Wrap around to the first vertex\n",
        "        # Add the line segment as a tuple to ensure uniqueness\n",
        "        unique_line_segments.add(tuple(sorted([vertex1, vertex2])))\n",
        "\n",
        "# Convert the set of unique line segments to a list\n",
        "unique_line_segments_list = [list(segment) for segment in unique_line_segments]\n",
        "\n",
        "# Print the unique line segments\n",
        "print(\"Unique Line Segments:\")\n",
        "for segment in unique_line_segments_list:\n",
        "    print(segment)\n"
      ]
    },
    {
      "cell_type": "markdown",
      "metadata": {
        "id": "F3h3qmQmzJD7"
      },
      "source": [
        "#### 74. Given an array C that is a bincount, how to produce an array A such that np.bincount(A) == C? (★★★)"
      ]
    },
    {
      "cell_type": "code",
      "execution_count": null,
      "metadata": {
        "id": "cfmQ1IkkzJD7",
        "colab": {
          "base_uri": "https://localhost:8080/"
        },
        "outputId": "d602d7fb-c4e9-4c26-cf96-861c72de5861"
      },
      "outputs": [
        {
          "output_type": "stream",
          "name": "stdout",
          "text": [
            "Is np.bincount(A) == C? True\n",
            "Array A:\n",
            "[1 2 2 4 4 4 6 7 7 8 8 8 8 9 9]\n"
          ]
        }
      ],
      "source": [
        "import numpy as np\n",
        "\n",
        "# Sample bincount array C (replace with your data)\n",
        "C = np.array([0, 1, 2, 0, 3, 0, 1, 2, 4, 2])\n",
        "\n",
        "# Create array A to match the bincount C\n",
        "A = np.repeat(np.arange(len(C)), C)\n",
        "\n",
        "# Verify that np.bincount(A) matches C\n",
        "result = np.bincount(A) == C\n",
        "\n",
        "# Print the result and A\n",
        "print(\"Is np.bincount(A) == C?\", result.all())\n",
        "print(\"Array A:\")\n",
        "print(A)\n"
      ]
    },
    {
      "cell_type": "markdown",
      "metadata": {
        "id": "Jx0XZDKQzJD8"
      },
      "source": [
        "#### 75. How to compute averages using a sliding window over an array? (★★★)"
      ]
    },
    {
      "cell_type": "code",
      "execution_count": null,
      "metadata": {
        "id": "3QVMTlGPzJD8",
        "colab": {
          "base_uri": "https://localhost:8080/"
        },
        "outputId": "1da795a7-6129-4226-80ae-c1850dd527ed"
      },
      "outputs": [
        {
          "output_type": "stream",
          "name": "stdout",
          "text": [
            "Original Array: [ 1  2  3  4  5  6  7  8  9 10]\n",
            "Convolution Array: [ 6.  9. 12. 15. 18. 21. 24. 27.]\n",
            "Averages using a sliding window of size 3 : [ 2.  5.  9. 14. 20. 27. 35. 44.]\n"
          ]
        }
      ],
      "source": [
        "import numpy as np\n",
        "\n",
        "# Define the input array\n",
        "arr = np.array([1, 2, 3, 4, 5, 6, 7, 8, 9, 10])\n",
        "\n",
        "# Define the window size\n",
        "window_size = 3\n",
        "\n",
        "# Create a convolution array using np.convolve with a window of [1, 1, ..., 1]\n",
        "convolution_array = np.convolve(arr, np.ones(window_size), 'valid')\n",
        "\n",
        "# Calculate the cumulative sum of the convolution array\n",
        "cumulative_sum = np.cumsum(convolution_array)\n",
        "\n",
        "# Calculate the averages for each window\n",
        "averages = cumulative_sum / window_size\n",
        "\n",
        "# Print the original array, convolution array, and averages\n",
        "print(\"Original Array:\", arr)\n",
        "print(\"Convolution Array:\", convolution_array)\n",
        "print(\"Averages using a sliding window of size\", window_size, \":\", averages)\n"
      ]
    },
    {
      "cell_type": "markdown",
      "metadata": {
        "id": "ES76vRTGzJD8"
      },
      "source": [
        "#### 76. Consider a one-dimensional array Z, build a two-dimensional array whose first row is (Z[0],Z[1],Z[2]) and each subsequent row is  shifted by 1 (last row should be (Z[-3],Z[-2],Z[-1]) (★★★)"
      ]
    },
    {
      "cell_type": "code",
      "execution_count": null,
      "metadata": {
        "id": "Cude_wbpzJD8",
        "colab": {
          "base_uri": "https://localhost:8080/"
        },
        "outputId": "8d12ed8a-d137-40b1-a4a3-50b5a7f5f1b2"
      },
      "outputs": [
        {
          "output_type": "stream",
          "name": "stdout",
          "text": [
            "[[1. 2. 3.]\n",
            " [2. 3. 4.]\n",
            " [3. 4. 5.]]\n"
          ]
        }
      ],
      "source": [
        "import numpy as np\n",
        "\n",
        "# Create a one-dimensional array Z (replace with your data)\n",
        "Z = np.array([1, 2, 3, 4, 5])\n",
        "\n",
        "# Define the number of rows in the resulting 2D array\n",
        "num_rows = len(Z) - 2  # One row for each element, excluding the first and last two\n",
        "\n",
        "# Initialize the 2D array with zeros\n",
        "result = np.zeros((num_rows, 3))\n",
        "\n",
        "# Populate the 2D array by shifting elements from Z\n",
        "for i in range(num_rows):\n",
        "    result[i] = Z[i:i+3]\n",
        "\n",
        "# Print the resulting 2D array\n",
        "print(result)\n"
      ]
    },
    {
      "cell_type": "markdown",
      "metadata": {
        "id": "K_yVGZH3zJD8"
      },
      "source": [
        "#### 77. How to negate a boolean, or to change the sign of a float inplace? (★★★)"
      ]
    },
    {
      "cell_type": "code",
      "execution_count": null,
      "metadata": {
        "id": "3c1CKXXyzJD8",
        "colab": {
          "base_uri": "https://localhost:8080/"
        },
        "outputId": "a22b9610-c85c-4a3f-ab52-0132c2b314d7"
      },
      "outputs": [
        {
          "output_type": "stream",
          "name": "stdout",
          "text": [
            "False\n"
          ]
        }
      ],
      "source": [
        "# Initial boolean value\n",
        "boolean_value = True\n",
        "\n",
        "# Negate the boolean in-place\n",
        "boolean_value = not boolean_value\n",
        "\n",
        "# Print the negated boolean\n",
        "print(boolean_value)  # This will print False\n"
      ]
    },
    {
      "cell_type": "code",
      "source": [
        "# Initial float value\n",
        "float_value = 5.0\n",
        "\n",
        "# Change the sign of the float in-place\n",
        "float_value = -float_value\n",
        "\n",
        "# Print the float with the changed sign\n",
        "print(float_value)  # This will print -5.0\n"
      ],
      "metadata": {
        "colab": {
          "base_uri": "https://localhost:8080/"
        },
        "id": "iFUd8IFfMkZR",
        "outputId": "f312c490-0af0-48aa-9ee3-f1e9c80a3fbd"
      },
      "execution_count": null,
      "outputs": [
        {
          "output_type": "stream",
          "name": "stdout",
          "text": [
            "-5.0\n"
          ]
        }
      ]
    },
    {
      "cell_type": "markdown",
      "metadata": {
        "id": "yLhsx0fKzJD9"
      },
      "source": [
        "#### 78. Consider 2 sets of points P0,P1 describing lines (2d) and a point p, how to compute distance from p to each line i (P0[i],P1[i])? (★★★)"
      ]
    },
    {
      "cell_type": "code",
      "execution_count": null,
      "metadata": {
        "id": "QZbyPHsGzJD9",
        "colab": {
          "base_uri": "https://localhost:8080/"
        },
        "outputId": "6d791b9a-618d-4dcb-96a0-02ee37a69e7e"
      },
      "outputs": [
        {
          "output_type": "stream",
          "name": "stdout",
          "text": [
            "Distances from p to each line segment: [0.0, 1.4142135623730951, 0.8944271909999156]\n"
          ]
        }
      ],
      "source": [
        "import numpy as np\n",
        "\n",
        "def distance_point_to_line_segment(p, P0, P1):\n",
        "    # Vector from P0 to P1\n",
        "    v = P1 - P0\n",
        "\n",
        "    # Vector from P0 to p\n",
        "    w = p - P0\n",
        "\n",
        "    # Calculate the dot product of w and v\n",
        "    dot_product = np.dot(w, v)\n",
        "\n",
        "    # Calculate the squared length of line segment P0-P1\n",
        "    squared_length = np.dot(v, v)\n",
        "\n",
        "    # Calculate the parameter t\n",
        "    t = dot_product / squared_length\n",
        "\n",
        "    if t < 0:\n",
        "        # Closest point is P0\n",
        "        closest_point = P0\n",
        "    elif t > 1:\n",
        "        # Closest point is P1\n",
        "        closest_point = P1\n",
        "    else:\n",
        "        # Closest point is along the line segment\n",
        "        closest_point = P0 + t * v\n",
        "\n",
        "    # Calculate the distance from p to the closest_point\n",
        "    distance = np.linalg.norm(p - closest_point)\n",
        "\n",
        "    return distance\n",
        "\n",
        "# Define the point p\n",
        "p = np.array([2, 2])\n",
        "\n",
        "# Define sets of points P0 and P1 describing lines\n",
        "P0 = np.array([[1, 1], [3, 3], [4, 0]])\n",
        "P1 = np.array([[4, 4], [5, 2], [2, 4]])\n",
        "\n",
        "# Compute the distances from p to each line segment\n",
        "distances = [distance_point_to_line_segment(p, p0, p1) for p0, p1 in zip(P0, P1)]\n",
        "\n",
        "# Print the distances\n",
        "print(\"Distances from p to each line segment:\", distances)\n"
      ]
    },
    {
      "cell_type": "markdown",
      "metadata": {
        "id": "a_CkxBtMzJD9"
      },
      "source": [
        "#### 79. Consider 2 sets of points P0,P1 describing lines (2d) and a set of points P, how to compute distance from each point j (P[j]) to each line i (P0[i],P1[i])? (★★★)"
      ]
    },
    {
      "cell_type": "code",
      "execution_count": null,
      "metadata": {
        "id": "UZrV0c4pzJD9",
        "colab": {
          "base_uri": "https://localhost:8080/"
        },
        "outputId": "a245463d-43db-4946-978a-d9dcfa7948b0"
      },
      "outputs": [
        {
          "output_type": "stream",
          "name": "stdout",
          "text": [
            "Distances from each point in P to each line segment:\n",
            "[[0.         1.41421356 0.89442719]\n",
            " [2.82842712 2.82842712 1.41421356]\n",
            " [1.41421356 1.78885438 0.4472136 ]]\n"
          ]
        }
      ],
      "source": [
        "import numpy as np\n",
        "\n",
        "def distance_point_to_line_segment(p, P0, P1):\n",
        "    # Vector from P0 to P1\n",
        "    v = P1 - P0\n",
        "\n",
        "    # Vector from P0 to p\n",
        "    w = p - P0\n",
        "\n",
        "    # Calculate the dot product of w and v\n",
        "    dot_product = np.dot(w, v)\n",
        "\n",
        "    # Calculate the squared length of line segment P0-P1\n",
        "    squared_length = np.dot(v, v)\n",
        "\n",
        "    # Calculate the parameter t\n",
        "    t = dot_product / squared_length\n",
        "\n",
        "    if t < 0:\n",
        "        # Closest point is P0\n",
        "        closest_point = P0\n",
        "    elif t > 1:\n",
        "        # Closest point is P1\n",
        "        closest_point = P1\n",
        "    else:\n",
        "        # Closest point is along the line segment\n",
        "        closest_point = P0 + t * v\n",
        "\n",
        "    # Calculate the distance from p to the closest_point\n",
        "    distance = np.linalg.norm(p - closest_point)\n",
        "\n",
        "    return distance\n",
        "\n",
        "# Define sets of points P0 and P1 describing lines\n",
        "P0 = np.array([[1, 1], [3, 3], [4, 0]])\n",
        "P1 = np.array([[4, 4], [5, 2], [2, 4]])\n",
        "\n",
        "# Define a set of points P\n",
        "P = np.array([[2, 2], [1, 5], [3, 1]])\n",
        "\n",
        "# Initialize a 2D array to store distances\n",
        "distances = np.zeros((len(P), len(P0)))\n",
        "\n",
        "# Compute the distances from each point in P to each line segment\n",
        "for i in range(len(P)):\n",
        "    for j in range(len(P0)):\n",
        "        distances[i, j] = distance_point_to_line_segment(P[i], P0[j], P1[j])\n",
        "\n",
        "# Print the distances\n",
        "print(\"Distances from each point in P to each line segment:\")\n",
        "print(distances)\n"
      ]
    },
    {
      "cell_type": "markdown",
      "metadata": {
        "id": "ZByKM6VZzJD9"
      },
      "source": [
        "#### 80. Consider an arbitrary array, write a function that extract a subpart with a fixed shape and centered on a given element (pad with a `fill` value when necessary) (★★★)"
      ]
    },
    {
      "cell_type": "code",
      "execution_count": null,
      "metadata": {
        "id": "H_MVeKDWzJD-",
        "colab": {
          "base_uri": "https://localhost:8080/"
        },
        "outputId": "b0aa4fb3-f707-4564-95c7-4cadcfd38718"
      },
      "outputs": [
        {
          "output_type": "stream",
          "name": "stdout",
          "text": [
            "[[ 2  3  4]\n",
            " [ 7  8  9]\n",
            " [12 13 14]]\n"
          ]
        }
      ],
      "source": [
        "import numpy as np\n",
        "\n",
        "def extract_subpart_centered(array, center, subpart_shape, fill_value=0):\n",
        "    \"\"\"\n",
        "    Extract a subpart of the input array centered on the given element.\n",
        "\n",
        "    Parameters:\n",
        "    - array: Input array\n",
        "    - center: Tuple or list containing the center coordinates (row, column)\n",
        "    - subpart_shape: Tuple or list containing the desired subpart shape (rows, columns)\n",
        "    - fill_value: Value to fill when padding is necessary (default is 0)\n",
        "\n",
        "    Returns:\n",
        "    - Subpart of the input array\n",
        "    \"\"\"\n",
        "\n",
        "    # Ensure the input arrays are numpy arrays\n",
        "    array = np.array(array)\n",
        "    subpart_shape = np.array(subpart_shape)\n",
        "\n",
        "    # Calculate the half shape of the subpart\n",
        "    half_shape = subpart_shape // 2\n",
        "\n",
        "    # Calculate the bounds for slicing\n",
        "    row_start = max(center[0] - half_shape[0], 0)\n",
        "    row_end = min(center[0] + half_shape[0] + 1, array.shape[0])\n",
        "    col_start = max(center[1] - half_shape[1], 0)\n",
        "    col_end = min(center[1] + half_shape[1] + 1, array.shape[1])\n",
        "\n",
        "    # Create an empty subpart with the desired shape\n",
        "    subpart = np.full(subpart_shape, fill_value)\n",
        "\n",
        "    # Calculate the subpart indices in the original array\n",
        "    subpart_row_start = max(half_shape[0] - center[0], 0)\n",
        "    subpart_row_end = subpart_row_start + (row_end - row_start)\n",
        "    subpart_col_start = max(half_shape[1] - center[1], 0)\n",
        "    subpart_col_end = subpart_col_start + (col_end - col_start)\n",
        "\n",
        "    # Copy the valid portion of the input array to the subpart\n",
        "    subpart[subpart_row_start:subpart_row_end, subpart_col_start:subpart_col_end] = \\\n",
        "        array[row_start:row_end, col_start:col_end]\n",
        "\n",
        "    return subpart\n",
        "\n",
        "# Example usage:\n",
        "input_array = np.array([[1, 2, 3, 4, 5],\n",
        "                        [6, 7, 8, 9, 10],\n",
        "                        [11, 12, 13, 14, 15]])\n",
        "\n",
        "center_element = (1, 2)\n",
        "subpart_shape = (3, 3)\n",
        "\n",
        "result = extract_subpart_centered(input_array, center_element, subpart_shape, fill_value=0)\n",
        "print(result)\n"
      ]
    },
    {
      "cell_type": "markdown",
      "metadata": {
        "id": "xc0JFLzVzJD-"
      },
      "source": [
        "#### 81. Consider an array Z = [1,2,3,4,5,6,7,8,9,10,11,12,13,14], how to generate an array R = [[1,2,3,4], [2,3,4,5], [3,4,5,6], ..., [11,12,13,14]]? (★★★)"
      ]
    },
    {
      "cell_type": "code",
      "execution_count": null,
      "metadata": {
        "id": "o4EJptyTzJD-",
        "colab": {
          "base_uri": "https://localhost:8080/"
        },
        "outputId": "eba261ca-5304-4c50-d0a4-5578b1c7e676"
      },
      "outputs": [
        {
          "output_type": "stream",
          "name": "stdout",
          "text": [
            "[[ 1  2  3  4]\n",
            " [ 2  3  4  5]\n",
            " [ 3  4  5  6]\n",
            " [ 4  5  6  7]\n",
            " [ 5  6  7  8]\n",
            " [ 6  7  8  9]\n",
            " [ 7  8  9 10]\n",
            " [ 8  9 10 11]\n",
            " [ 9 10 11 12]\n",
            " [10 11 12 13]\n",
            " [11 12 13 14]]\n"
          ]
        }
      ],
      "source": [
        "import numpy as np\n",
        "\n",
        "# Define the original array Z\n",
        "Z = np.array([1, 2, 3, 4, 5, 6, 7, 8, 9, 10, 11, 12, 13, 14])\n",
        "\n",
        "# Define the size of the rolling window\n",
        "window_size = 4\n",
        "\n",
        "# Calculate the number of rows in the resulting array R\n",
        "num_rows = len(Z) - window_size + 1\n",
        "\n",
        "# Create the array R using a list comprehension\n",
        "R = np.array([Z[i:i+window_size] for i in range(num_rows)])\n",
        "\n",
        "# Print the resulting array R\n",
        "print(R)\n"
      ]
    },
    {
      "cell_type": "markdown",
      "metadata": {
        "id": "U_d07b6rzJD-"
      },
      "source": [
        "#### 82. Compute a matrix rank (★★★)"
      ]
    },
    {
      "cell_type": "code",
      "execution_count": null,
      "metadata": {
        "id": "ZIUKkB9qzJD-",
        "colab": {
          "base_uri": "https://localhost:8080/"
        },
        "outputId": "1dce129c-3c46-45ef-c897-eaafe59f472b"
      },
      "outputs": [
        {
          "output_type": "stream",
          "name": "stdout",
          "text": [
            "Rank of the matrix: 2\n"
          ]
        }
      ],
      "source": [
        "import numpy as np\n",
        "\n",
        "# Create a matrix (replace this with your matrix)\n",
        "matrix = np.array([[1, 2, 3],\n",
        "                   [4, 5, 6],\n",
        "                   [7, 8, 9]])\n",
        "\n",
        "# Compute the rank of the matrix\n",
        "rank = np.linalg.matrix_rank(matrix)\n",
        "\n",
        "# Print the rank\n",
        "print(\"Rank of the matrix:\", rank)\n"
      ]
    },
    {
      "cell_type": "markdown",
      "metadata": {
        "id": "R7js9G2izJD-"
      },
      "source": [
        "#### 83. How to find the most frequent value in an array?"
      ]
    },
    {
      "cell_type": "code",
      "execution_count": null,
      "metadata": {
        "id": "yf2z6eYUzJD_",
        "colab": {
          "base_uri": "https://localhost:8080/"
        },
        "outputId": "5a790af2-51f0-4d15-99ce-2620fe7e6c96"
      },
      "outputs": [
        {
          "output_type": "stream",
          "name": "stdout",
          "text": [
            "Most frequent value: 4\n"
          ]
        }
      ],
      "source": [
        "import numpy as np\n",
        "\n",
        "# Create a NumPy array (replace this with your array)\n",
        "arr = np.array([1, 2, 2, 3, 3, 3, 4, 4, 4, 4, 5, 5])\n",
        "\n",
        "# Find unique values and their counts\n",
        "unique_values, counts = np.unique(arr, return_counts=True)\n",
        "\n",
        "# Find the index of the maximum count (most frequent element)\n",
        "most_frequent_index = np.argmax(counts)\n",
        "\n",
        "# Get the most frequent element\n",
        "most_frequent_value = unique_values[most_frequent_index]\n",
        "\n",
        "# Print the most frequent value\n",
        "print(\"Most frequent value:\", most_frequent_value)\n"
      ]
    },
    {
      "cell_type": "markdown",
      "metadata": {
        "id": "qCL_G-cdzJD_"
      },
      "source": [
        "#### 84. Extract all the contiguous 3x3 blocks from a random 10x10 matrix (★★★)"
      ]
    },
    {
      "cell_type": "code",
      "execution_count": null,
      "metadata": {
        "id": "czPeM59fzJD_",
        "colab": {
          "base_uri": "https://localhost:8080/"
        },
        "outputId": "882b99c4-b742-492e-929e-57924ba31baf"
      },
      "outputs": [
        {
          "output_type": "stream",
          "name": "stdout",
          "text": [
            "[[54 78 62]\n",
            " [67 10 57]\n",
            " [ 4 17 69]]\n",
            "[[78 62 72]\n",
            " [10 57 91]\n",
            " [17 69 63]]\n",
            "[[62 72 71]\n",
            " [57 91 89]\n",
            " [69 63 94]]\n",
            "[[72 71 45]\n",
            " [91 89  3]\n",
            " [63 94 24]]\n",
            "[[71 45  5]\n",
            " [89  3 78]\n",
            " [94 24  3]]\n",
            "[[45  5 47]\n",
            " [ 3 78 82]\n",
            " [24  3 69]]\n",
            "[[ 5 47 59]\n",
            " [78 82 69]\n",
            " [ 3 69 40]]\n",
            "[[47 59 42]\n",
            " [82 69 58]\n",
            " [69 40 36]]\n",
            "[[67 10 57]\n",
            " [ 4 17 69]\n",
            " [58 49 55]]\n",
            "[[10 57 91]\n",
            " [17 69 63]\n",
            " [49 55 24]]\n",
            "[[57 91 89]\n",
            " [69 63 94]\n",
            " [55 24 33]]\n",
            "[[91 89  3]\n",
            " [63 94 24]\n",
            " [24 33 18]]\n",
            "[[89  3 78]\n",
            " [94 24  3]\n",
            " [33 18 97]]\n",
            "[[ 3 78 82]\n",
            " [24  3 69]\n",
            " [18 97 78]]\n",
            "[[78 82 69]\n",
            " [ 3 69 40]\n",
            " [97 78  7]]\n",
            "[[82 69 58]\n",
            " [69 40 36]\n",
            " [78  7 53]]\n",
            "[[ 4 17 69]\n",
            " [58 49 55]\n",
            " [46 33 81]]\n",
            "[[17 69 63]\n",
            " [49 55 24]\n",
            " [33 81 29]]\n",
            "[[69 63 94]\n",
            " [55 24 33]\n",
            " [81 29 12]]\n",
            "[[63 94 24]\n",
            " [24 33 18]\n",
            " [29 12 46]]\n",
            "[[94 24  3]\n",
            " [33 18 97]\n",
            " [12 46 32]]\n",
            "[[24  3 69]\n",
            " [18 97 78]\n",
            " [46 32 34]]\n",
            "[[ 3 69 40]\n",
            " [97 78  7]\n",
            " [32 34 87]]\n",
            "[[69 40 36]\n",
            " [78  7 53]\n",
            " [34 87 25]]\n",
            "[[58 49 55]\n",
            " [46 33 81]\n",
            " [46 52 64]]\n",
            "[[49 55 24]\n",
            " [33 81 29]\n",
            " [52 64 76]]\n",
            "[[55 24 33]\n",
            " [81 29 12]\n",
            " [64 76 73]]\n",
            "[[24 33 18]\n",
            " [29 12 46]\n",
            " [76 73 18]]\n",
            "[[33 18 97]\n",
            " [12 46 32]\n",
            " [73 18  4]]\n",
            "[[18 97 78]\n",
            " [46 32 34]\n",
            " [18  4  7]]\n",
            "[[97 78  7]\n",
            " [32 34 87]\n",
            " [ 4  7  3]]\n",
            "[[78  7 53]\n",
            " [34 87 25]\n",
            " [ 7  3 48]]\n",
            "[[46 33 81]\n",
            " [46 52 64]\n",
            " [76 37 48]]\n",
            "[[33 81 29]\n",
            " [52 64 76]\n",
            " [37 48 82]]\n",
            "[[81 29 12]\n",
            " [64 76 73]\n",
            " [48 82 51]]\n",
            "[[29 12 46]\n",
            " [76 73 18]\n",
            " [82 51 49]]\n",
            "[[12 46 32]\n",
            " [73 18  4]\n",
            " [51 49 71]]\n",
            "[[46 32 34]\n",
            " [18  4  7]\n",
            " [49 71 90]]\n",
            "[[32 34 87]\n",
            " [ 4  7  3]\n",
            " [71 90 49]]\n",
            "[[34 87 25]\n",
            " [ 7  3 48]\n",
            " [90 49 29]]\n",
            "[[46 52 64]\n",
            " [76 37 48]\n",
            " [ 3 74 84]]\n",
            "[[52 64 76]\n",
            " [37 48 82]\n",
            " [74 84 65]]\n",
            "[[64 76 73]\n",
            " [48 82 51]\n",
            " [84 65 20]]\n",
            "[[76 73 18]\n",
            " [82 51 49]\n",
            " [65 20 80]]\n",
            "[[73 18  4]\n",
            " [51 49 71]\n",
            " [20 80 42]]\n",
            "[[18  4  7]\n",
            " [49 71 90]\n",
            " [80 42 28]]\n",
            "[[ 4  7  3]\n",
            " [71 90 49]\n",
            " [42 28 26]]\n",
            "[[ 7  3 48]\n",
            " [90 49 29]\n",
            " [28 26 87]]\n",
            "[[76 37 48]\n",
            " [ 3 74 84]\n",
            " [52 48 66]]\n",
            "[[37 48 82]\n",
            " [74 84 65]\n",
            " [48 66  9]]\n",
            "[[48 82 51]\n",
            " [84 65 20]\n",
            " [66  9  2]]\n",
            "[[82 51 49]\n",
            " [65 20 80]\n",
            " [ 9  2 89]]\n",
            "[[51 49 71]\n",
            " [20 80 42]\n",
            " [ 2 89 90]]\n",
            "[[49 71 90]\n",
            " [80 42 28]\n",
            " [89 90 68]]\n",
            "[[71 90 49]\n",
            " [42 28 26]\n",
            " [90 68 10]]\n",
            "[[90 49 29]\n",
            " [28 26 87]\n",
            " [68 10 12]]\n",
            "[[ 3 74 84]\n",
            " [52 48 66]\n",
            " [97 37 39]]\n",
            "[[74 84 65]\n",
            " [48 66  9]\n",
            " [37 39 32]]\n",
            "[[84 65 20]\n",
            " [66  9  2]\n",
            " [39 32 33]]\n",
            "[[65 20 80]\n",
            " [ 9  2 89]\n",
            " [32 33 26]]\n",
            "[[20 80 42]\n",
            " [ 2 89 90]\n",
            " [33 26 99]]\n",
            "[[80 42 28]\n",
            " [89 90 68]\n",
            " [26 99 89]]\n",
            "[[42 28 26]\n",
            " [90 68 10]\n",
            " [99 89 50]]\n",
            "[[28 26 87]\n",
            " [68 10 12]\n",
            " [89 50 88]]\n"
          ]
        }
      ],
      "source": [
        "import numpy as np\n",
        "\n",
        "# Create a random 10x10 matrix (replace this with your matrix)\n",
        "matrix = np.random.randint(0, 100, (10, 10))\n",
        "\n",
        "# Define the block size (3x3)\n",
        "block_size = 3\n",
        "\n",
        "# Initialize a list to store the 3x3 blocks\n",
        "blocks = []\n",
        "\n",
        "# Iterate through the rows\n",
        "for i in range(matrix.shape[0] - block_size + 1):\n",
        "    # Iterate through the columns\n",
        "    for j in range(matrix.shape[1] - block_size + 1):\n",
        "        # Extract the 3x3 block\n",
        "        block = matrix[i:i+block_size, j:j+block_size]\n",
        "        # Append the block to the list\n",
        "        blocks.append(block)\n",
        "\n",
        "# Convert the list of blocks to a NumPy array\n",
        "blocks_array = np.array(blocks)\n",
        "\n",
        "# Print the extracted 3x3 blocks\n",
        "for block in blocks_array:\n",
        "    print(block)\n"
      ]
    },
    {
      "cell_type": "markdown",
      "metadata": {
        "id": "BNtxxx83zJD_"
      },
      "source": [
        "#### 85. Create a 2D array subclass such that Z[i,j] == Z[j,i] (★★★)"
      ]
    },
    {
      "cell_type": "code",
      "execution_count": null,
      "metadata": {
        "id": "-HSvEhq8zJD_",
        "colab": {
          "base_uri": "https://localhost:8080/"
        },
        "outputId": "4ebc79d8-0848-4f19-82e6-e565aa82f9b8"
      },
      "outputs": [
        {
          "output_type": "stream",
          "name": "stdout",
          "text": [
            "Original Array:\n",
            "[[1 2 3]\n",
            " [2 4 5]\n",
            " [3 5 6]]\n",
            "\n",
            "Symmetric Array:\n",
            "[[1 2 3]\n",
            " [2 4 5]\n",
            " [3 5 6]]\n",
            "\n",
            "Modified Symmetric Array:\n",
            "[[1 9 3]\n",
            " [9 4 5]\n",
            " [3 5 6]]\n"
          ]
        }
      ],
      "source": [
        "import numpy as np\n",
        "\n",
        "class SymmetricArray(np.ndarray):\n",
        "    def __new__(cls, input_array):\n",
        "        # Check if the input_array is symmetric\n",
        "        if not np.all(input_array == input_array.T):\n",
        "            raise ValueError(\"Input array is not symmetric\")\n",
        "\n",
        "        # Create a view of the input_array as SymmetricArray\n",
        "        obj = np.asarray(input_array).view(cls)\n",
        "        return obj\n",
        "\n",
        "    def __setitem__(self, index, value):\n",
        "        # Enforce symmetry by setting both Z[i,j] and Z[j,i] to the same value\n",
        "        i, j = index\n",
        "        super(SymmetricArray, self).__setitem__((i, j), value)\n",
        "        super(SymmetricArray, self).__setitem__((j, i), value)\n",
        "\n",
        "# Example usage:\n",
        "original_array = np.array([[1, 2, 3],\n",
        "                           [2, 4, 5],\n",
        "                           [3, 5, 6]])\n",
        "\n",
        "# Create a SymmetricArray from the original array\n",
        "symmetric_array = SymmetricArray(original_array)\n",
        "\n",
        "# Access elements using the subclass\n",
        "print(\"Original Array:\")\n",
        "print(original_array)\n",
        "print(\"\\nSymmetric Array:\")\n",
        "print(symmetric_array)\n",
        "\n",
        "# Modify elements (enforces symmetry)\n",
        "symmetric_array[0, 1] = 9\n",
        "print(\"\\nModified Symmetric Array:\")\n",
        "print(symmetric_array)\n"
      ]
    },
    {
      "cell_type": "markdown",
      "metadata": {
        "id": "qQ96Ss5RzJEA"
      },
      "source": [
        "#### 86. Consider a set of p matrices wich shape (n,n) and a set of p vectors with shape (n,1). How to compute the sum of of the p matrix products at once? (result has shape (n,1)) (★★★)"
      ]
    },
    {
      "cell_type": "code",
      "execution_count": null,
      "metadata": {
        "id": "kjaVXC8RzJEA",
        "colab": {
          "base_uri": "https://localhost:8080/"
        },
        "outputId": "8a5c34f9-117d-4eac-9082-d83f10e3828d"
      },
      "outputs": [
        {
          "output_type": "stream",
          "name": "stdout",
          "text": [
            "[[[2.57622889]\n",
            "  [0.8123946 ]\n",
            "  [0.4324008 ]]\n",
            "\n",
            " [[1.32935729]\n",
            "  [1.02880956]\n",
            "  [0.68887531]]\n",
            "\n",
            " [[1.78806188]\n",
            "  [1.2680929 ]\n",
            "  [0.8321049 ]]]\n"
          ]
        }
      ],
      "source": [
        "import numpy as np\n",
        "\n",
        "# Number of matrices and their size\n",
        "p = 5\n",
        "n = 3\n",
        "\n",
        "# Generate random matrices and vectors (replace with your data)\n",
        "matrices = [np.random.rand(n, n) for _ in range(p)]\n",
        "vectors = [np.random.rand(n, 1) for _ in range(p)]\n",
        "\n",
        "# Compute the sum of matrix products using NumPy broadcasting\n",
        "result = np.sum(np.array(matrices)[:, :, :, np.newaxis] * np.array(vectors)[:, np.newaxis, :, :], axis=0)\n",
        "\n",
        "# The result is a (n, 1) array containing the sum of matrix products\n",
        "print(result)\n"
      ]
    },
    {
      "cell_type": "markdown",
      "metadata": {
        "id": "QV5y6km8zJEA"
      },
      "source": [
        "#### 87. Consider a 16x16 array, how to get the block-sum (block size is 4x4)? (★★★)"
      ]
    },
    {
      "cell_type": "code",
      "execution_count": null,
      "metadata": {
        "id": "Fpn0cKfQzJEA",
        "colab": {
          "base_uri": "https://localhost:8080/"
        },
        "outputId": "cb68978f-d2a1-4e5e-daff-4b8f756777f3"
      },
      "outputs": [
        {
          "output_type": "stream",
          "name": "stdout",
          "text": [
            "[[ 424.  488.  552.  616.]\n",
            " [1448. 1512. 1576. 1640.]\n",
            " [2472. 2536. 2600. 2664.]\n",
            " [3496. 3560. 3624. 3688.]]\n"
          ]
        }
      ],
      "source": [
        "import numpy as np\n",
        "\n",
        "# Create a 16x16 array (replace this with your data)\n",
        "array_16x16 = np.arange(1, 257).reshape(16, 16)\n",
        "\n",
        "# Define the block size\n",
        "block_size = 4\n",
        "\n",
        "# Calculate the number of blocks in each dimension\n",
        "num_blocks = array_16x16.shape[0] // block_size\n",
        "\n",
        "# Initialize an empty array to store the block-sums\n",
        "block_sums = np.empty((num_blocks, num_blocks))\n",
        "\n",
        "# Iterate through the blocks and calculate the sum for each block\n",
        "for i in range(num_blocks):\n",
        "    for j in range(num_blocks):\n",
        "        # Extract the current block\n",
        "        block = array_16x16[i * block_size:(i + 1) * block_size, j * block_size:(j + 1) * block_size]\n",
        "        # Calculate the sum of the block and store it in block_sums\n",
        "        block_sums[i, j] = np.sum(block)\n",
        "\n",
        "# Print the block-sums\n",
        "print(block_sums)\n"
      ]
    },
    {
      "cell_type": "markdown",
      "metadata": {
        "id": "90cmGSWpzJEA"
      },
      "source": [
        "#### 88. How to implement the Game of Life using numpy arrays? (★★★)"
      ]
    },
    {
      "cell_type": "code",
      "execution_count": null,
      "metadata": {
        "id": "lAO397eWzJEA",
        "colab": {
          "base_uri": "https://localhost:8080/",
          "height": 34
        },
        "outputId": "20c322d2-74f1-4f10-d90f-e014eafd1d84"
      },
      "outputs": [
        {
          "output_type": "display_data",
          "data": {
            "text/plain": [
              "<Figure size 640x480 with 0 Axes>"
            ]
          },
          "metadata": {}
        }
      ],
      "source": [
        "import numpy as np\n",
        "import matplotlib.pyplot as plt\n",
        "import matplotlib.animation as animation\n",
        "\n",
        "# Function to initialize the grid with random values\n",
        "def initialize_grid(grid_size):\n",
        "    return np.random.randint(2, size=(grid_size, grid_size))\n",
        "\n",
        "# Function to update the grid according to the rules of the Game of Life\n",
        "def update_grid(grid):\n",
        "    neighbor_counts = np.zeros_like(grid)\n",
        "    for i in range(grid.shape[0]):\n",
        "        for j in range(grid.shape[1]):\n",
        "            # Define the neighborhood indices\n",
        "            neighbors = [(i-1, j-1), (i-1, j), (i-1, j+1),\n",
        "                         (i, j-1),               (i, j+1),\n",
        "                         (i+1, j-1), (i+1, j), (i+1, j+1)]\n",
        "\n",
        "            # Count the live neighbors\n",
        "            for ni, nj in neighbors:\n",
        "                if 0 <= ni < grid.shape[0] and 0 <= nj < grid.shape[1]:\n",
        "                    neighbor_counts[i, j] += grid[ni, nj]\n",
        "\n",
        "    # Apply the rules of the Game of Life\n",
        "    new_grid = np.copy(grid)\n",
        "    for i in range(grid.shape[0]):\n",
        "        for j in range(grid.shape[1]):\n",
        "            if grid[i, j] == 1:\n",
        "                if neighbor_counts[i, j] < 2 or neighbor_counts[i, j] > 3:\n",
        "                    new_grid[i, j] = 0\n",
        "            else:\n",
        "                if neighbor_counts[i, j] == 3:\n",
        "                    new_grid[i, j] = 1\n",
        "\n",
        "    return new_grid\n",
        "\n",
        "# Define the size of the grid and the number of generations\n",
        "grid_size = 50\n",
        "num_generations = 100\n",
        "\n",
        "# Initialize the grid\n",
        "grid = initialize_grid(grid_size)\n",
        "\n",
        "# Create a figure for plotting\n",
        "fig = plt.figure()\n",
        "\n",
        "# Function to update the animation\n",
        "def update(frame):\n",
        "    plt.clf()\n",
        "    plt.imshow(grid, cmap='binary', interpolation='nearest')\n",
        "    plt.title(f\"Generation {frame + 1}\")\n",
        "    grid[:] = update_grid(grid)\n",
        "\n",
        "# Create an animation\n",
        "ani = animation.FuncAnimation(fig, update, frames=num_generations, repeat=False)\n",
        "\n",
        "plt.show()\n"
      ]
    },
    {
      "cell_type": "markdown",
      "metadata": {
        "id": "sKgC0JU1zJEB"
      },
      "source": [
        "#### 89. How to get the n largest values of an array (★★★)"
      ]
    },
    {
      "cell_type": "code",
      "execution_count": null,
      "metadata": {
        "id": "hkzlBmBTzJEB",
        "colab": {
          "base_uri": "https://localhost:8080/"
        },
        "outputId": "519b128a-ca1b-49ae-a32a-81dce31e76db"
      },
      "outputs": [
        {
          "output_type": "stream",
          "name": "stdout",
          "text": [
            "Original Array:\n",
            "[3 1 4 1 5 9 2 6 5 3]\n",
            "3 Largest Values:\n",
            "[5 6 9]\n"
          ]
        }
      ],
      "source": [
        "import numpy as np\n",
        "\n",
        "# Create an example array\n",
        "arr = np.array([3, 1, 4, 1, 5, 9, 2, 6, 5, 3])\n",
        "\n",
        "# Number of largest values to retrieve\n",
        "n = 3\n",
        "\n",
        "# Use numpy.partition to partition the array\n",
        "partitioned = np.partition(arr, -n)\n",
        "\n",
        "# Get the n largest values from the right side of the partitioned array\n",
        "n_largest = partitioned[-n:]\n",
        "\n",
        "print(\"Original Array:\")\n",
        "print(arr)\n",
        "print(f\"{n} Largest Values:\")\n",
        "print(n_largest)\n"
      ]
    },
    {
      "cell_type": "markdown",
      "metadata": {
        "id": "-ARRsFgZzJEB"
      },
      "source": [
        "#### 90. Given an arbitrary number of vectors, build the cartesian product (every combinations of every item) (★★★)"
      ]
    },
    {
      "cell_type": "code",
      "execution_count": null,
      "metadata": {
        "id": "DX8ES5gDzJEB",
        "colab": {
          "base_uri": "https://localhost:8080/"
        },
        "outputId": "37eaa80f-ae01-46f3-c85e-0766c4453eeb"
      },
      "outputs": [
        {
          "output_type": "stream",
          "name": "stdout",
          "text": [
            "[(1, 'a', 10), (1, 'a', 20), (1, 'a', 30), (1, 'b', 10), (1, 'b', 20), (1, 'b', 30), (2, 'a', 10), (2, 'a', 20), (2, 'a', 30), (2, 'b', 10), (2, 'b', 20), (2, 'b', 30)]\n"
          ]
        }
      ],
      "source": [
        "from itertools import product\n",
        "\n",
        "# Define your vectors as lists (you can have an arbitrary number of vectors)\n",
        "vector1 = [1, 2]\n",
        "vector2 = ['a', 'b']\n",
        "vector3 = [10, 20, 30]\n",
        "\n",
        "# Use itertools.product to compute the cartesian product\n",
        "cartesian_product = list(product(vector1, vector2, vector3))\n",
        "\n",
        "# Print the cartesian product\n",
        "print(cartesian_product)\n"
      ]
    },
    {
      "cell_type": "markdown",
      "metadata": {
        "id": "BwYkWmSZzJEB"
      },
      "source": [
        "#### 91. How to create a record array from a regular array? (★★★)"
      ]
    },
    {
      "cell_type": "code",
      "execution_count": null,
      "metadata": {
        "id": "HTFv6zNtzJEC",
        "colab": {
          "base_uri": "https://localhost:8080/"
        },
        "outputId": "6ac8e046-64de-4a44-817d-089e8402b135"
      },
      "outputs": [
        {
          "output_type": "stream",
          "name": "stdout",
          "text": [
            "((1, 'Alice', 25), (2, 'Bob', 30), (3, 'Charlie', 22))\n"
          ]
        }
      ],
      "source": [
        "import numpy as np\n",
        "\n",
        "# Create a regular NumPy array\n",
        "regular_array = np.array([(1, 'Alice', 25),\n",
        "                           (2, 'Bob', 30),\n",
        "                           (3, 'Charlie', 22)],\n",
        "                          dtype=[('ID', int), ('Name', 'U10'), ('Age', int)])\n",
        "\n",
        "# Convert the regular array to a record array\n",
        "record_array = np.rec.fromarrays(regular_array.T, names=regular_array.dtype.names)\n",
        "\n",
        "# Print the record array\n",
        "print(record_array)\n"
      ]
    },
    {
      "cell_type": "markdown",
      "metadata": {
        "id": "uvE7k9EqzJEC"
      },
      "source": [
        "#### 92. Consider a large vector Z, compute Z to the power of 3 using 3 different methods (★★★)"
      ]
    },
    {
      "cell_type": "code",
      "execution_count": null,
      "metadata": {
        "id": "Qqxw-OMazJEC"
      },
      "outputs": [],
      "source": [
        "import numpy as np\n",
        "\n",
        "# Create a large vector Z\n",
        "Z = np.random.rand(1000000)\n",
        "\n",
        "# Method 1: Using the ** operator\n",
        "result1 = Z**3\n"
      ]
    },
    {
      "cell_type": "code",
      "source": [
        "# Method 2: Using np.power\n",
        "result2 = np.power(Z, 3)\n"
      ],
      "metadata": {
        "id": "F_Z3Gru_PJhH"
      },
      "execution_count": null,
      "outputs": []
    },
    {
      "cell_type": "code",
      "source": [
        "# Method 3: Using np.multiply\n",
        "result3 = np.multiply(np.multiply(Z, Z), Z)\n"
      ],
      "metadata": {
        "id": "WsNgmEtkPMlQ"
      },
      "execution_count": null,
      "outputs": []
    },
    {
      "cell_type": "markdown",
      "metadata": {
        "id": "LTMRiuPVzJEC"
      },
      "source": [
        "#### 93. Consider two arrays A and B of shape (8,3) and (2,2). How to find rows of A that contain elements of each row of B regardless of the order of the elements in B? (★★★)"
      ]
    },
    {
      "cell_type": "code",
      "execution_count": null,
      "metadata": {
        "id": "LfkDyeipzJEC",
        "colab": {
          "base_uri": "https://localhost:8080/"
        },
        "outputId": "05859f2c-35ee-44cb-c458-23cd1e19cba5"
      },
      "outputs": [
        {
          "output_type": "stream",
          "name": "stdout",
          "text": [
            "[[2 3 4]\n",
            " [3 4 5]]\n"
          ]
        }
      ],
      "source": [
        "import numpy as np\n",
        "\n",
        "# Create arrays A and B\n",
        "A = np.array([[1, 2, 3],\n",
        "              [2, 3, 4],\n",
        "              [3, 4, 5],\n",
        "              [4, 5, 6],\n",
        "              [5, 6, 7],\n",
        "              [6, 7, 8],\n",
        "              [7, 8, 9],\n",
        "              [8, 9, 10]])\n",
        "\n",
        "B = np.array([[2, 3],\n",
        "              [4, 5]])\n",
        "\n",
        "# Find rows of A that contain elements of each row of B\n",
        "contains_elements = np.all(np.isin(A, B), axis=1)\n",
        "\n",
        "# Get the rows of A that satisfy the condition\n",
        "result_rows = A[contains_elements]\n",
        "\n",
        "print(result_rows)\n"
      ]
    },
    {
      "cell_type": "markdown",
      "metadata": {
        "id": "6Tir5SCwzJED"
      },
      "source": [
        "#### 94. Considering a 10x3 matrix, extract rows with unequal values (e.g. [2,2,3]) (★★★)"
      ]
    },
    {
      "cell_type": "code",
      "execution_count": null,
      "metadata": {
        "id": "lL62ov5tzJED",
        "colab": {
          "base_uri": "https://localhost:8080/"
        },
        "outputId": "9b579f6f-308f-4b0b-8768-881672ed0c48"
      },
      "outputs": [
        {
          "output_type": "stream",
          "name": "stdout",
          "text": [
            "[[1 1 1]\n",
            " [4 4 4]\n",
            " [2 2 2]\n",
            " [5 6 7]\n",
            " [3 3 3]\n",
            " [8 8 9]\n",
            " [0 0 0]\n",
            " [1 2 3]\n",
            " [5 5 5]]\n"
          ]
        }
      ],
      "source": [
        "import numpy as np\n",
        "\n",
        "# Create a 10x3 matrix (example)\n",
        "matrix = np.array([[2, 2, 3],\n",
        "                   [1, 1, 1],\n",
        "                   [4, 4, 4],\n",
        "                   [2, 2, 2],\n",
        "                   [5, 6, 7],\n",
        "                   [3, 3, 3],\n",
        "                   [8, 8, 9],\n",
        "                   [0, 0, 0],\n",
        "                   [1, 2, 3],\n",
        "                   [5, 5, 5]])\n",
        "\n",
        "# Find rows with unequal values using np.all\n",
        "unequal_rows = matrix[~np.all(matrix == matrix[0, :], axis=1)]\n",
        "\n",
        "print(unequal_rows)\n"
      ]
    },
    {
      "cell_type": "markdown",
      "metadata": {
        "id": "835HiTwbzJED"
      },
      "source": [
        "#### 95. Convert a vector of ints into a matrix binary representation (★★★)"
      ]
    },
    {
      "cell_type": "code",
      "execution_count": null,
      "metadata": {
        "id": "V3zZmwcPzJED",
        "colab": {
          "base_uri": "https://localhost:8080/"
        },
        "outputId": "eb8241d5-6407-44b3-fbf8-6f99ea78b673"
      },
      "outputs": [
        {
          "output_type": "stream",
          "name": "stdout",
          "text": [
            "[[0 0 0 0 0 0 1 0]\n",
            " [0 0 0 0 0 1 0 1]\n",
            " [0 0 0 0 0 0 0 1]\n",
            " [0 0 0 0 0 1 1 1]]\n"
          ]
        }
      ],
      "source": [
        "import numpy as np\n",
        "\n",
        "# Create a vector of integers\n",
        "vector_of_ints = np.array([2, 5, 1, 7], dtype=np.uint8)  # Example values\n",
        "\n",
        "# Convert the vector to a matrix binary representation\n",
        "matrix_binary = np.unpackbits(vector_of_ints[:, np.newaxis], axis=1)\n",
        "\n",
        "print(matrix_binary)\n"
      ]
    },
    {
      "cell_type": "markdown",
      "metadata": {
        "id": "cSwQRTTgzJED"
      },
      "source": [
        "#### 96. Given a two dimensional array, how to extract unique rows? (★★★)"
      ]
    },
    {
      "cell_type": "code",
      "execution_count": null,
      "metadata": {
        "id": "FNa8zBK3zJED",
        "colab": {
          "base_uri": "https://localhost:8080/"
        },
        "outputId": "6d5ef9f2-a7e3-4700-e1c8-46fc50202876"
      },
      "outputs": [
        {
          "output_type": "stream",
          "name": "stdout",
          "text": [
            "[[1 2 3]\n",
            " [4 5 6]\n",
            " [7 8 9]]\n"
          ]
        }
      ],
      "source": [
        "import numpy as np\n",
        "\n",
        "# Create a two-dimensional array with some duplicate rows\n",
        "array = np.array([[1, 2, 3],\n",
        "                  [4, 5, 6],\n",
        "                  [1, 2, 3],\n",
        "                  [7, 8, 9],\n",
        "                  [4, 5, 6]])\n",
        "\n",
        "# Use numpy.unique to extract unique rows\n",
        "unique_rows = np.unique(array, axis=0)\n",
        "\n",
        "print(unique_rows)\n"
      ]
    },
    {
      "cell_type": "markdown",
      "metadata": {
        "id": "iXQ86YXAzJEE"
      },
      "source": [
        "#### 97. Considering 2 vectors A & B, write the einsum equivalent of inner, outer, sum, and mul function (★★★)"
      ]
    },
    {
      "cell_type": "code",
      "execution_count": null,
      "metadata": {
        "id": "7mNlq3B7zJEE"
      },
      "outputs": [],
      "source": [
        "Inner Product (Dot Product):\n",
        "\n",
        "Einsum Equivalent: np.einsum('i,i->', A, B)\n",
        "Description: Computes the dot product of two vectors A and B.\n",
        "Outer Product:\n",
        "\n",
        "Einsum Equivalent: np.einsum('i,j->ij', A, B)\n",
        "Description: Computes the outer product of two vectors A and B, resulting in a matrix.\n",
        "Sum of Elements (Summation):\n",
        "\n",
        "Einsum Equivalent: np.einsum('i->', A)\n",
        "Description: Computes the sum of all elements in vector A.\n",
        "Element-wise Multiplication (Hadamard Product):\n",
        "\n",
        "Einsum Equivalent: np.einsum('i,i->i', A, B)\n",
        "Description: Computes the element-wise product of two vectors A and B, resulting in a new vector of the same length as A and B.\n",
        "You can use these einsum expressions to perform the corresponding operations on vectors A and B. Just replace A and B with your actual vectors when using these expressions.\n",
        "\n",
        "\n",
        "\n",
        "\n"
      ]
    },
    {
      "cell_type": "markdown",
      "metadata": {
        "id": "9dIyfZ0GzJEE"
      },
      "source": [
        "#### 98. Considering a path described by two vectors (X,Y), how to sample it using equidistant samples (★★★)?"
      ]
    },
    {
      "cell_type": "code",
      "execution_count": null,
      "metadata": {
        "id": "894yg9SpzJEE"
      },
      "outputs": [],
      "source": [
        "import numpy as np\n",
        "from scipy.interpolate import interp1d\n",
        "\n",
        "# Example vectors X and Y (replace with your actual data)\n",
        "X = np.array([0, 1, 2, 3, 4])\n",
        "Y = np.array([0, 1, 4, 9, 16])\n",
        "\n",
        "# Calculate the total path length\n",
        "path_length = np.sum(np.sqrt(np.diff(X)**2 + np.diff(Y)**2))\n",
        "\n",
        "# Determine the number of equidistant samples\n",
        "num_samples = 10  # Adjust as needed\n",
        "\n",
        "# Calculate the step size between samples\n",
        "step_size = path_length / (num_samples - 1)\n",
        "\n",
        "# Create an array of equidistant distances along the path\n",
        "sample_distances = np.linspace(0, path_length, num_samples)\n",
        "\n",
        "# Create interpolation functions for X and Y\n",
        "interpolate_X = interp1d(np.cumsum(np.insert(np.diff(X), 0, 0)), X, kind='linear', fill_value='extrapolate')\n",
        "interpolate_Y = interp1d(np.cumsum(np.insert(np.diff(Y), 0, 0)), Y, kind='linear', fill_value='extrapolate')\n",
        "\n",
        "# Interpolate X and Y coordinates at each sample point\n",
        "sampled_X = interpolate_X(sample_distances)\n",
        "sampled_Y = interpolate_Y(sample_distances)\n",
        "\n",
        "# The arrays sampled_X and sampled_Y now contain the equidistantly sampled points along the path.\n"
      ]
    },
    {
      "cell_type": "markdown",
      "metadata": {
        "id": "9f9bKTdhzJEE"
      },
      "source": [
        "#### 99. Given an integer n and a 2D array X, select from X the rows which can be interpreted as draws from a multinomial distribution with n degrees, i.e., the rows which only contain integers and which sum to n. (★★★)"
      ]
    },
    {
      "cell_type": "code",
      "execution_count": null,
      "metadata": {
        "id": "myEJewc4zJEF",
        "colab": {
          "base_uri": "https://localhost:8080/",
          "height": 245
        },
        "outputId": "e638cf39-2d08-489b-a924-d6c03663407a"
      },
      "outputs": [
        {
          "output_type": "error",
          "ename": "ValueError",
          "evalue": "ignored",
          "traceback": [
            "\u001b[0;31m---------------------------------------------------------------------------\u001b[0m",
            "\u001b[0;31mValueError\u001b[0m                                Traceback (most recent call last)",
            "\u001b[0;32m<ipython-input-59-85edfa01dd59>\u001b[0m in \u001b[0;36m<cell line: 13>\u001b[0;34m()\u001b[0m\n\u001b[1;32m     11\u001b[0m \u001b[0;34m\u001b[0m\u001b[0m\n\u001b[1;32m     12\u001b[0m \u001b[0;31m# Find rows where elements are integers and sum to n\u001b[0m\u001b[0;34m\u001b[0m\u001b[0;34m\u001b[0m\u001b[0m\n\u001b[0;32m---> 13\u001b[0;31m \u001b[0mvalid_rows\u001b[0m \u001b[0;34m=\u001b[0m \u001b[0;34m(\u001b[0m\u001b[0mX\u001b[0m\u001b[0;34m.\u001b[0m\u001b[0mastype\u001b[0m\u001b[0;34m(\u001b[0m\u001b[0mint\u001b[0m\u001b[0;34m)\u001b[0m \u001b[0;34m==\u001b[0m \u001b[0mX\u001b[0m\u001b[0;34m)\u001b[0m \u001b[0;34m&\u001b[0m \u001b[0;34m(\u001b[0m\u001b[0mX\u001b[0m\u001b[0;34m.\u001b[0m\u001b[0msum\u001b[0m\u001b[0;34m(\u001b[0m\u001b[0maxis\u001b[0m\u001b[0;34m=\u001b[0m\u001b[0;36m1\u001b[0m\u001b[0;34m)\u001b[0m \u001b[0;34m==\u001b[0m \u001b[0mn\u001b[0m\u001b[0;34m)\u001b[0m\u001b[0;34m\u001b[0m\u001b[0;34m\u001b[0m\u001b[0m\n\u001b[0m\u001b[1;32m     14\u001b[0m \u001b[0;34m\u001b[0m\u001b[0m\n\u001b[1;32m     15\u001b[0m \u001b[0;31m# Select the rows meeting the condition\u001b[0m\u001b[0;34m\u001b[0m\u001b[0;34m\u001b[0m\u001b[0m\n",
            "\u001b[0;31mValueError\u001b[0m: operands could not be broadcast together with shapes (5,3) (5,) "
          ]
        }
      ],
      "source": [
        "import numpy as np\n",
        "\n",
        "# Example 2D array X (replace with your actual data)\n",
        "X = np.array([[1, 2, 1],\n",
        "              [0, 3, 2],\n",
        "              [2, 1, 2],\n",
        "              [4, 0, 1],\n",
        "              [1, 1, 3]])\n",
        "\n",
        "n = 4  # The value of n for the multinomial distribution\n",
        "\n",
        "# Find rows where elements are integers and sum to n\n",
        "valid_rows = (X.astype(int) == X) & (X.sum(axis=1) == n)\n",
        "\n",
        "# Select the rows meeting the condition\n",
        "selected_rows = X[valid_rows.all(axis=1)]\n",
        "\n",
        "print(selected_rows)\n"
      ]
    },
    {
      "cell_type": "markdown",
      "metadata": {
        "id": "pCUlSFDKzJEF"
      },
      "source": [
        "#### 100. Compute bootstrapped 95% confidence intervals for the mean of a 1D array X (i.e., resample the elements of an array with replacement N times, compute the mean of each sample, and then compute percentiles over the means). (★★★)"
      ]
    },
    {
      "cell_type": "code",
      "source": [
        "import numpy as np\n",
        "\n",
        "# Example 1D array X (replace with your actual data)\n",
        "X = np.array([3.2, 4.8, 2.5, 6.1, 3.9, 5.7, 2.3, 4.2, 5.0, 6.8])\n",
        "\n",
        "# Number of bootstrap samples\n",
        "N = 10000\n",
        "\n",
        "# Initialize an array to store bootstrapped sample means\n",
        "bootstrapped_means = np.zeros(N)\n",
        "\n",
        "# Perform bootstrapping\n",
        "for i in range(N):\n",
        "    # Resample X with replacement\n",
        "    resampled_sample = np.random.choice(X, size=len(X), replace=True)\n",
        "\n",
        "    # Compute the mean of the resampled sample\n",
        "    bootstrapped_means[i] = np.mean(resampled_sample)\n",
        "\n",
        "# Calculate the 2.5th and 97.5th percentiles for the confidence interval\n",
        "lower_bound = np.percentile(bootstrapped_means, 2.5)\n",
        "upper_bound = np.percentile(bootstrapped_means, 97.5)\n",
        "\n",
        "print(\"95% Confidence Interval for Mean:\", (lower_bound, upper_bound))\n"
      ],
      "metadata": {
        "colab": {
          "base_uri": "https://localhost:8080/"
        },
        "id": "PDhtuibMQQLC",
        "outputId": "0de3524b-e52a-4ffd-a55e-64d6aa3ed5e0"
      },
      "execution_count": null,
      "outputs": [
        {
          "output_type": "stream",
          "name": "stdout",
          "text": [
            "95% Confidence Interval for Mean: (3.5799999999999996, 5.34)\n"
          ]
        }
      ]
    }
  ],
  "metadata": {
    "kernelspec": {
      "display_name": "Python 3 (ipykernel)",
      "language": "python",
      "name": "python3"
    },
    "language_info": {
      "codemirror_mode": {
        "name": "ipython",
        "version": 3
      },
      "file_extension": ".py",
      "mimetype": "text/x-python",
      "name": "python",
      "nbconvert_exporter": "python",
      "pygments_lexer": "ipython3",
      "version": "3.11.3"
    },
    "colab": {
      "provenance": [],
      "include_colab_link": true
    }
  },
  "nbformat": 4,
  "nbformat_minor": 0
}