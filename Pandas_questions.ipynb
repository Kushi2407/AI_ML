{
  "cells": [
    {
      "cell_type": "markdown",
      "metadata": {
        "id": "view-in-github",
        "colab_type": "text"
      },
      "source": [
        "<a href=\"https://colab.research.google.com/github/Kushi2407/AI_ML/blob/main/Pandas_questions.ipynb\" target=\"_parent\"><img src=\"https://colab.research.google.com/assets/colab-badge.svg\" alt=\"Open In Colab\"/></a>"
      ]
    },
    {
      "cell_type": "markdown",
      "metadata": {
        "id": "5rMLll1gAc7i"
      },
      "source": [
        "## Answer the following-by writing & executing code\n",
        "\n",
        "\n",
        "Since pandas is a large library with many different specialist features and functions, these excercises focus mainly on the fundamentals of manipulating data (indexing, grouping, aggregating, cleaning), making use of the core DataFrame and Series objects.\n",
        "\n",
        "Many of the excerises here are stright-forward in that the solutions require no more than a few lines of code (in pandas or NumPy... don't go using pure Python or Cython!). Choosing the right methods and following best practices is the underlying goal.\n",
        "\n",
        "The exercises are loosely divided in sections. Each section has a difficulty rating; these ratings are subjective, of course, but should be a seen as a rough guide as to how inventive the required solution is.\n",
        "\n",
        "If you're just starting out with pandas and you are looking for some other resources, the official documentation  is very extensive. In particular, some good places get a broader overview of pandas are...\n",
        "\n",
        "Enjoy the Questions!\n"
      ]
    },
    {
      "cell_type": "markdown",
      "metadata": {
        "id": "tOVN5IeQAc7k"
      },
      "source": [
        "## Importing pandas\n",
        "\n",
        "### Getting started and checking your pandas setup\n",
        "\n",
        "Difficulty: *easy*\n",
        "\n",
        "**1.** Import pandas under the alias `pd`."
      ]
    },
    {
      "cell_type": "code",
      "execution_count": null,
      "metadata": {
        "id": "6ltQpsHVAc7k"
      },
      "outputs": [],
      "source": [
        "import pandas as pd"
      ]
    },
    {
      "cell_type": "markdown",
      "metadata": {
        "id": "mMa9jF1xAc7l"
      },
      "source": [
        "**2.** Print the version of pandas that has been imported."
      ]
    },
    {
      "cell_type": "code",
      "execution_count": null,
      "metadata": {
        "colab": {
          "base_uri": "https://localhost:8080/"
        },
        "id": "ixPNEgfuAc7l",
        "outputId": "db2c68b9-e936-4328-a14a-460812fe7af3"
      },
      "outputs": [
        {
          "output_type": "stream",
          "name": "stdout",
          "text": [
            "Pandas Version: 1.5.3\n"
          ]
        }
      ],
      "source": [
        "import pandas as pd\n",
        "\n",
        "# Print the pandas version\n",
        "print(\"Pandas Version:\", pd.__version__)\n"
      ]
    },
    {
      "cell_type": "markdown",
      "metadata": {
        "id": "z_RWQJFKAc7l"
      },
      "source": [
        "**3.** Print out all the *version* information of the libraries that are required by the pandas library."
      ]
    },
    {
      "cell_type": "code",
      "execution_count": null,
      "metadata": {
        "id": "T_t3PbpQAc7l",
        "colab": {
          "base_uri": "https://localhost:8080/"
        },
        "outputId": "480c5ec6-0b42-4e0a-da9d-7665282edead"
      },
      "outputs": [
        {
          "output_type": "stream",
          "name": "stderr",
          "text": [
            "/usr/local/lib/python3.10/dist-packages/_distutils_hack/__init__.py:33: UserWarning: Setuptools is replacing distutils.\n",
            "  warnings.warn(\"Setuptools is replacing distutils.\")\n"
          ]
        },
        {
          "output_type": "stream",
          "name": "stdout",
          "text": [
            "\n",
            "INSTALLED VERSIONS\n",
            "------------------\n",
            "commit           : 2e218d10984e9919f0296931d92ea851c6a6faf5\n",
            "python           : 3.10.12.final.0\n",
            "python-bits      : 64\n",
            "OS               : Linux\n",
            "OS-release       : 5.15.120+\n",
            "Version          : #1 SMP Wed Aug 30 11:19:59 UTC 2023\n",
            "machine          : x86_64\n",
            "processor        : x86_64\n",
            "byteorder        : little\n",
            "LC_ALL           : en_US.UTF-8\n",
            "LANG             : en_US.UTF-8\n",
            "LOCALE           : en_US.UTF-8\n",
            "\n",
            "pandas           : 1.5.3\n",
            "numpy            : 1.23.5\n",
            "pytz             : 2023.3.post1\n",
            "dateutil         : 2.8.2\n",
            "setuptools       : 67.7.2\n",
            "pip              : 23.1.2\n",
            "Cython           : 3.0.2\n",
            "pytest           : 7.4.1\n",
            "hypothesis       : None\n",
            "sphinx           : 5.0.2\n",
            "blosc            : None\n",
            "feather          : None\n",
            "xlsxwriter       : None\n",
            "lxml.etree       : 4.9.3\n",
            "html5lib         : 1.1\n",
            "pymysql          : None\n",
            "psycopg2         : 2.9.7\n",
            "jinja2           : 3.1.2\n",
            "IPython          : 7.34.0\n",
            "pandas_datareader: 0.10.0\n",
            "bs4              : 4.11.2\n",
            "bottleneck       : None\n",
            "brotli           : None\n",
            "fastparquet      : None\n",
            "fsspec           : 2023.6.0\n",
            "gcsfs            : 2023.6.0\n",
            "matplotlib       : 3.7.1\n",
            "numba            : 0.56.4\n",
            "numexpr          : 2.8.5\n",
            "odfpy            : None\n",
            "openpyxl         : 3.1.2\n",
            "pandas_gbq       : 0.17.9\n",
            "pyarrow          : 9.0.0\n",
            "pyreadstat       : None\n",
            "pyxlsb           : None\n",
            "s3fs             : None\n",
            "scipy            : 1.11.2\n",
            "snappy           : None\n",
            "sqlalchemy       : 2.0.20\n",
            "tables           : 3.8.0\n",
            "tabulate         : 0.9.0\n",
            "xarray           : 2023.7.0\n",
            "xlrd             : 2.0.1\n",
            "xlwt             : None\n",
            "zstandard        : None\n",
            "tzdata           : None\n"
          ]
        }
      ],
      "source": [
        "import pandas as pd\n",
        "\n",
        "# Print version information of libraries required by pandas\n",
        "pd.show_versions()\n",
        "\n"
      ]
    },
    {
      "cell_type": "markdown",
      "metadata": {
        "id": "dn6zSJ2QAc7m"
      },
      "source": [
        "## DataFrame basics\n",
        "\n",
        "### A few of the fundamental routines for selecting, sorting, adding and aggregating data in DataFrames\n",
        "\n",
        "Difficulty: *easy*\n",
        "\n",
        "Note: remember to import numpy using:\n",
        "```python\n",
        "import numpy as np\n",
        "```\n",
        "\n",
        "Consider the following Python dictionary `data` and Python list `labels`:\n",
        "\n",
        "``` python\n",
        "data = {'animal': ['cat', 'cat', 'snake', 'dog', 'dog', 'cat', 'snake', 'cat', 'dog', 'dog'],\n",
        "        'age': [2.5, 3, 0.5, np.nan, 5, 2, 4.5, np.nan, 7, 3],\n",
        "        'visits': [1, 3, 2, 3, 2, 3, 1, 1, 2, 1],\n",
        "        'priority': ['yes', 'yes', 'no', 'yes', 'no', 'no', 'no', 'yes', 'no', 'no']}\n",
        "\n",
        "labels = ['a', 'b', 'c', 'd', 'e', 'f', 'g', 'h', 'i', 'j']\n",
        "```\n",
        "(This is just some meaningless data I made up with the theme of animals and trips to a vet.)\n",
        "\n",
        "**4.** Create a DataFrame `df` from this dictionary `data` which has the index `labels`."
      ]
    },
    {
      "cell_type": "code",
      "execution_count": null,
      "metadata": {
        "id": "wulqx-5yAc7m"
      },
      "outputs": [],
      "source": [
        "import numpy as np\n",
        "import pandas as pd\n",
        "\n",
        "data = {'animal': ['cat', 'cat', 'snake', 'dog', 'dog', 'cat', 'snake', 'cat', 'dog', 'dog'],\n",
        "        'age': [2.5, 3, 0.5, np.nan, 5, 2, 4.5, np.nan, 7, 3],\n",
        "        'visits': [1, 3, 2, 3, 2, 3, 1, 1, 2, 1],\n",
        "        'priority': ['yes', 'yes', 'no', 'yes', 'no', 'no', 'no', 'yes', 'no', 'no']}\n",
        "\n",
        "labels = ['a', 'b', 'c', 'd', 'e', 'f', 'g', 'h', 'i', 'j']\n",
        "\n",
        "df = DataFrame()"
      ]
    },
    {
      "cell_type": "markdown",
      "metadata": {
        "id": "hMxP6_GGAc7n"
      },
      "source": [
        "**5.** Display a summary of the basic information about this DataFrame and its data (*hint: there is a single method that can be called on the DataFrame*)."
      ]
    },
    {
      "cell_type": "code",
      "execution_count": null,
      "metadata": {
        "id": "5DGVbwC_Ac7n",
        "colab": {
          "base_uri": "https://localhost:8080/",
          "height": 210
        },
        "outputId": "4ab400e3-dc53-48b1-f315-ed0ddf0217dd"
      },
      "outputs": [
        {
          "output_type": "error",
          "ename": "NameError",
          "evalue": "ignored",
          "traceback": [
            "\u001b[0;31m---------------------------------------------------------------------------\u001b[0m",
            "\u001b[0;31mNameError\u001b[0m                                 Traceback (most recent call last)",
            "\u001b[0;32m<ipython-input-3-62d87990a9ca>\u001b[0m in \u001b[0;36m<cell line: 4>\u001b[0;34m()\u001b[0m\n\u001b[1;32m      2\u001b[0m \u001b[0;34m\u001b[0m\u001b[0m\n\u001b[1;32m      3\u001b[0m \u001b[0;31m# Assuming you have a DataFrame named 'df'\u001b[0m\u001b[0;34m\u001b[0m\u001b[0;34m\u001b[0m\u001b[0m\n\u001b[0;32m----> 4\u001b[0;31m \u001b[0mdf\u001b[0m\u001b[0;34m.\u001b[0m\u001b[0minfo\u001b[0m\u001b[0;34m(\u001b[0m\u001b[0;34m)\u001b[0m\u001b[0;34m\u001b[0m\u001b[0;34m\u001b[0m\u001b[0m\n\u001b[0m",
            "\u001b[0;31mNameError\u001b[0m: name 'df' is not defined"
          ]
        }
      ],
      "source": [
        "import pandas as pd\n",
        "\n",
        "# Assuming you have a DataFrame named 'df'\n",
        "df.info()\n",
        "\n",
        "When you run df.info(), it will display information\n",
        "about the DataFrame, including the number of non-null\n",
        "entries in each column, the data types of columns, and\n",
        "memory usage. This summary provides a quick overview of\n",
        "the DataFrame's structure and data types.\n"
      ]
    },
    {
      "cell_type": "markdown",
      "metadata": {
        "id": "l4XUHXFQAc7n"
      },
      "source": [
        "**6.** Return the first 3 rows of the DataFrame `df`."
      ]
    },
    {
      "cell_type": "code",
      "execution_count": null,
      "metadata": {
        "id": "A-hstyqCAc7n",
        "colab": {
          "base_uri": "https://localhost:8080/"
        },
        "outputId": "64372c06-193f-4372-8163-6eae412a4dfb"
      },
      "outputs": [
        {
          "output_type": "stream",
          "name": "stdout",
          "text": [
            "  animal  age  visits priority\n",
            "a    cat  2.5       1      yes\n",
            "b    cat  3.0       3      yes\n",
            "c  snake  0.5       2       no\n"
          ]
        }
      ],
      "source": [
        "import numpy as np\n",
        "import pandas as pd\n",
        "\n",
        "data = {\n",
        "    'animal': ['cat', 'cat', 'snake', 'dog', 'dog', 'cat', 'snake', 'cat', 'dog', 'dog'],\n",
        "    'age': [2.5, 3, 0.5, np.nan, 5, 2, 4.5, np.nan, 7, 3],\n",
        "    'visits': [1, 3, 2, 3, 2, 3, 1, 1, 2, 1],\n",
        "    'priority': ['yes', 'yes', 'no', 'yes', 'no', 'no', 'no', 'yes', 'no', 'no']\n",
        "}\n",
        "\n",
        "labels = ['a', 'b', 'c', 'd', 'e', 'f', 'g', 'h', 'i', 'j']\n",
        "\n",
        "# Create the DataFrame with the provided index labels\n",
        "df = pd.DataFrame(data, index=labels)\n",
        "\n",
        "# Return the first 3 rows of the DataFrame\n",
        "first_3_rows = df.head(3)\n",
        "\n",
        "print(first_3_rows)\n",
        "\n"
      ]
    },
    {
      "cell_type": "markdown",
      "metadata": {
        "id": "dn7aTlzeAc7n"
      },
      "source": [
        "**7.** Select just the 'animal' and 'age' columns from the DataFrame `df`."
      ]
    },
    {
      "cell_type": "code",
      "execution_count": null,
      "metadata": {
        "id": "IP29Ku6XAc7n",
        "colab": {
          "base_uri": "https://localhost:8080/"
        },
        "outputId": "e326895f-276c-479e-cdc2-4cb883078d0a"
      },
      "outputs": [
        {
          "output_type": "stream",
          "name": "stdout",
          "text": [
            "  animal  age\n",
            "a    cat  2.5\n",
            "b    cat  3.0\n",
            "c  snake  0.5\n",
            "d    dog  NaN\n",
            "e    dog  5.0\n",
            "f    cat  2.0\n",
            "g  snake  4.5\n",
            "h    cat  NaN\n",
            "i    dog  7.0\n",
            "j    dog  3.0\n"
          ]
        }
      ],
      "source": [
        "# Select the 'animal' and 'age' columns\n",
        "selected_columns = df[['animal', 'age']]\n",
        "\n",
        "print(selected_columns)\n"
      ]
    },
    {
      "cell_type": "markdown",
      "metadata": {
        "id": "ClCcH_6xAc7n"
      },
      "source": [
        "**8.** Select the data in rows `[3, 4, 8]` *and* in columns `['animal', 'age']`."
      ]
    },
    {
      "cell_type": "code",
      "execution_count": null,
      "metadata": {
        "id": "Ae2pFIuSAc7o",
        "colab": {
          "base_uri": "https://localhost:8080/"
        },
        "outputId": "99c80c14-c167-4e00-b050-26148ae0063e"
      },
      "outputs": [
        {
          "output_type": "stream",
          "name": "stdout",
          "text": [
            "  animal  age\n",
            "d    dog  NaN\n",
            "e    dog  5.0\n",
            "i    dog  7.0\n"
          ]
        }
      ],
      "source": [
        "import numpy as np\n",
        "import pandas as pd\n",
        "\n",
        "data = {'animal': ['cat', 'cat', 'snake', 'dog', 'dog', 'cat', 'snake', 'cat', 'dog', 'dog'],\n",
        "        'age': [2.5, 3, 0.5, np.nan, 5, 2, 4.5, np.nan, 7, 3],\n",
        "        'visits': [1, 3, 2, 3, 2, 3, 1, 1, 2, 1],\n",
        "        'priority': ['yes', 'yes', 'no', 'yes', 'no', 'no', 'no', 'yes', 'no', 'no']}\n",
        "\n",
        "labels = ['a', 'b', 'c', 'd', 'e', 'f', 'g', 'h', 'i', 'j']\n",
        "\n",
        "# Create the DataFrame with the provided data and index labels\n",
        "df = pd.DataFrame(data, index=labels)\n",
        "\n",
        "# Select the data in rows [3, 4, 8] and in columns ['animal', 'age']\n",
        "selected_data = df.loc[['d', 'e', 'i'], ['animal', 'age']]\n",
        "\n",
        "print(selected_data)\n"
      ]
    },
    {
      "cell_type": "markdown",
      "metadata": {
        "id": "f7Va0W0UAc7o"
      },
      "source": [
        "**9.** Select only the rows where the number of visits is greater than 3."
      ]
    },
    {
      "cell_type": "code",
      "execution_count": null,
      "metadata": {
        "id": "zXnQDuTFAc7o",
        "colab": {
          "base_uri": "https://localhost:8080/"
        },
        "outputId": "bd673f68-88a7-43d5-a045-9da4b7aa83ab"
      },
      "outputs": [
        {
          "output_type": "stream",
          "name": "stdout",
          "text": [
            "Empty DataFrame\n",
            "Columns: [animal, age, visits, priority]\n",
            "Index: []\n"
          ]
        }
      ],
      "source": [
        "import numpy as np\n",
        "import pandas as pd\n",
        "\n",
        "data = {'animal': ['cat', 'cat', 'snake', 'dog', 'dog', 'cat', 'snake', 'cat', 'dog', 'dog'],\n",
        "        'age': [2.5, 3, 0.5, np.nan, 5, 2, 4.5, np.nan, 7, 3],\n",
        "        'visits': [1, 3, 2, 3, 2, 3, 1, 1, 2, 1],\n",
        "        'priority': ['yes', 'yes', 'no', 'yes', 'no', 'no', 'no', 'yes', 'no', 'no']}\n",
        "\n",
        "labels = ['a', 'b', 'c', 'd', 'e', 'f', 'g', 'h', 'i', 'j']\n",
        "\n",
        "# Create the DataFrame with the provided data and index labels\n",
        "df = pd.DataFrame(data, index=labels)\n",
        "\n",
        "# Select only the rows where the number of visits is greater than 3\n",
        "selected_rows = df[df['visits'] > 3]\n",
        "\n",
        "print(selected_rows)\n"
      ]
    },
    {
      "cell_type": "markdown",
      "metadata": {
        "id": "KZw-3TABAc7o"
      },
      "source": [
        "**10.** Select the rows where the age is missing, i.e. it is `NaN`."
      ]
    },
    {
      "cell_type": "code",
      "execution_count": null,
      "metadata": {
        "id": "Sa3jsf9aAc7o",
        "colab": {
          "base_uri": "https://localhost:8080/"
        },
        "outputId": "3737a065-8f0b-4585-bcf7-4e3946a51281"
      },
      "outputs": [
        {
          "output_type": "stream",
          "name": "stdout",
          "text": [
            "  animal  age  visits priority\n",
            "d    dog  NaN       3      yes\n",
            "h    cat  NaN       1      yes\n"
          ]
        }
      ],
      "source": [
        "import numpy as np\n",
        "import pandas as pd\n",
        "\n",
        "data = {'animal': ['cat', 'cat', 'snake', 'dog', 'dog', 'cat', 'snake', 'cat', 'dog', 'dog'],\n",
        "        'age': [2.5, 3, 0.5, np.nan, 5, 2, 4.5, np.nan, 7, 3],\n",
        "        'visits': [1, 3, 2, 3, 2, 3, 1, 1, 2, 1],\n",
        "        'priority': ['yes', 'yes', 'no', 'yes', 'no', 'no', 'no', 'yes', 'no', 'no']}\n",
        "\n",
        "labels = ['a', 'b', 'c', 'd', 'e', 'f', 'g', 'h', 'i', 'j']\n",
        "\n",
        "# Create the DataFrame with the provided data and index labels\n",
        "df = pd.DataFrame(data, index=labels)\n",
        "\n",
        "# Select the rows where the 'age' is missing (NaN)\n",
        "missing_age_rows = df[df['age'].isna()]\n",
        "\n",
        "print(missing_age_rows)\n"
      ]
    },
    {
      "cell_type": "markdown",
      "metadata": {
        "id": "qrQxdRWqAc7o"
      },
      "source": [
        "**11.** Select the rows where the animal is a cat *and* the age is less than 3."
      ]
    },
    {
      "cell_type": "code",
      "execution_count": null,
      "metadata": {
        "id": "u-cxN_FtAc7o",
        "colab": {
          "base_uri": "https://localhost:8080/"
        },
        "outputId": "b269ffda-a3d6-4aa4-febd-3030b73b0889"
      },
      "outputs": [
        {
          "output_type": "stream",
          "name": "stdout",
          "text": [
            "  animal  age  visits priority\n",
            "a    cat  2.5       1      yes\n",
            "f    cat  2.0       3       no\n"
          ]
        }
      ],
      "source": [
        "import numpy as np\n",
        "import pandas as pd\n",
        "\n",
        "data = {'animal': ['cat', 'cat', 'snake', 'dog', 'dog', 'cat', 'snake', 'cat', 'dog', 'dog'],\n",
        "        'age': [2.5, 3, 0.5, np.nan, 5, 2, 4.5, np.nan, 7, 3],\n",
        "        'visits': [1, 3, 2, 3, 2, 3, 1, 1, 2, 1],\n",
        "        'priority': ['yes', 'yes', 'no', 'yes', 'no', 'no', 'no', 'yes', 'no', 'no']}\n",
        "\n",
        "labels = ['a', 'b', 'c', 'd', 'e', 'f', 'g', 'h', 'i', 'j']\n",
        "\n",
        "# Create the DataFrame with the provided data and index labels\n",
        "df = pd.DataFrame(data, index=labels)\n",
        "\n",
        "# Select the rows where the 'animal' is 'cat' and the 'age' is less than 3\n",
        "selected_rows = df[(df['animal'] == 'cat') & (df['age'] < 3)]\n",
        "\n",
        "print(selected_rows)\n"
      ]
    },
    {
      "cell_type": "markdown",
      "metadata": {
        "id": "fE_Cj8aNAc7o"
      },
      "source": [
        "**12.** Select the rows the age is between 2 and 4 (inclusive)."
      ]
    },
    {
      "cell_type": "code",
      "execution_count": null,
      "metadata": {
        "id": "z1vzq3wqAc7o",
        "colab": {
          "base_uri": "https://localhost:8080/"
        },
        "outputId": "d6320fc0-7691-4e87-a45f-d1fa3d202e99"
      },
      "outputs": [
        {
          "output_type": "stream",
          "name": "stdout",
          "text": [
            "  animal  age  visits priority\n",
            "a    cat  2.5       1      yes\n",
            "b    cat  3.0       3      yes\n",
            "f    cat  2.0       3       no\n",
            "j    dog  3.0       1       no\n"
          ]
        }
      ],
      "source": [
        "import numpy as np\n",
        "import pandas as pd\n",
        "\n",
        "data = {'animal': ['cat', 'cat', 'snake', 'dog', 'dog', 'cat', 'snake', 'cat', 'dog', 'dog'],\n",
        "        'age': [2.5, 3, 0.5, np.nan, 5, 2, 4.5, np.nan, 7, 3],\n",
        "        'visits': [1, 3, 2, 3, 2, 3, 1, 1, 2, 1],\n",
        "        'priority': ['yes', 'yes', 'no', 'yes', 'no', 'no', 'no', 'yes', 'no', 'no']}\n",
        "\n",
        "labels = ['a', 'b', 'c', 'd', 'e', 'f', 'g', 'h', 'i', 'j']\n",
        "\n",
        "# Create the DataFrame with the provided data and index labels\n",
        "df = pd.DataFrame(data, index=labels)\n",
        "\n",
        "# Select the rows where the 'age' is between 2 and 4 (inclusive)\n",
        "selected_rows = df[(df['age'] >= 2) & (df['age'] <= 4)]\n",
        "\n",
        "print(selected_rows)\n"
      ]
    },
    {
      "cell_type": "markdown",
      "metadata": {
        "id": "T6IHt7DzAc7o"
      },
      "source": [
        "**13.** Change the age in row 'f' to 1.5."
      ]
    },
    {
      "cell_type": "code",
      "execution_count": null,
      "metadata": {
        "id": "anG2rqxtAc7p",
        "colab": {
          "base_uri": "https://localhost:8080/"
        },
        "outputId": "1723b67d-6d6d-4c7a-a1f0-17211e236a75"
      },
      "outputs": [
        {
          "output_type": "stream",
          "name": "stdout",
          "text": [
            "  animal  age  visits priority\n",
            "a    cat  2.5       1      yes\n",
            "b    cat  3.0       3      yes\n",
            "c  snake  0.5       2       no\n",
            "d    dog  NaN       3      yes\n",
            "e    dog  5.0       2       no\n",
            "f    cat  1.5       3       no\n",
            "g  snake  4.5       1       no\n",
            "h    cat  NaN       1      yes\n",
            "i    dog  7.0       2       no\n",
            "j    dog  3.0       1       no\n"
          ]
        }
      ],
      "source": [
        "import numpy as np\n",
        "import pandas as pd\n",
        "\n",
        "data = {'animal': ['cat', 'cat', 'snake', 'dog', 'dog', 'cat', 'snake', 'cat', 'dog', 'dog'],\n",
        "        'age': [2.5, 3, 0.5, np.nan, 5, 2, 4.5, np.nan, 7, 3],\n",
        "        'visits': [1, 3, 2, 3, 2, 3, 1, 1, 2, 1],\n",
        "        'priority': ['yes', 'yes', 'no', 'yes', 'no', 'no', 'no', 'yes', 'no', 'no']}\n",
        "\n",
        "labels = ['a', 'b', 'c', 'd', 'e', 'f', 'g', 'h', 'i', 'j']\n",
        "\n",
        "# Create the DataFrame with the provided data and index labels\n",
        "df = pd.DataFrame(data, index=labels)\n",
        "\n",
        "# Change the 'age' in row 'f' to 1.5\n",
        "df.loc['f', 'age'] = 1.5\n",
        "\n",
        "print(df)\n"
      ]
    },
    {
      "cell_type": "markdown",
      "metadata": {
        "id": "2Pf-Vm-0Ac7p"
      },
      "source": [
        "**14.** Calculate the sum of all visits in `df` (i.e. find the total number of visits)."
      ]
    },
    {
      "cell_type": "code",
      "execution_count": null,
      "metadata": {
        "id": "fncUSLNQAc7p",
        "colab": {
          "base_uri": "https://localhost:8080/"
        },
        "outputId": "cb04b263-4cb6-4bd6-af0a-10115959f004"
      },
      "outputs": [
        {
          "output_type": "stream",
          "name": "stdout",
          "text": [
            "Total Visits: 19\n"
          ]
        }
      ],
      "source": [
        "import numpy as np\n",
        "import pandas as pd\n",
        "\n",
        "data = {'animal': ['cat', 'cat', 'snake', 'dog', 'dog', 'cat', 'snake', 'cat', 'dog', 'dog'],\n",
        "        'age': [2.5, 3, 0.5, np.nan, 5, 2, 4.5, np.nan, 7, 3],\n",
        "        'visits': [1, 3, 2, 3, 2, 3, 1, 1, 2, 1],\n",
        "        'priority': ['yes', ' yes', 'no', 'yes', 'no', 'no', 'no', 'yes', 'no', 'no']}\n",
        "\n",
        "labels = ['a', 'b', 'c', 'd', 'e', 'f', 'g', 'h', 'i', 'j']\n",
        "\n",
        "# Create the DataFrame with the provided data and index labels\n",
        "df = pd.DataFrame(data, index=labels)\n",
        "\n",
        "# Calculate the sum of all visits\n",
        "total_visits = df['visits'].sum()\n",
        "\n",
        "print(\"Total Visits:\", total_visits)\n"
      ]
    },
    {
      "cell_type": "markdown",
      "metadata": {
        "id": "ZFSd3VWSAc7p"
      },
      "source": [
        "**15.** Calculate the mean age for each different animal in `df`."
      ]
    },
    {
      "cell_type": "code",
      "execution_count": null,
      "metadata": {
        "id": "vf5MNKPUAc7p",
        "colab": {
          "base_uri": "https://localhost:8080/"
        },
        "outputId": "711d33d3-7c73-4e3c-fd5e-5ce02a2438cb"
      },
      "outputs": [
        {
          "output_type": "stream",
          "name": "stdout",
          "text": [
            "animal\n",
            "cat      2.5\n",
            "dog      5.0\n",
            "snake    2.5\n",
            "Name: age, dtype: float64\n"
          ]
        }
      ],
      "source": [
        "import numpy as np\n",
        "import pandas as pd\n",
        "\n",
        "data = {'animal': ['cat', 'cat', 'snake', 'dog', 'dog', 'cat', 'snake', 'cat', 'dog', 'dog'],\n",
        "        'age': [2.5, 3, 0.5, np.nan, 5, 2, 4.5, np.nan, 7, 3],\n",
        "        'visits': [1, 3, 2, 3, 2, 3, 1, 1, 2, 1],\n",
        "        'priority': ['yes', 'yes', 'no', 'yes', 'no', 'no', 'no', 'yes', 'no', 'no']}\n",
        "\n",
        "labels = ['a', 'b', 'c', 'd', 'e', 'f', 'g', 'h', 'i', 'j']\n",
        "\n",
        "# Create the DataFrame with the provided data and index labels\n",
        "df = pd.DataFrame(data, index=labels)\n",
        "\n",
        "# Calculate the mean age for each different animal\n",
        "mean_age_by_animal = df.groupby('animal')['age'].mean()\n",
        "\n",
        "print(mean_age_by_animal)\n"
      ]
    },
    {
      "cell_type": "markdown",
      "metadata": {
        "id": "4Wce7xNkAc7p"
      },
      "source": [
        "**16.** Append a new row 'k' to `df` with your choice of values for each column. Then delete that row to return the original DataFrame."
      ]
    },
    {
      "cell_type": "code",
      "execution_count": null,
      "metadata": {
        "id": "HjNnQk_wAc7p",
        "colab": {
          "base_uri": "https://localhost:8080/"
        },
        "outputId": "21c3d0ec-06ec-45b5-c571-2cc59dbe8c75"
      },
      "outputs": [
        {
          "output_type": "stream",
          "name": "stdout",
          "text": [
            "DataFrame with the new row 'k':\n",
            "  animal  age  visits priority\n",
            "a    cat  2.5       1      yes\n",
            "b    cat  3.0       3      yes\n",
            "c  snake  0.5       2       no\n",
            "d    dog  NaN       3      yes\n",
            "e    dog  5.0       2       no\n",
            "f    cat  2.0       3       no\n",
            "g  snake  4.5       1       no\n",
            "h    cat  NaN       1      yes\n",
            "i    dog  7.0       2       no\n",
            "j    dog  3.0       1       no\n",
            "k   bird  1.5       2       no\n",
            "\n",
            "Original DataFrame after deleting row 'k':\n",
            "  animal  age  visits priority\n",
            "a    cat  2.5       1      yes\n",
            "b    cat  3.0       3      yes\n",
            "c  snake  0.5       2       no\n",
            "d    dog  NaN       3      yes\n",
            "e    dog  5.0       2       no\n",
            "f    cat  2.0       3       no\n",
            "g  snake  4.5       1       no\n",
            "h    cat  NaN       1      yes\n",
            "i    dog  7.0       2       no\n",
            "j    dog  3.0       1       no\n"
          ]
        },
        {
          "output_type": "stream",
          "name": "stderr",
          "text": [
            "<ipython-input-14-5f6a6720d04d>:16: FutureWarning: The frame.append method is deprecated and will be removed from pandas in a future version. Use pandas.concat instead.\n",
            "  df = df.append(new_row)\n"
          ]
        }
      ],
      "source": [
        "import numpy as np\n",
        "import pandas as pd\n",
        "\n",
        "data = {'animal': ['cat', 'cat', 'snake', 'dog', 'dog', 'cat', 'snake', 'cat', 'dog', 'dog'],\n",
        "        'age': [2.5, 3, 0.5, np.nan, 5, 2, 4.5, np.nan, 7, 3],\n",
        "        'visits': [1, 3, 2, 3, 2, 3, 1, 1, 2, 1],\n",
        "        'priority': ['yes', 'yes', 'no', 'yes', 'no', 'no', 'no', 'yes', 'no', 'no']}\n",
        "\n",
        "labels = ['a', 'b', 'c', 'd', 'e', 'f', 'g', 'h', 'i', 'j']\n",
        "\n",
        "# Create the DataFrame with the provided data and index labels\n",
        "df = pd.DataFrame(data, index=labels)\n",
        "\n",
        "# Append a new row 'k' to df with your choice of values\n",
        "new_row = pd.Series({'animal': 'bird', 'age': 1.5, 'visits': 2, 'priority': 'no'}, name='k')\n",
        "df = df.append(new_row)\n",
        "\n",
        "# Print the DataFrame with the new row 'k'\n",
        "print(\"DataFrame with the new row 'k':\")\n",
        "print(df)\n",
        "\n",
        "# Delete the row 'k' to return the original DataFrame\n",
        "df = df.drop('k')\n",
        "\n",
        "# Print the original DataFrame without the row 'k'\n",
        "print(\"\\nOriginal DataFrame after deleting row 'k':\")\n",
        "print(df)\n"
      ]
    },
    {
      "cell_type": "markdown",
      "metadata": {
        "id": "Jypn5SclAc7p"
      },
      "source": [
        "**17.** Count the number of each type of animal in `df`."
      ]
    },
    {
      "cell_type": "code",
      "execution_count": null,
      "metadata": {
        "id": "hPrLFXQrAc7p",
        "colab": {
          "base_uri": "https://localhost:8080/"
        },
        "outputId": "0c2a4aad-2df0-461a-82c5-f54adccbd861"
      },
      "outputs": [
        {
          "output_type": "stream",
          "name": "stdout",
          "text": [
            "cat      4\n",
            "dog      4\n",
            "snake    2\n",
            "Name: animal, dtype: int64\n"
          ]
        }
      ],
      "source": [
        "import numpy as np\n",
        "import pandas as pd\n",
        "\n",
        "data = {'animal': ['cat', 'cat', 'snake', 'dog', 'dog', 'cat', 'snake', 'cat', 'dog', 'dog'],\n",
        "        'age': [2.5, 3, 0.5, np.nan, 5, 2, 4.5, np.nan, 7, 3],\n",
        "        'visits': [1, 3, 2, 3, 2, 3, 1, 1, 2, 1],\n",
        "        'priority': ['yes', 'yes', 'no', 'yes', 'no', 'no', 'no', 'yes', 'no', 'no']}\n",
        "\n",
        "labels = ['a', 'b', 'c', 'd', 'e', 'f', 'g', 'h', 'i', 'j']\n",
        "\n",
        "# Create the DataFrame with the provided data and index labels\n",
        "df = pd.DataFrame(data, index=labels)\n",
        "\n",
        "# Count the number of each type of animal\n",
        "animal_counts = df['animal'].value_counts()\n",
        "\n",
        "print(animal_counts)\n"
      ]
    },
    {
      "cell_type": "markdown",
      "metadata": {
        "id": "kWRQTWrGAc7p"
      },
      "source": [
        "**18.** Sort `df` first by the values in the 'age' in *decending* order, then by the value in the 'visits' column in *ascending* order (so row `i` should be first, and row `d` should be last)."
      ]
    },
    {
      "cell_type": "code",
      "execution_count": null,
      "metadata": {
        "id": "11wn9xD0Ac7p",
        "colab": {
          "base_uri": "https://localhost:8080/"
        },
        "outputId": "462f2ee4-f2b4-4546-e06d-cfc346994988"
      },
      "outputs": [
        {
          "output_type": "stream",
          "name": "stdout",
          "text": [
            "  animal  age  visits priority\n",
            "i    dog  7.0       2       no\n",
            "e    dog  5.0       2       no\n",
            "g  snake  4.5       1       no\n",
            "j    dog  3.0       1       no\n",
            "b    cat  3.0       3      yes\n",
            "a    cat  2.5       1      yes\n",
            "f    cat  2.0       3       no\n",
            "c  snake  0.5       2       no\n",
            "h    cat  NaN       1      yes\n",
            "d    dog  NaN       3      yes\n"
          ]
        }
      ],
      "source": [
        "# Create the DataFrame with the provided data and index labels\n",
        "df = pd.DataFrame(data, index=labels)\n",
        "\n",
        "# Sort df by 'age' in descending order and then by 'visits' in ascending order\n",
        "sorted_df = df.sort_values(by=['age', 'visits'], ascending=[False, True])\n",
        "\n",
        "print(sorted_df)"
      ]
    },
    {
      "cell_type": "markdown",
      "metadata": {
        "id": "pTD8tz36Ac7q"
      },
      "source": [
        "**19.** The 'priority' column contains the values 'yes' and 'no'. Replace this column with a column of boolean values: 'yes' should be `True` and 'no' should be `False`."
      ]
    },
    {
      "cell_type": "code",
      "execution_count": null,
      "metadata": {
        "id": "-Ut_KlSbAc7q"
      },
      "outputs": [],
      "source": [
        "# Create the DataFrame with the provided data and index labels\n",
        "df = pd.DataFrame(data, index=labels)\n",
        "\n",
        "# Replace 'priority' column values with boolean values\n",
        "df['priority'] = df['priority'].replace({'yes': True, 'no': False})\n"
      ]
    },
    {
      "cell_type": "markdown",
      "metadata": {
        "id": "8vdRq_BJAc7z"
      },
      "source": [
        "**20.** In the 'animal' column, change the 'snake' entries to 'python'."
      ]
    },
    {
      "cell_type": "code",
      "execution_count": null,
      "metadata": {
        "id": "w-FV0yPBAc7z",
        "colab": {
          "base_uri": "https://localhost:8080/"
        },
        "outputId": "53ee63f4-9899-47cd-ce1b-afb588eb68dc"
      },
      "outputs": [
        {
          "output_type": "stream",
          "name": "stdout",
          "text": [
            "   animal  age  visits priority\n",
            "a     cat  2.5       1      yes\n",
            "b     cat  3.0       3      yes\n",
            "c  python  0.5       2       no\n",
            "d     dog  NaN       3      yes\n",
            "e     dog  5.0       2       no\n",
            "f     cat  2.0       3       no\n",
            "g  python  4.5       1       no\n",
            "h     cat  NaN       1      yes\n",
            "i     dog  7.0       2       no\n",
            "j     dog  3.0       1       no\n"
          ]
        }
      ],
      "source": [
        "# Create the DataFrame with the provided data and index labels\n",
        "df = pd.DataFrame(data, index=labels)\n",
        "\n",
        "# Change 'snake' entries to 'python' in the 'animal' column\n",
        "df['animal'] = df['animal'].replace('snake', 'python')\n",
        "\n",
        "print(df)"
      ]
    },
    {
      "cell_type": "markdown",
      "metadata": {
        "id": "swPvqz6ZAc70"
      },
      "source": [
        "**21.** For each animal type and each number of visits, find the mean age. In other words, each row is an animal, each column is a number of visits and the values are the mean ages (*hint: use a pivot table*)."
      ]
    },
    {
      "cell_type": "code",
      "execution_count": null,
      "metadata": {
        "id": "pwu1rLVhAc70",
        "colab": {
          "base_uri": "https://localhost:8080/"
        },
        "outputId": "97976041-3c6b-47fe-b40d-72e2b4ea0c9c"
      },
      "outputs": [
        {
          "output_type": "stream",
          "name": "stdout",
          "text": [
            "visits    1    2    3\n",
            "animal               \n",
            "cat     2.5  NaN  2.5\n",
            "dog     3.0  6.0  NaN\n",
            "snake   4.5  0.5  NaN\n"
          ]
        }
      ],
      "source": [
        "# Create the DataFrame with the provided data and index labels\n",
        "df = pd.DataFrame(data, index=labels)\n",
        "\n",
        "# Create a pivot table to find the mean age for each animal type and each number of visits\n",
        "pivot_table = df.pivot_table(index='animal', columns='visits', values='age', aggfunc='mean')\n",
        "\n",
        "print(pivot_table)"
      ]
    },
    {
      "cell_type": "markdown",
      "metadata": {
        "id": "URp9UYTSAc70"
      },
      "source": [
        "## DataFrames: beyond the basics\n",
        "\n",
        "### Slightly trickier: you may need to combine two or more methods to get the right answer\n",
        "\n",
        "Difficulty: *medium*\n",
        "\n",
        "The previous section was tour through some basic but essential DataFrame operations. Below are some ways that you might need to cut your data, but for which there is no single \"out of the box\" method."
      ]
    },
    {
      "cell_type": "markdown",
      "metadata": {
        "id": "-CD_Sf66Ac70"
      },
      "source": [
        "**22.** You have a DataFrame `df` with a column 'A' of integers. For example:\n",
        "```python\n",
        "df = pd.DataFrame({'A': [1, 2, 2, 3, 4, 5, 5, 5, 6, 7, 7]})\n",
        "```\n",
        "\n",
        "How do you filter out rows which contain the same integer as the row immediately above?\n",
        "\n",
        "You should be left with a column containing the following values:\n",
        "\n",
        "```python\n",
        "1, 2, 3, 4, 5, 6, 7\n",
        "```"
      ]
    },
    {
      "cell_type": "code",
      "execution_count": null,
      "metadata": {
        "id": "8-t357jUAc70",
        "colab": {
          "base_uri": "https://localhost:8080/"
        },
        "outputId": "709d6f27-2671-4c88-b803-c2f36c53f5cd"
      },
      "outputs": [
        {
          "output_type": "stream",
          "name": "stdout",
          "text": [
            "   A\n",
            "0  1\n",
            "1  2\n",
            "2  3\n",
            "3  4\n",
            "4  5\n",
            "5  6\n",
            "6  7\n"
          ]
        }
      ],
      "source": [
        "import pandas as pd\n",
        "\n",
        "# Create the DataFrame\n",
        "df = pd.DataFrame({'A': [1, 2, 2, 3, 4, 5, 5, 5, 6, 7, 7]})\n",
        "\n",
        "# Filter rows where 'A' is different from the row above it\n",
        "filtered_df = df[df['A'] != df['A'].shift(1)]\n",
        "\n",
        "# Reset the index if needed\n",
        "filtered_df.reset_index(drop=True, inplace=True)\n",
        "\n",
        "# Print the resulting DataFrame\n",
        "print(filtered_df)\n"
      ]
    },
    {
      "cell_type": "markdown",
      "metadata": {
        "id": "gcMUiZEEAc70"
      },
      "source": [
        "**23.** Given a DataFrame of numeric values, say\n",
        "```python\n",
        "df = pd.DataFrame(np.random.random(size=(5, 3))) # a 5x3 frame of float values\n",
        "```\n",
        "\n",
        "how do you subtract the row mean from each element in the row?"
      ]
    },
    {
      "cell_type": "code",
      "execution_count": null,
      "metadata": {
        "id": "eHFVj6xfAc70",
        "colab": {
          "base_uri": "https://localhost:8080/"
        },
        "outputId": "15bf59c9-6bca-4667-e026-3fd50d97cd20"
      },
      "outputs": [
        {
          "output_type": "stream",
          "name": "stdout",
          "text": [
            "          0         1         2\n",
            "0 -0.176359  0.240232 -0.063872\n",
            "1 -0.290693  0.150267  0.140426\n",
            "2 -0.065090 -0.212306  0.277396\n",
            "3  0.045214  0.307994 -0.353208\n",
            "4 -0.012846  0.225993 -0.213147\n"
          ]
        }
      ],
      "source": [
        "import pandas as pd\n",
        "import numpy as np\n",
        "\n",
        "# Create a random DataFrame\n",
        "df = pd.DataFrame(np.random.random(size=(5, 3)))\n",
        "\n",
        "# Calculate the row mean\n",
        "row_means = df.mean(axis=1)\n",
        "\n",
        "# Subtract the row mean from each element in the corresponding row\n",
        "result_df = df.sub(row_means, axis=0)\n",
        "\n",
        "# Print the result\n",
        "print(result_df)\n"
      ]
    },
    {
      "cell_type": "markdown",
      "metadata": {
        "id": "3-1SG4cBAc70"
      },
      "source": [
        "**24.** Suppose you have DataFrame with 10 columns of real numbers, for example:\n",
        "\n",
        "```python\n",
        "df = pd.DataFrame(np.random.random(size=(5, 10)), columns=list('abcdefghij'))\n",
        "```\n",
        "Which column of numbers has the smallest sum?  Return that column's label."
      ]
    },
    {
      "cell_type": "code",
      "execution_count": null,
      "metadata": {
        "id": "DZ3vABgTAc70",
        "colab": {
          "base_uri": "https://localhost:8080/"
        },
        "outputId": "4c47ecde-f5dc-418c-b120-8bfd2053e915"
      },
      "outputs": [
        {
          "output_type": "stream",
          "name": "stdout",
          "text": [
            "c\n"
          ]
        }
      ],
      "source": [
        "import pandas as pd\n",
        "import numpy as np\n",
        "\n",
        "# Create a random DataFrame\n",
        "df = pd.DataFrame(np.random.random(size=(5, 10)), columns=list('abcdefghij'))\n",
        "\n",
        "# Calculate the sum for each column\n",
        "column_sums = df.sum()\n",
        "\n",
        "# Find the label of the column with the smallest sum\n",
        "min_sum_column_label = column_sums.idxmin()\n",
        "\n",
        "# Print the label of the column with the smallest sum\n",
        "print(min_sum_column_label)\n"
      ]
    },
    {
      "cell_type": "markdown",
      "metadata": {
        "id": "zVacnhsBAc71"
      },
      "source": [
        "**25.** How do you count how many unique rows a DataFrame has (i.e. ignore all rows that are duplicates)? As input, use a DataFrame of zeros and ones with 10 rows and 3 columns.\n",
        "\n",
        "```python\n",
        "df = pd.DataFrame(np.random.randint(0, 2, size=(10, 3)))\n",
        "```"
      ]
    },
    {
      "cell_type": "code",
      "execution_count": null,
      "metadata": {
        "id": "sWkc_dqmAc71",
        "colab": {
          "base_uri": "https://localhost:8080/"
        },
        "outputId": "fa2941d1-ec3a-48ce-ae78-ce4464ea47d5"
      },
      "outputs": [
        {
          "output_type": "stream",
          "name": "stdout",
          "text": [
            "7\n"
          ]
        }
      ],
      "source": [
        "import pandas as pd\n",
        "import numpy as np\n",
        "\n",
        "# Create a DataFrame with random zeros and ones\n",
        "df = pd.DataFrame(np.random.randint(0, 2, size=(10, 3)))\n",
        "\n",
        "# Use drop_duplicates to remove duplicate rows and count unique rows\n",
        "unique_rows_count = df.drop_duplicates().shape[0]\n",
        "\n",
        "# Print the count of unique rows\n",
        "print(unique_rows_count)\n"
      ]
    },
    {
      "cell_type": "markdown",
      "metadata": {
        "id": "O01iBA6RAc71"
      },
      "source": [
        "The next three puzzles are slightly harder.\n",
        "\n",
        "\n",
        "**26.** In the cell below, you have a DataFrame `df` that consists of 10 columns of floating-point numbers. Exactly 5 entries in each row are NaN values.\n",
        "\n",
        "For each row of the DataFrame, find the *column* which contains the *third* NaN value.\n",
        "\n",
        "You should return a Series of column labels: `e, c, d, h, d`"
      ]
    },
    {
      "cell_type": "code",
      "execution_count": null,
      "metadata": {
        "id": "-ZeJmcCVAc71"
      },
      "outputs": [],
      "source": [
        "nan = np.nan\n",
        "\n",
        "data = [[0.04,  nan,  nan, 0.25,  nan, 0.43, 0.71, 0.51,  nan,  nan],\n",
        "        [ nan,  nan,  nan, 0.04, 0.76,  nan,  nan, 0.67, 0.76, 0.16],\n",
        "        [ nan,  nan, 0.5 ,  nan, 0.31, 0.4 ,  nan,  nan, 0.24, 0.01],\n",
        "        [0.49,  nan,  nan, 0.62, 0.73, 0.26, 0.85,  nan,  nan,  nan],\n",
        "        [ nan,  nan, 0.41,  nan, 0.05,  nan, 0.61,  nan, 0.48, 0.68]]\n",
        "\n",
        "columns = list('abcdefghij')\n",
        "\n",
        "df = pd.DataFrame(data, columns=columns)\n",
        "\n",
        "# write a solution to the question here"
      ]
    },
    {
      "cell_type": "markdown",
      "metadata": {
        "id": "VX1jH4hDAc71"
      },
      "source": [
        "**27.** A DataFrame has a column of groups 'grps' and and column of integer values 'vals':\n",
        "\n",
        "```python\n",
        "df = pd.DataFrame({'grps': list('aaabbcaabcccbbc'),\n",
        "                   'vals': [12,345,3,1,45,14,4,52,54,23,235,21,57,3,87]})\n",
        "```\n",
        "For each *group*, find the sum of the three greatest values. You should end up with the answer as follows:\n",
        "```\n",
        "grps\n",
        "a    409\n",
        "b    156\n",
        "c    345\n",
        "```"
      ]
    },
    {
      "cell_type": "code",
      "execution_count": null,
      "metadata": {
        "id": "yVsqKVXCAc71"
      },
      "outputs": [],
      "source": [
        "df = pd.DataFrame({'grps': list('aaabbcaabcccbbc'),\n",
        "                   'vals': [12,345,3,1,45,14,4,52,54,23,235,21,57,3,87]})\n",
        "\n",
        "# write a solution to the question here"
      ]
    },
    {
      "cell_type": "markdown",
      "metadata": {
        "id": "ZWHJ-oczAc71"
      },
      "source": [
        "**28.** The DataFrame `df` constructed below has two integer columns 'A' and 'B'. The values in 'A' are between 1 and 100 (inclusive).\n",
        "\n",
        "For each group of 10 consecutive integers in 'A' (i.e. `(0, 10]`, `(10, 20]`, ...), calculate the sum of the corresponding values in column 'B'.\n",
        "\n",
        "The answer should be a Series as follows:\n",
        "\n",
        "```\n",
        "A\n",
        "(0, 10]      635\n",
        "(10, 20]     360\n",
        "(20, 30]     315\n",
        "(30, 40]     306\n",
        "(40, 50]     750\n",
        "(50, 60]     284\n",
        "(60, 70]     424\n",
        "(70, 80]     526\n",
        "(80, 90]     835\n",
        "(90, 100]    852\n",
        "```"
      ]
    },
    {
      "cell_type": "code",
      "execution_count": null,
      "metadata": {
        "id": "r4TAx-MMAc72"
      },
      "outputs": [],
      "source": [
        "df = pd.DataFrame(np.random.RandomState(8765).randint(1, 101, size=(100, 2)), columns = [\"A\", \"B\"])\n",
        "\n",
        "# write a solution to the question here"
      ]
    },
    {
      "cell_type": "markdown",
      "metadata": {
        "id": "_9ftHy_VAc72"
      },
      "source": [
        "## DataFrames: harder problems\n",
        "\n",
        "### These might require a bit of thinking outside the box...\n",
        "\n",
        "...but all are solvable using just the usual pandas/NumPy methods (and so avoid using explicit `for` loops).\n",
        "\n",
        "Difficulty: *hard*"
      ]
    },
    {
      "cell_type": "markdown",
      "metadata": {
        "id": "0u4UY6NIAc72"
      },
      "source": [
        "**29.** Consider a DataFrame `df` where there is an integer column 'X':\n",
        "```python\n",
        "df = pd.DataFrame({'X': [7, 2, 0, 3, 4, 2, 5, 0, 3, 4]})\n",
        "```\n",
        "For each value, count the difference back to the previous zero (or the start of the Series, whichever is closer). These values should therefore be\n",
        "\n",
        "```\n",
        "[1, 2, 0, 1, 2, 3, 4, 0, 1, 2]\n",
        "```\n",
        "\n",
        "Make this a new column 'Y'."
      ]
    },
    {
      "cell_type": "code",
      "execution_count": null,
      "metadata": {
        "id": "TOF9KCRVAc72"
      },
      "outputs": [],
      "source": []
    },
    {
      "cell_type": "markdown",
      "metadata": {
        "id": "RjR6ClKNAc72"
      },
      "source": [
        "**30.** Consider the DataFrame constructed below which contains rows and columns of numerical data.\n",
        "\n",
        "Create a list of the column-row index locations of the 3 largest values in this DataFrame. In this case, the answer should be:\n",
        "```\n",
        "[(5, 7), (6, 4), (2, 5)]\n",
        "```"
      ]
    },
    {
      "cell_type": "code",
      "execution_count": null,
      "metadata": {
        "id": "B8xtJ1HyAc72"
      },
      "outputs": [],
      "source": [
        "df = pd.DataFrame(np.random.RandomState(30).randint(1, 101, size=(8, 8)))"
      ]
    },
    {
      "cell_type": "markdown",
      "metadata": {
        "id": "AhX1Y8O_Ac72"
      },
      "source": [
        "**31.** You are given the DataFrame below with a column of group IDs, 'grps', and a column of corresponding integer values, 'vals'.\n",
        "\n",
        "```python\n",
        "df = pd.DataFrame({\"vals\": np.random.RandomState(31).randint(-30, 30, size=15),\n",
        "                   \"grps\": np.random.RandomState(31).choice([\"A\", \"B\"], 15)})\n",
        "```\n",
        "\n",
        "Create a new column 'patched_values' which contains the same values as the 'vals' any negative values in 'vals' with the group mean:\n",
        "\n",
        "```\n",
        "    vals grps  patched_vals\n",
        "0    -12    A          13.6\n",
        "1     -7    B          28.0\n",
        "2    -14    A          13.6\n",
        "3      4    A           4.0\n",
        "4     -7    A          13.6\n",
        "5     28    B          28.0\n",
        "6     -2    A          13.6\n",
        "7     -1    A          13.6\n",
        "8      8    A           8.0\n",
        "9     -2    B          28.0\n",
        "10    28    A          28.0\n",
        "11    12    A          12.0\n",
        "12    16    A          16.0\n",
        "13   -24    A          13.6\n",
        "14   -12    A          13.6\n",
        "```"
      ]
    },
    {
      "cell_type": "code",
      "execution_count": null,
      "metadata": {
        "id": "5LVTz68SAc72",
        "colab": {
          "base_uri": "https://localhost:8080/"
        },
        "outputId": "7273378f-8a2e-4faa-9b8e-b7b8805093b6"
      },
      "outputs": [
        {
          "output_type": "stream",
          "name": "stdout",
          "text": [
            "    vals grps  patched_values\n",
            "0    -12    A       -0.333333\n",
            "1     -7    B        6.333333\n",
            "2    -14    A       -0.333333\n",
            "3      4    A        4.000000\n",
            "4     -7    A       -0.333333\n",
            "5     28    B       28.000000\n",
            "6     -2    A       -0.333333\n",
            "7     -1    A       -0.333333\n",
            "8      8    A        8.000000\n",
            "9     -2    B        6.333333\n",
            "10    28    A       28.000000\n",
            "11    12    A       12.000000\n",
            "12    16    A       16.000000\n",
            "13   -24    A       -0.333333\n",
            "14   -12    A       -0.333333\n"
          ]
        }
      ],
      "source": [
        "import pandas as pd\n",
        "import numpy as np\n",
        "\n",
        "# Create the DataFrame\n",
        "df = pd.DataFrame({\"vals\": np.random.RandomState(31).randint(-30, 30, size=15),\n",
        "                   \"grps\": np.random.RandomState(31).choice([\"A\", \"B\"], 15)})\n",
        "\n",
        "# Calculate group means\n",
        "group_means = df.groupby('grps')['vals'].transform('mean')\n",
        "\n",
        "# Define a function to patch negative values with group means\n",
        "def patch_values(row):\n",
        "    if row['vals'] < 0:\n",
        "        return group_means[row.name]\n",
        "    else:\n",
        "        return row['vals']\n",
        "\n",
        "# Apply the patch_values function to create the 'patched_values' column\n",
        "df['patched_values'] = df.apply(patch_values, axis=1)\n",
        "\n",
        "# Print the DataFrame\n",
        "print(df)\n"
      ]
    },
    {
      "cell_type": "markdown",
      "metadata": {
        "id": "8BCIFYEPAc73"
      },
      "source": [
        "**32.** Implement a rolling mean over groups with window size 3, which ignores NaN value. For example consider the following DataFrame:\n",
        "\n",
        "```python\n",
        ">>> df = pd.DataFrame({'group': list('aabbabbbabab'),\n",
        "                       'value': [1, 2, 3, np.nan, 2, 3, np.nan, 1, 7, 3, np.nan, 8]})\n",
        ">>> df\n",
        "   group  value\n",
        "0      a    1.0\n",
        "1      a    2.0\n",
        "2      b    3.0\n",
        "3      b    NaN\n",
        "4      a    2.0\n",
        "5      b    3.0\n",
        "6      b    NaN\n",
        "7      b    1.0\n",
        "8      a    7.0\n",
        "9      b    3.0\n",
        "10     a    NaN\n",
        "11     b    8.0\n",
        "```\n",
        "The goal is to compute the Series:\n",
        "\n",
        "```\n",
        "0     1.000000\n",
        "1     1.500000\n",
        "2     3.000000\n",
        "3     3.000000\n",
        "4     1.666667\n",
        "5     3.000000\n",
        "6     3.000000\n",
        "7     2.000000\n",
        "8     3.666667\n",
        "9     2.000000\n",
        "10    4.500000\n",
        "11    4.000000\n",
        "```\n",
        "E.g. the first window of size three for group 'b' has values 3.0, NaN and 3.0 and occurs at row index 5. Instead of being NaN the value in the new column at this row index should be 3.0 (just the two non-NaN values are used to compute the mean (3+3)/2)"
      ]
    },
    {
      "cell_type": "code",
      "execution_count": null,
      "metadata": {
        "id": "lQiBIjNiAc73",
        "colab": {
          "base_uri": "https://localhost:8080/"
        },
        "outputId": "bc69322a-a348-40fb-fea3-0f1044216b09"
      },
      "outputs": [
        {
          "output_type": "stream",
          "name": "stdout",
          "text": [
            "   group  value  rolling_mean\n",
            "0      a    1.0      1.000000\n",
            "1      a    2.0      1.500000\n",
            "2      b    3.0      3.000000\n",
            "3      b    NaN      3.000000\n",
            "4      a    2.0      1.666667\n",
            "5      b    3.0      3.000000\n",
            "6      b    NaN      3.000000\n",
            "7      b    1.0      2.000000\n",
            "8      a    7.0      3.666667\n",
            "9      b    3.0      2.000000\n",
            "10     a    NaN      4.500000\n",
            "11     b    8.0      4.000000\n"
          ]
        }
      ],
      "source": [
        "import pandas as pd\n",
        "import numpy as np\n",
        "\n",
        "# Create the DataFrame\n",
        "df = pd.DataFrame({'group': list('aabbabbbabab'),\n",
        "                   'value': [1, 2, 3, np.nan, 2, 3, np.nan, 1, 7, 3, np.nan, 8]})\n",
        "\n",
        "# Define a custom aggregation function to calculate the mean while ignoring NaN values\n",
        "def custom_mean(series):\n",
        "    return series.dropna().mean()\n",
        "\n",
        "# Apply the rolling mean with window size 3, ignoring NaN values, within each group\n",
        "df['rolling_mean'] = df.groupby('group')['value'].rolling(3, min_periods=1).apply(custom_mean).reset_index(level=0, drop=True)\n",
        "\n",
        "# Print the DataFrame\n",
        "print(df)\n"
      ]
    },
    {
      "cell_type": "markdown",
      "metadata": {
        "id": "2nlamONtAc73"
      },
      "source": [
        "## Series and DatetimeIndex\n",
        "\n",
        "### Exercises for creating and manipulating Series with datetime data\n",
        "\n",
        "Difficulty: *easy/medium*\n",
        "\n",
        "pandas is fantastic for working with dates and times. These puzzles explore some of this functionality.\n"
      ]
    },
    {
      "cell_type": "markdown",
      "metadata": {
        "id": "5uVoLmcZAc73"
      },
      "source": [
        "**33.** Create a DatetimeIndex that contains each business day of 2015 and use it to index a Series of random numbers. Let's call this Series `s`."
      ]
    },
    {
      "cell_type": "code",
      "execution_count": null,
      "metadata": {
        "id": "FQPHx-V1Ac73",
        "colab": {
          "base_uri": "https://localhost:8080/"
        },
        "outputId": "5b8f95b5-097e-4aea-e81c-95351159cd61"
      },
      "outputs": [
        {
          "output_type": "stream",
          "name": "stdout",
          "text": [
            "2015-01-01    0.382294\n",
            "2015-01-02    0.319171\n",
            "2015-01-05    0.625233\n",
            "2015-01-06    0.206769\n",
            "2015-01-07    0.815544\n",
            "                ...   \n",
            "2015-12-25    0.445848\n",
            "2015-12-28    0.941892\n",
            "2015-12-29    0.513463\n",
            "2015-12-30    0.248986\n",
            "2015-12-31    0.397536\n",
            "Freq: B, Length: 261, dtype: float64\n"
          ]
        }
      ],
      "source": [
        "import pandas as pd\n",
        "import numpy as np\n",
        "\n",
        "# Create a DatetimeIndex for business days in 2015\n",
        "start_date = '2015-01-01'\n",
        "end_date = '2015-12-31'\n",
        "business_days_2015 = pd.date_range(start=start_date, end=end_date, freq='B')\n",
        "\n",
        "# Create a Series of random numbers indexed by the DatetimeIndex\n",
        "s = pd.Series(np.random.random(len(business_days_2015)), index=business_days_2015)\n",
        "\n",
        "# Print the Series\n",
        "print(s)\n"
      ]
    },
    {
      "cell_type": "markdown",
      "metadata": {
        "id": "8AUV9s9PAc73"
      },
      "source": [
        "**34.** Find the sum of the values in `s` for every Wednesday."
      ]
    },
    {
      "cell_type": "code",
      "execution_count": null,
      "metadata": {
        "id": "mLwKg7mPAc73",
        "colab": {
          "base_uri": "https://localhost:8080/"
        },
        "outputId": "e5b1246d-4b6d-4ae3-b1db-5ab7c0ccd03e"
      },
      "outputs": [
        {
          "output_type": "stream",
          "name": "stdout",
          "text": [
            "Sum of values on Wednesdays: 22.632585274781782\n"
          ]
        }
      ],
      "source": [
        "# Filter the Series to include only Wednesdays\n",
        "wednesday_values = s[s.index.weekday == 2]  # Monday = 0, Tuesday = 1, Wednesday = 2, ...\n",
        "\n",
        "# Calculate the sum of the values for Wednesdays\n",
        "wednesday_sum = wednesday_values.sum()\n",
        "\n",
        "# Print the sum\n",
        "print(\"Sum of values on Wednesdays:\", wednesday_sum)\n"
      ]
    },
    {
      "cell_type": "markdown",
      "metadata": {
        "id": "95TNDkfgAc73"
      },
      "source": [
        "**35.** For each calendar month in `s`, find the mean of values."
      ]
    },
    {
      "cell_type": "code",
      "execution_count": null,
      "metadata": {
        "id": "URWToAOPAc73",
        "colab": {
          "base_uri": "https://localhost:8080/"
        },
        "outputId": "db0aee1b-200e-4bd7-b889-86af21216b4a"
      },
      "outputs": [
        {
          "output_type": "stream",
          "name": "stdout",
          "text": [
            "2015-01-31    0.480969\n",
            "2015-02-28    0.625802\n",
            "2015-03-31    0.513556\n",
            "2015-04-30    0.485597\n",
            "2015-05-31    0.495647\n",
            "2015-06-30    0.457509\n",
            "2015-07-31    0.394807\n",
            "2015-08-31    0.473854\n",
            "2015-09-30    0.430421\n",
            "2015-10-31    0.411096\n",
            "2015-11-30    0.460586\n",
            "2015-12-31    0.438745\n",
            "Freq: M, dtype: float64\n"
          ]
        }
      ],
      "source": [
        "# Resample the Series by month and calculate the mean for each month\n",
        "monthly_mean = s.resample('M').mean()\n",
        "\n",
        "# Print the resulting Series\n",
        "print(monthly_mean)\n"
      ]
    },
    {
      "cell_type": "markdown",
      "metadata": {
        "id": "O8Gv-FL3Ac74"
      },
      "source": [
        "**36.** For each group of four consecutive calendar months in `s`, find the date on which the highest value occurred."
      ]
    },
    {
      "cell_type": "code",
      "execution_count": null,
      "metadata": {
        "id": "mxWTjP8fAc74",
        "colab": {
          "base_uri": "https://localhost:8080/",
          "height": 338
        },
        "outputId": "3dd604e5-a847-46bd-effd-f720c84a3a83"
      },
      "outputs": [
        {
          "output_type": "error",
          "ename": "TypeError",
          "evalue": "ignored",
          "traceback": [
            "\u001b[0;31m---------------------------------------------------------------------------\u001b[0m",
            "\u001b[0;31mTypeError\u001b[0m                                 Traceback (most recent call last)",
            "\u001b[0;32m<ipython-input-14-f781a162e577>\u001b[0m in \u001b[0;36m<cell line: 14>\u001b[0;34m()\u001b[0m\n\u001b[1;32m     12\u001b[0m \u001b[0;34m\u001b[0m\u001b[0m\n\u001b[1;32m     13\u001b[0m \u001b[0;31m# Use rolling with a window size of four months and apply the date_of_max function\u001b[0m\u001b[0;34m\u001b[0m\u001b[0;34m\u001b[0m\u001b[0m\n\u001b[0;32m---> 14\u001b[0;31m \u001b[0mresult\u001b[0m \u001b[0;34m=\u001b[0m \u001b[0ms\u001b[0m\u001b[0;34m.\u001b[0m\u001b[0mrolling\u001b[0m\u001b[0;34m(\u001b[0m\u001b[0mwindow\u001b[0m\u001b[0;34m=\u001b[0m\u001b[0;36m11\u001b[0m\u001b[0;34m,\u001b[0m \u001b[0mmin_periods\u001b[0m\u001b[0;34m=\u001b[0m\u001b[0;36m1\u001b[0m\u001b[0;34m)\u001b[0m\u001b[0;34m.\u001b[0m\u001b[0mapply\u001b[0m\u001b[0;34m(\u001b[0m\u001b[0mdate_of_max\u001b[0m\u001b[0;34m)\u001b[0m\u001b[0;34m\u001b[0m\u001b[0;34m\u001b[0m\u001b[0m\n\u001b[0m\u001b[1;32m     15\u001b[0m \u001b[0;34m\u001b[0m\u001b[0m\n\u001b[1;32m     16\u001b[0m \u001b[0;31m# Print the resulting Series\u001b[0m\u001b[0;34m\u001b[0m\u001b[0;34m\u001b[0m\u001b[0m\n",
            "\u001b[0;32m/usr/local/lib/python3.10/dist-packages/pandas/core/window/rolling.py\u001b[0m in \u001b[0;36mapply\u001b[0;34m(self, func, raw, engine, engine_kwargs, args, kwargs)\u001b[0m\n\u001b[1;32m   1998\u001b[0m         \u001b[0mkwargs\u001b[0m\u001b[0;34m:\u001b[0m \u001b[0mdict\u001b[0m\u001b[0;34m[\u001b[0m\u001b[0mstr\u001b[0m\u001b[0;34m,\u001b[0m \u001b[0mAny\u001b[0m\u001b[0;34m]\u001b[0m \u001b[0;34m|\u001b[0m \u001b[0;32mNone\u001b[0m \u001b[0;34m=\u001b[0m \u001b[0;32mNone\u001b[0m\u001b[0;34m,\u001b[0m\u001b[0;34m\u001b[0m\u001b[0;34m\u001b[0m\u001b[0m\n\u001b[1;32m   1999\u001b[0m     ):\n\u001b[0;32m-> 2000\u001b[0;31m         return super().apply(\n\u001b[0m\u001b[1;32m   2001\u001b[0m             \u001b[0mfunc\u001b[0m\u001b[0;34m,\u001b[0m\u001b[0;34m\u001b[0m\u001b[0;34m\u001b[0m\u001b[0m\n\u001b[1;32m   2002\u001b[0m             \u001b[0mraw\u001b[0m\u001b[0;34m=\u001b[0m\u001b[0mraw\u001b[0m\u001b[0;34m,\u001b[0m\u001b[0;34m\u001b[0m\u001b[0;34m\u001b[0m\u001b[0m\n",
            "\u001b[0;32m/usr/local/lib/python3.10/dist-packages/pandas/core/window/rolling.py\u001b[0m in \u001b[0;36mapply\u001b[0;34m(self, func, raw, engine, engine_kwargs, args, kwargs)\u001b[0m\n\u001b[1;32m   1420\u001b[0m             \u001b[0;32mraise\u001b[0m \u001b[0mValueError\u001b[0m\u001b[0;34m(\u001b[0m\u001b[0;34m\"engine must be either 'numba' or 'cython'\"\u001b[0m\u001b[0;34m)\u001b[0m\u001b[0;34m\u001b[0m\u001b[0;34m\u001b[0m\u001b[0m\n\u001b[1;32m   1421\u001b[0m \u001b[0;34m\u001b[0m\u001b[0m\n\u001b[0;32m-> 1422\u001b[0;31m         return self._apply(\n\u001b[0m\u001b[1;32m   1423\u001b[0m             \u001b[0mapply_func\u001b[0m\u001b[0;34m,\u001b[0m\u001b[0;34m\u001b[0m\u001b[0;34m\u001b[0m\u001b[0m\n\u001b[1;32m   1424\u001b[0m             \u001b[0mname\u001b[0m\u001b[0;34m=\u001b[0m\u001b[0;34m\"apply\"\u001b[0m\u001b[0;34m,\u001b[0m\u001b[0;34m\u001b[0m\u001b[0;34m\u001b[0m\u001b[0m\n",
            "\u001b[0;32m/usr/local/lib/python3.10/dist-packages/pandas/core/window/rolling.py\u001b[0m in \u001b[0;36m_apply\u001b[0;34m(self, func, name, numeric_only, numba_args, **kwargs)\u001b[0m\n\u001b[1;32m    661\u001b[0m \u001b[0;34m\u001b[0m\u001b[0m\n\u001b[1;32m    662\u001b[0m         \u001b[0;32mif\u001b[0m \u001b[0mself\u001b[0m\u001b[0;34m.\u001b[0m\u001b[0mmethod\u001b[0m \u001b[0;34m==\u001b[0m \u001b[0;34m\"single\"\u001b[0m\u001b[0;34m:\u001b[0m\u001b[0;34m\u001b[0m\u001b[0;34m\u001b[0m\u001b[0m\n\u001b[0;32m--> 663\u001b[0;31m             \u001b[0;32mreturn\u001b[0m \u001b[0mself\u001b[0m\u001b[0;34m.\u001b[0m\u001b[0m_apply_blockwise\u001b[0m\u001b[0;34m(\u001b[0m\u001b[0mhomogeneous_func\u001b[0m\u001b[0;34m,\u001b[0m \u001b[0mname\u001b[0m\u001b[0;34m,\u001b[0m \u001b[0mnumeric_only\u001b[0m\u001b[0;34m)\u001b[0m\u001b[0;34m\u001b[0m\u001b[0;34m\u001b[0m\u001b[0m\n\u001b[0m\u001b[1;32m    664\u001b[0m         \u001b[0;32melse\u001b[0m\u001b[0;34m:\u001b[0m\u001b[0;34m\u001b[0m\u001b[0;34m\u001b[0m\u001b[0m\n\u001b[1;32m    665\u001b[0m             \u001b[0;32mreturn\u001b[0m \u001b[0mself\u001b[0m\u001b[0;34m.\u001b[0m\u001b[0m_apply_tablewise\u001b[0m\u001b[0;34m(\u001b[0m\u001b[0mhomogeneous_func\u001b[0m\u001b[0;34m,\u001b[0m \u001b[0mname\u001b[0m\u001b[0;34m,\u001b[0m \u001b[0mnumeric_only\u001b[0m\u001b[0;34m)\u001b[0m\u001b[0;34m\u001b[0m\u001b[0;34m\u001b[0m\u001b[0m\n",
            "\u001b[0;32m/usr/local/lib/python3.10/dist-packages/pandas/core/window/rolling.py\u001b[0m in \u001b[0;36m_apply_blockwise\u001b[0;34m(self, homogeneous_func, name, numeric_only)\u001b[0m\n\u001b[1;32m    501\u001b[0m         \u001b[0mself\u001b[0m\u001b[0;34m.\u001b[0m\u001b[0m_validate_numeric_only\u001b[0m\u001b[0;34m(\u001b[0m\u001b[0mname\u001b[0m\u001b[0;34m,\u001b[0m \u001b[0mnumeric_only\u001b[0m\u001b[0;34m)\u001b[0m\u001b[0;34m\u001b[0m\u001b[0;34m\u001b[0m\u001b[0m\n\u001b[1;32m    502\u001b[0m         \u001b[0;32mif\u001b[0m \u001b[0mself\u001b[0m\u001b[0;34m.\u001b[0m\u001b[0m_selected_obj\u001b[0m\u001b[0;34m.\u001b[0m\u001b[0mndim\u001b[0m \u001b[0;34m==\u001b[0m \u001b[0;36m1\u001b[0m\u001b[0;34m:\u001b[0m\u001b[0;34m\u001b[0m\u001b[0;34m\u001b[0m\u001b[0m\n\u001b[0;32m--> 503\u001b[0;31m             \u001b[0;32mreturn\u001b[0m \u001b[0mself\u001b[0m\u001b[0;34m.\u001b[0m\u001b[0m_apply_series\u001b[0m\u001b[0;34m(\u001b[0m\u001b[0mhomogeneous_func\u001b[0m\u001b[0;34m,\u001b[0m \u001b[0mname\u001b[0m\u001b[0;34m)\u001b[0m\u001b[0;34m\u001b[0m\u001b[0;34m\u001b[0m\u001b[0m\n\u001b[0m\u001b[1;32m    504\u001b[0m \u001b[0;34m\u001b[0m\u001b[0m\n\u001b[1;32m    505\u001b[0m         \u001b[0mobj\u001b[0m \u001b[0;34m=\u001b[0m \u001b[0mself\u001b[0m\u001b[0;34m.\u001b[0m\u001b[0m_create_data\u001b[0m\u001b[0;34m(\u001b[0m\u001b[0mself\u001b[0m\u001b[0;34m.\u001b[0m\u001b[0m_selected_obj\u001b[0m\u001b[0;34m,\u001b[0m \u001b[0mnumeric_only\u001b[0m\u001b[0;34m)\u001b[0m\u001b[0;34m\u001b[0m\u001b[0;34m\u001b[0m\u001b[0m\n",
            "\u001b[0;32m/usr/local/lib/python3.10/dist-packages/pandas/core/window/rolling.py\u001b[0m in \u001b[0;36m_apply_series\u001b[0;34m(self, homogeneous_func, name)\u001b[0m\n\u001b[1;32m    485\u001b[0m             \u001b[0;32mraise\u001b[0m \u001b[0mDataError\u001b[0m\u001b[0;34m(\u001b[0m\u001b[0;34m\"No numeric types to aggregate\"\u001b[0m\u001b[0;34m)\u001b[0m \u001b[0;32mfrom\u001b[0m \u001b[0merr\u001b[0m\u001b[0;34m\u001b[0m\u001b[0;34m\u001b[0m\u001b[0m\n\u001b[1;32m    486\u001b[0m \u001b[0;34m\u001b[0m\u001b[0m\n\u001b[0;32m--> 487\u001b[0;31m         \u001b[0mresult\u001b[0m \u001b[0;34m=\u001b[0m \u001b[0mhomogeneous_func\u001b[0m\u001b[0;34m(\u001b[0m\u001b[0mvalues\u001b[0m\u001b[0;34m)\u001b[0m\u001b[0;34m\u001b[0m\u001b[0;34m\u001b[0m\u001b[0m\n\u001b[0m\u001b[1;32m    488\u001b[0m         \u001b[0mindex\u001b[0m \u001b[0;34m=\u001b[0m \u001b[0mself\u001b[0m\u001b[0;34m.\u001b[0m\u001b[0m_slice_axis_for_step\u001b[0m\u001b[0;34m(\u001b[0m\u001b[0mobj\u001b[0m\u001b[0;34m.\u001b[0m\u001b[0mindex\u001b[0m\u001b[0;34m,\u001b[0m \u001b[0mresult\u001b[0m\u001b[0;34m)\u001b[0m\u001b[0;34m\u001b[0m\u001b[0;34m\u001b[0m\u001b[0m\n\u001b[1;32m    489\u001b[0m         \u001b[0;32mreturn\u001b[0m \u001b[0mobj\u001b[0m\u001b[0;34m.\u001b[0m\u001b[0m_constructor\u001b[0m\u001b[0;34m(\u001b[0m\u001b[0mresult\u001b[0m\u001b[0;34m,\u001b[0m \u001b[0mindex\u001b[0m\u001b[0;34m=\u001b[0m\u001b[0mindex\u001b[0m\u001b[0;34m,\u001b[0m \u001b[0mname\u001b[0m\u001b[0;34m=\u001b[0m\u001b[0mobj\u001b[0m\u001b[0;34m.\u001b[0m\u001b[0mname\u001b[0m\u001b[0;34m)\u001b[0m\u001b[0;34m\u001b[0m\u001b[0;34m\u001b[0m\u001b[0m\n",
            "\u001b[0;32m/usr/local/lib/python3.10/dist-packages/pandas/core/window/rolling.py\u001b[0m in \u001b[0;36mhomogeneous_func\u001b[0;34m(values)\u001b[0m\n\u001b[1;32m    656\u001b[0m \u001b[0;34m\u001b[0m\u001b[0m\n\u001b[1;32m    657\u001b[0m             \u001b[0;32mwith\u001b[0m \u001b[0mnp\u001b[0m\u001b[0;34m.\u001b[0m\u001b[0merrstate\u001b[0m\u001b[0;34m(\u001b[0m\u001b[0mall\u001b[0m\u001b[0;34m=\u001b[0m\u001b[0;34m\"ignore\"\u001b[0m\u001b[0;34m)\u001b[0m\u001b[0;34m:\u001b[0m\u001b[0;34m\u001b[0m\u001b[0;34m\u001b[0m\u001b[0m\n\u001b[0;32m--> 658\u001b[0;31m                 \u001b[0mresult\u001b[0m \u001b[0;34m=\u001b[0m \u001b[0mcalc\u001b[0m\u001b[0;34m(\u001b[0m\u001b[0mvalues\u001b[0m\u001b[0;34m)\u001b[0m\u001b[0;34m\u001b[0m\u001b[0;34m\u001b[0m\u001b[0m\n\u001b[0m\u001b[1;32m    659\u001b[0m \u001b[0;34m\u001b[0m\u001b[0m\n\u001b[1;32m    660\u001b[0m             \u001b[0;32mreturn\u001b[0m \u001b[0mresult\u001b[0m\u001b[0;34m\u001b[0m\u001b[0;34m\u001b[0m\u001b[0m\n",
            "\u001b[0;32m/usr/local/lib/python3.10/dist-packages/pandas/core/window/rolling.py\u001b[0m in \u001b[0;36mcalc\u001b[0;34m(x)\u001b[0m\n\u001b[1;32m    653\u001b[0m                 \u001b[0mself\u001b[0m\u001b[0;34m.\u001b[0m\u001b[0m_check_window_bounds\u001b[0m\u001b[0;34m(\u001b[0m\u001b[0mstart\u001b[0m\u001b[0;34m,\u001b[0m \u001b[0mend\u001b[0m\u001b[0;34m,\u001b[0m \u001b[0mlen\u001b[0m\u001b[0;34m(\u001b[0m\u001b[0mx\u001b[0m\u001b[0;34m)\u001b[0m\u001b[0;34m)\u001b[0m\u001b[0;34m\u001b[0m\u001b[0;34m\u001b[0m\u001b[0m\n\u001b[1;32m    654\u001b[0m \u001b[0;34m\u001b[0m\u001b[0m\n\u001b[0;32m--> 655\u001b[0;31m                 \u001b[0;32mreturn\u001b[0m \u001b[0mfunc\u001b[0m\u001b[0;34m(\u001b[0m\u001b[0mx\u001b[0m\u001b[0;34m,\u001b[0m \u001b[0mstart\u001b[0m\u001b[0;34m,\u001b[0m \u001b[0mend\u001b[0m\u001b[0;34m,\u001b[0m \u001b[0mmin_periods\u001b[0m\u001b[0;34m,\u001b[0m \u001b[0;34m*\u001b[0m\u001b[0mnumba_args\u001b[0m\u001b[0;34m)\u001b[0m\u001b[0;34m\u001b[0m\u001b[0;34m\u001b[0m\u001b[0m\n\u001b[0m\u001b[1;32m    656\u001b[0m \u001b[0;34m\u001b[0m\u001b[0m\n\u001b[1;32m    657\u001b[0m             \u001b[0;32mwith\u001b[0m \u001b[0mnp\u001b[0m\u001b[0;34m.\u001b[0m\u001b[0merrstate\u001b[0m\u001b[0;34m(\u001b[0m\u001b[0mall\u001b[0m\u001b[0;34m=\u001b[0m\u001b[0;34m\"ignore\"\u001b[0m\u001b[0;34m)\u001b[0m\u001b[0;34m:\u001b[0m\u001b[0;34m\u001b[0m\u001b[0;34m\u001b[0m\u001b[0m\n",
            "\u001b[0;32m/usr/local/lib/python3.10/dist-packages/pandas/core/window/rolling.py\u001b[0m in \u001b[0;36mapply_func\u001b[0;34m(values, begin, end, min_periods, raw)\u001b[0m\n\u001b[1;32m   1447\u001b[0m                 \u001b[0;31m# GH 45912\u001b[0m\u001b[0;34m\u001b[0m\u001b[0;34m\u001b[0m\u001b[0m\n\u001b[1;32m   1448\u001b[0m                 \u001b[0mvalues\u001b[0m \u001b[0;34m=\u001b[0m \u001b[0mSeries\u001b[0m\u001b[0;34m(\u001b[0m\u001b[0mvalues\u001b[0m\u001b[0;34m,\u001b[0m \u001b[0mindex\u001b[0m\u001b[0;34m=\u001b[0m\u001b[0mself\u001b[0m\u001b[0;34m.\u001b[0m\u001b[0m_on\u001b[0m\u001b[0;34m)\u001b[0m\u001b[0;34m\u001b[0m\u001b[0;34m\u001b[0m\u001b[0m\n\u001b[0;32m-> 1449\u001b[0;31m             \u001b[0;32mreturn\u001b[0m \u001b[0mwindow_func\u001b[0m\u001b[0;34m(\u001b[0m\u001b[0mvalues\u001b[0m\u001b[0;34m,\u001b[0m \u001b[0mbegin\u001b[0m\u001b[0;34m,\u001b[0m \u001b[0mend\u001b[0m\u001b[0;34m,\u001b[0m \u001b[0mmin_periods\u001b[0m\u001b[0;34m)\u001b[0m\u001b[0;34m\u001b[0m\u001b[0;34m\u001b[0m\u001b[0m\n\u001b[0m\u001b[1;32m   1450\u001b[0m \u001b[0;34m\u001b[0m\u001b[0m\n\u001b[1;32m   1451\u001b[0m         \u001b[0;32mreturn\u001b[0m \u001b[0mapply_func\u001b[0m\u001b[0;34m\u001b[0m\u001b[0;34m\u001b[0m\u001b[0m\n",
            "\u001b[0;32m/usr/local/lib/python3.10/dist-packages/pandas/_libs/window/aggregations.pyx\u001b[0m in \u001b[0;36mpandas._libs.window.aggregations.roll_apply\u001b[0;34m()\u001b[0m\n",
            "\u001b[0;31mTypeError\u001b[0m: must be real number, not Timestamp"
          ]
        }
      ],
      "source": [
        "import pandas as pd\n",
        "\n",
        "# Create a DataFrame with the date index\n",
        "start_date = '2015-01-01'\n",
        "end_date = '2015-12-31'\n",
        "business_days_2015 = pd.date_range(start=start_date, end=end_date, freq='B')\n",
        "s = pd.Series(np.random.random(len(business_days_2015)), index=business_days_2015)\n",
        "\n",
        "# Define a function to find the date of the maximum value within a Series\n",
        "def date_of_max(series):\n",
        "    return series.idxmax()\n",
        "\n",
        "# Use rolling with a window size of four months and apply the date_of_max function\n",
        "result = s.rolling(window=11, min_periods=1).apply(date_of_max)\n",
        "\n",
        "# Print the resulting Series\n",
        "print(result)\n"
      ]
    },
    {
      "cell_type": "markdown",
      "metadata": {
        "id": "EGNe2xY_Ac74"
      },
      "source": [
        "**37.** Create a DateTimeIndex consisting of the third Thursday in each month for the years 2015 and 2016."
      ]
    },
    {
      "cell_type": "code",
      "execution_count": null,
      "metadata": {
        "id": "tZc-ck_JAc74",
        "colab": {
          "base_uri": "https://localhost:8080/"
        },
        "outputId": "5b554935-ad47-4a85-ccfe-afa617675d0a"
      },
      "outputs": [
        {
          "output_type": "stream",
          "name": "stdout",
          "text": [
            "DatetimeIndex(['2015-01-15', '2015-02-19', '2015-03-19', '2015-04-16',\n",
            "               '2015-05-21', '2015-06-18', '2015-07-16', '2015-08-20',\n",
            "               '2015-09-17', '2015-10-15', '2015-11-19', '2015-12-17',\n",
            "               '2016-01-21', '2016-02-18', '2016-03-17', '2016-04-21',\n",
            "               '2016-05-19', '2016-06-16', '2016-07-21', '2016-08-18',\n",
            "               '2016-09-15', '2016-10-20', '2016-11-17', '2016-12-15'],\n",
            "              dtype='datetime64[ns]', freq='WOM-3THU')\n"
          ]
        }
      ],
      "source": [
        "import pandas as pd\n",
        "\n",
        "# Create a DateTimeIndex for the third Thursday of each month in 2015 and 2016\n",
        "date_index_2015 = pd.date_range(start='2015-01-01', end='2015-12-31', freq='WOM-3THU')\n",
        "date_index_2016 = pd.date_range(start='2016-01-01', end='2016-12-31', freq='WOM-3THU')\n",
        "\n",
        "# Combine the two DateTimeIndex objects if needed\n",
        "combined_date_index = date_index_2015.append(date_index_2016)\n",
        "\n",
        "# Print the resulting DateTimeIndex\n",
        "print(combined_date_index)\n"
      ]
    },
    {
      "cell_type": "markdown",
      "metadata": {
        "id": "aPeaCpIRAc74"
      },
      "source": [
        "## Cleaning Data\n",
        "\n",
        "### Making a DataFrame easier to work with\n",
        "\n",
        "Difficulty: *easy/medium*\n",
        "\n",
        "It happens all the time: someone gives you data containing malformed strings, Python, lists and missing data. How do you tidy it up so you can get on with the analysis?\n",
        "\n",
        "Take this monstrosity as the DataFrame to use in the following puzzles:\n",
        "\n",
        "```python\n",
        "df = pd.DataFrame({'From_To': ['LoNDon_paris', 'MAdrid_miLAN', 'londON_StockhOlm',\n",
        "                               'Budapest_PaRis', 'Brussels_londOn'],\n",
        "              'FlightNumber': [10045, np.nan, 10065, np.nan, 10085],\n",
        "              'RecentDelays': [[23, 47], [], [24, 43, 87], [13], [67, 32]],\n",
        "                   'Airline': ['KLM(!)', '<Air France> (12)', '(British Airways. )',\n",
        "                               '12. Air France', '\"Swiss Air\"']})\n",
        "```\n",
        "Formatted, it looks like this:\n",
        "\n",
        "```\n",
        "            From_To  FlightNumber  RecentDelays              Airline\n",
        "0      LoNDon_paris       10045.0      [23, 47]               KLM(!)\n",
        "1      MAdrid_miLAN           NaN            []    <Air France> (12)\n",
        "2  londON_StockhOlm       10065.0  [24, 43, 87]  (British Airways. )\n",
        "3    Budapest_PaRis           NaN          [13]       12. Air France\n",
        "4   Brussels_londOn       10085.0      [67, 32]          \"Swiss Air\"\n",
        "```\n",
        "\n",
        "\n",
        "(It's some flight data I made up; it's not meant to be accurate in any way.)\n"
      ]
    },
    {
      "cell_type": "markdown",
      "metadata": {
        "id": "aKShceIfAc74"
      },
      "source": [
        "**38.** Some values in the the **FlightNumber** column are missing (they are `NaN`). These numbers are meant to increase by 10 with each row so 10055 and 10075 need to be put in place. Modify `df` to fill in these missing numbers and make the column an integer column (instead of a float column)."
      ]
    },
    {
      "cell_type": "code",
      "execution_count": null,
      "metadata": {
        "id": "hXljnfKpAc74",
        "colab": {
          "base_uri": "https://localhost:8080/"
        },
        "outputId": "d792d686-8b6f-43ca-9a86-15af83950a0b"
      },
      "outputs": [
        {
          "output_type": "stream",
          "name": "stdout",
          "text": [
            "            From_To  FlightNumber  RecentDelays              Airline\n",
            "0      LoNDon_paris         10045      [23, 47]               KLM(!)\n",
            "1      MAdrid_miLAN         10055            []    <Air France> (12)\n",
            "2  londON_StockhOlm         10065  [24, 43, 87]  (British Airways. )\n",
            "3    Budapest_PaRis         10075          [13]       12. Air France\n",
            "4   Brussels_londOn         10085      [67, 32]          \"Swiss Air\"\n"
          ]
        }
      ],
      "source": [
        "import pandas as pd\n",
        "import numpy as np\n",
        "\n",
        "# Create the DataFrame\n",
        "df = pd.DataFrame({'From_To': ['LoNDon_paris', 'MAdrid_miLAN', 'londON_StockhOlm',\n",
        "                               'Budapest_PaRis', 'Brussels_londOn'],\n",
        "                   'FlightNumber': [10045, np.nan, 10065, np.nan, 10085],\n",
        "                   'RecentDelays': [[23, 47], [], [24, 43, 87], [13], [67, 32]],\n",
        "                   'Airline': ['KLM(!)', '<Air France> (12)', '(British Airways. )',\n",
        "                               '12. Air France', '\"Swiss Air\"']})\n",
        "\n",
        "# Fill in missing values in 'FlightNumber' column and convert it to integer\n",
        "df['FlightNumber'] = df['FlightNumber'].fillna(df['FlightNumber'].shift() + 10).astype(int)\n",
        "\n",
        "# Print the modified DataFrame\n",
        "print(df)\n"
      ]
    },
    {
      "cell_type": "markdown",
      "metadata": {
        "id": "OLIzNtW9Ac74"
      },
      "source": [
        "**39.** The **From\\_To** column would be better as two separate columns! Split each string on the underscore delimiter `_` to give a new temporary DataFrame called 'temp' with the correct values. Assign the correct column names 'From' and 'To' to this temporary DataFrame."
      ]
    },
    {
      "cell_type": "code",
      "execution_count": null,
      "metadata": {
        "id": "okyRVjbZAc74",
        "colab": {
          "base_uri": "https://localhost:8080/"
        },
        "outputId": "e0a90c82-9c26-43b2-ecf1-2b9357e1f240"
      },
      "outputs": [
        {
          "output_type": "stream",
          "name": "stdout",
          "text": [
            "       From         To\n",
            "0    LoNDon      paris\n",
            "1    MAdrid      miLAN\n",
            "2    londON  StockhOlm\n",
            "3  Budapest      PaRis\n",
            "4  Brussels     londOn\n"
          ]
        }
      ],
      "source": [
        "import pandas as pd\n",
        "\n",
        "# Create the DataFrame\n",
        "df = pd.DataFrame({'From_To': ['LoNDon_paris', 'MAdrid_miLAN', 'londON_StockhOlm',\n",
        "                               'Budapest_PaRis', 'Brussels_londOn'],\n",
        "                   'FlightNumber': [10045, np.nan, 10065, np.nan, 10085],\n",
        "                   'RecentDelays': [[23, 47], [], [24, 43, 87], [13], [67, 32]],\n",
        "                   'Airline': ['KLM(!)', '<Air France> (12)', '(British Airways. )',\n",
        "                               '12. Air France', '\"Swiss Air\"']})\n",
        "\n",
        "# Create a temporary DataFrame 'temp' by splitting the 'From_To' column\n",
        "temp = df['From_To'].str.split('_', expand=True)\n",
        "\n",
        "# Assign the correct column names 'From' and 'To' to the 'temp' DataFrame\n",
        "temp.columns = ['From', 'To']\n",
        "\n",
        "# Print the 'temp' DataFrame\n",
        "print(temp)\n"
      ]
    },
    {
      "cell_type": "markdown",
      "metadata": {
        "id": "JZGNyrLoAc75"
      },
      "source": [
        "**40.** Notice how the capitalisation of the city names is all mixed up in this temporary DataFrame 'temp'. Standardise the strings so that only the first letter is uppercase (e.g. \"londON\" should become \"London\".)"
      ]
    },
    {
      "cell_type": "code",
      "execution_count": null,
      "metadata": {
        "id": "aEptkm2VAc75",
        "colab": {
          "base_uri": "https://localhost:8080/"
        },
        "outputId": "9d2e8904-ff14-4a36-e0cd-54edc0eee780"
      },
      "outputs": [
        {
          "output_type": "stream",
          "name": "stdout",
          "text": [
            "       From         To\n",
            "0    London      Paris\n",
            "1    Madrid      Milan\n",
            "2    London  Stockholm\n",
            "3  Budapest      Paris\n",
            "4  Brussels     London\n"
          ]
        }
      ],
      "source": [
        "import pandas as pd\n",
        "\n",
        "# Create the DataFrame\n",
        "df = pd.DataFrame({'From_To': ['LoNDon_paris', 'MAdrid_miLAN', 'londON_StockhOlm',\n",
        "                               'Budapest_PaRis', 'Brussels_londOn'],\n",
        "                   'FlightNumber': [10045, np.nan, 10065, np.nan, 10085],\n",
        "                   'RecentDelays': [[23, 47], [], [24, 43, 87], [13], [67, 32]],\n",
        "                   'Airline': ['KLM(!)', '<Air France> (12)', '(British Airways. )',\n",
        "                               '12. Air France', '\"Swiss Air\"']})\n",
        "\n",
        "# Create a temporary DataFrame 'temp' by splitting the 'From_To' column\n",
        "temp = df['From_To'].str.split('_', expand=True)\n",
        "\n",
        "# Assign the correct column names 'From' and 'To' to the 'temp' DataFrame\n",
        "temp.columns = ['From', 'To']\n",
        "\n",
        "# Standardize capitalization of city names in the 'temp' DataFrame\n",
        "temp['From'] = temp['From'].str.capitalize()\n",
        "temp['To'] = temp['To'].str.capitalize()\n",
        "\n",
        "# Print the standardized 'temp' DataFrame\n",
        "print(temp)\n"
      ]
    },
    {
      "cell_type": "markdown",
      "metadata": {
        "id": "cXOZikN1Ac75"
      },
      "source": [
        "**41.** Delete the **From_To** column from `df` and attach the temporary DataFrame 'temp' from the previous questions."
      ]
    },
    {
      "cell_type": "code",
      "execution_count": null,
      "metadata": {
        "id": "sYJQra2mAc75",
        "colab": {
          "base_uri": "https://localhost:8080/"
        },
        "outputId": "d4360834-c8b5-4cb2-919e-5425adbbfcb1"
      },
      "outputs": [
        {
          "output_type": "stream",
          "name": "stdout",
          "text": [
            "   FlightNumber  RecentDelays              Airline      From         To\n",
            "0       10045.0      [23, 47]               KLM(!)    London      Paris\n",
            "1           NaN            []    <Air France> (12)    Madrid      Milan\n",
            "2       10065.0  [24, 43, 87]  (British Airways. )    London  Stockholm\n",
            "3           NaN          [13]       12. Air France  Budapest      Paris\n",
            "4       10085.0      [67, 32]          \"Swiss Air\"  Brussels     London\n"
          ]
        }
      ],
      "source": [
        "import pandas as pd\n",
        "\n",
        "# Create the DataFrame\n",
        "df = pd.DataFrame({'From_To': ['LoNDon_paris', 'MAdrid_miLAN', 'londON_StockhOlm',\n",
        "                               'Budapest_PaRis', 'Brussels_londOn'],\n",
        "                   'FlightNumber': [10045, np.nan, 10065, np.nan, 10085],\n",
        "                   'RecentDelays': [[23, 47], [], [24, 43, 87], [13], [67, 32]],\n",
        "                   'Airline': ['KLM(!)', '<Air France> (12)', '(British Airways. )',\n",
        "                               '12. Air France', '\"Swiss Air\"']})\n",
        "\n",
        "# Create a temporary DataFrame 'temp' by splitting the 'From_To' column\n",
        "temp = df['From_To'].str.split('_', expand=True)\n",
        "\n",
        "# Assign the correct column names 'From' and 'To' to the 'temp' DataFrame\n",
        "temp.columns = ['From', 'To']\n",
        "\n",
        "# Standardize capitalization of city names in the 'temp' DataFrame\n",
        "temp['From'] = temp['From'].str.capitalize()\n",
        "temp['To'] = temp['To'].str.capitalize()\n",
        "\n",
        "# Delete the 'From_To' column from 'df'\n",
        "df.drop(columns='From_To', inplace=True)\n",
        "\n",
        "# Concatenate 'df' and 'temp'\n",
        "df = pd.concat([df, temp], axis=1)\n",
        "\n",
        "# Print the modified 'df' DataFrame\n",
        "print(df)\n",
        "\n"
      ]
    },
    {
      "cell_type": "markdown",
      "metadata": {
        "id": "FuEjNbkOAc75"
      },
      "source": [
        "**42**. In the **Airline** column, you can see some extra puctuation and symbols have appeared around the airline names. Pull out just the airline name. E.g. `'(British Airways. )'` should become `'British Airways'`."
      ]
    },
    {
      "cell_type": "code",
      "execution_count": null,
      "metadata": {
        "id": "MGmDmSeUAc75",
        "colab": {
          "base_uri": "https://localhost:8080/"
        },
        "outputId": "51f4f5f6-5341-4513-c7b6-84dba28df9a8"
      },
      "outputs": [
        {
          "output_type": "stream",
          "name": "stdout",
          "text": [
            "            From_To  FlightNumber  RecentDelays          Airline\n",
            "0      LoNDon_paris       10045.0      [23, 47]              KLM\n",
            "1      MAdrid_miLAN           NaN            []       Air France\n",
            "2  londON_StockhOlm       10065.0  [24, 43, 87]  British Airways\n",
            "3    Budapest_PaRis           NaN          [13]       Air France\n",
            "4   Brussels_londOn       10085.0      [67, 32]        Swiss Air\n"
          ]
        }
      ],
      "source": [
        "import pandas as pd\n",
        "import re\n",
        "\n",
        "# Create the DataFrame\n",
        "df = pd.DataFrame({'From_To': ['LoNDon_paris', 'MAdrid_miLAN', 'londON_StockhOlm',\n",
        "                               'Budapest_PaRis', 'Brussels_londOn'],\n",
        "                   'FlightNumber': [10045, np.nan, 10065, np.nan, 10085],\n",
        "                   'RecentDelays': [[23, 47], [], [24, 43, 87], [13], [67, 32]],\n",
        "                   'Airline': ['KLM(!)', '<Air France> (12)', '(British Airways. )',\n",
        "                               '12. Air France', '\"Swiss Air\"']})\n",
        "\n",
        "# Use regular expressions to extract the airline names\n",
        "df['Airline'] = df['Airline'].str.extract('([a-zA-Z\\s]+)', expand=False)\n",
        "\n",
        "# Print the modified 'df' DataFrame\n",
        "print(df)\n"
      ]
    },
    {
      "cell_type": "markdown",
      "metadata": {
        "id": "y3QWGSLoAc75"
      },
      "source": [
        "**43**. In the RecentDelays column, the values have been entered into the DataFrame as a list. We would like each first value in its own column, each second value in its own column, and so on. If there isn't an Nth value, the value should be NaN.\n",
        "\n",
        "Expand the Series of lists into a DataFrame named `delays`, rename the columns `delay_1`, `delay_2`, etc. and replace the unwanted RecentDelays column in `df` with `delays`."
      ]
    },
    {
      "cell_type": "code",
      "execution_count": null,
      "metadata": {
        "id": "Nd-x4qjJAc75",
        "colab": {
          "base_uri": "https://localhost:8080/"
        },
        "outputId": "d16585bc-5058-4549-e16d-9b76df451a91"
      },
      "outputs": [
        {
          "output_type": "stream",
          "name": "stdout",
          "text": [
            "            From_To  FlightNumber              Airline  delay_1  delay_2  \\\n",
            "0      LoNDon_paris       10045.0               KLM(!)     23.0     47.0   \n",
            "1      MAdrid_miLAN           NaN    <Air France> (12)      NaN      NaN   \n",
            "2  londON_StockhOlm       10065.0  (British Airways. )     24.0     43.0   \n",
            "3    Budapest_PaRis           NaN       12. Air France     13.0      NaN   \n",
            "4   Brussels_londOn       10085.0          \"Swiss Air\"     67.0     32.0   \n",
            "\n",
            "   delay_3  \n",
            "0      NaN  \n",
            "1      NaN  \n",
            "2     87.0  \n",
            "3      NaN  \n",
            "4      NaN  \n"
          ]
        },
        {
          "output_type": "stream",
          "name": "stderr",
          "text": [
            "<ipython-input-23-81c6f3f5cdee>:13: FutureWarning: The default dtype for empty Series will be 'object' instead of 'float64' in a future version. Specify a dtype explicitly to silence this warning.\n",
            "  delays = df['RecentDelays'].apply(pd.Series)\n"
          ]
        }
      ],
      "source": [
        "import pandas as pd\n",
        "import numpy as np\n",
        "\n",
        "# Create the DataFrame\n",
        "df = pd.DataFrame({'From_To': ['LoNDon_paris', 'MAdrid_miLAN', 'londON_StockhOlm',\n",
        "                               'Budapest_PaRis', 'Brussels_londOn'],\n",
        "                   'FlightNumber': [10045, np.nan, 10065, np.nan, 10085],\n",
        "                   'RecentDelays': [[23, 47], [], [24, 43, 87], [13], [67, 32]],\n",
        "                   'Airline': ['KLM(!)', '<Air France> (12)', '(British Airways. )',\n",
        "                               '12. Air France', '\"Swiss Air\"']})\n",
        "\n",
        "# Expand the 'RecentDelays' column into a DataFrame\n",
        "delays = df['RecentDelays'].apply(pd.Series)\n",
        "\n",
        "# Rename the columns to 'delay_1', 'delay_2', etc.\n",
        "delays.columns = [f'delay_{i+1}' for i in range(delays.shape[1])]\n",
        "\n",
        "# Replace the 'RecentDelays' column in 'df' with 'delays'\n",
        "df = pd.concat([df.drop(columns='RecentDelays'), delays], axis=1)\n",
        "\n",
        "# Print the modified 'df' DataFrame\n",
        "print(df)\n"
      ]
    },
    {
      "cell_type": "markdown",
      "metadata": {
        "id": "lcm6TSlGAc75"
      },
      "source": [
        "The DataFrame should look much better now.\n",
        "```\n",
        "   FlightNumber          Airline      From         To  delay_1  delay_2  delay_3\n",
        "0         10045              KLM    London      Paris     23.0     47.0      NaN\n",
        "1         10055       Air France    Madrid      Milan      NaN      NaN      NaN\n",
        "2         10065  British Airways    London  Stockholm     24.0     43.0     87.0\n",
        "3         10075       Air France  Budapest      Paris     13.0      NaN      NaN\n",
        "4         10085        Swiss Air  Brussels     London     67.0     32.0      NaN\n",
        "```"
      ]
    },
    {
      "cell_type": "markdown",
      "metadata": {
        "collapsed": true,
        "id": "G5fv365jAc75"
      },
      "source": [
        "## Using MultiIndexes\n",
        "\n",
        "### Go beyond flat DataFrames with additional index levels\n",
        "\n",
        "Difficulty: *medium*\n",
        "\n",
        "Previous exercises have seen us analysing data from DataFrames equipped with a single index level. However, pandas also gives you the possibilty of indexing your data using *multiple* levels. This is very much like adding new dimensions to a Series or a DataFrame. For example, a Series is 1D, but by using a MultiIndex with 2 levels we gain of much the same functionality as a 2D DataFrame.\n",
        "\n",
        "The set of puzzles below explores how you might use multiple index levels to enhance data analysis.\n",
        "\n",
        "To warm up, we'll look make a Series with two index levels."
      ]
    },
    {
      "cell_type": "markdown",
      "metadata": {
        "id": "KPjR-tklAc76"
      },
      "source": [
        "**44**. Given the lists `letters = ['A', 'B', 'C']` and `numbers = list(range(10))`, construct a MultiIndex object from the product of the two lists. Use it to index a Series of random numbers. Call this Series `s`."
      ]
    },
    {
      "cell_type": "code",
      "execution_count": null,
      "metadata": {
        "id": "k-fwKW-CAc76",
        "colab": {
          "base_uri": "https://localhost:8080/"
        },
        "outputId": "4e307aa1-7a61-4daa-e860-2fdbde2d465b"
      },
      "outputs": [
        {
          "output_type": "stream",
          "name": "stdout",
          "text": [
            "Letter  Number\n",
            "A       0         0.154241\n",
            "        1         0.761373\n",
            "        2         0.486465\n",
            "        3         0.148090\n",
            "        4         0.571206\n",
            "        5         0.729551\n",
            "        6         0.065973\n",
            "        7         0.003333\n",
            "        8         0.749838\n",
            "        9         0.427777\n",
            "B       0         0.810192\n",
            "        1         0.822954\n",
            "        2         0.193965\n",
            "        3         0.285046\n",
            "        4         0.443027\n",
            "        5         0.094288\n",
            "        6         0.622982\n",
            "        7         0.400533\n",
            "        8         0.544514\n",
            "        9         0.257602\n",
            "C       0         0.961592\n",
            "        1         0.567842\n",
            "        2         0.897335\n",
            "        3         0.703497\n",
            "        4         0.536378\n",
            "        5         0.695691\n",
            "        6         0.258763\n",
            "        7         0.915979\n",
            "        8         0.977290\n",
            "        9         0.813078\n",
            "dtype: float64\n"
          ]
        }
      ],
      "source": [
        "import pandas as pd\n",
        "import numpy as np\n",
        "\n",
        "# Create the lists\n",
        "letters = ['A', 'B', 'C']\n",
        "numbers = list(range(10))\n",
        "\n",
        "# Create the MultiIndex from the product of the two lists\n",
        "multi_index = pd.MultiIndex.from_product([letters, numbers], names=['Letter', 'Number'])\n",
        "\n",
        "# Create a Series of random numbers indexed by the MultiIndex\n",
        "s = pd.Series(np.random.random(len(multi_index)), index=multi_index)\n",
        "\n",
        "# Print the Series\n",
        "print(s)\n"
      ]
    },
    {
      "cell_type": "markdown",
      "metadata": {
        "id": "RkqoKG9fAc76"
      },
      "source": [
        "**45.** Check the index of `s` is lexicographically sorted (this is a necessary proprty for indexing to work correctly with a MultiIndex)."
      ]
    },
    {
      "cell_type": "code",
      "execution_count": null,
      "metadata": {
        "id": "tSPjHOKiAc76",
        "colab": {
          "base_uri": "https://localhost:8080/"
        },
        "outputId": "2f050123-6730-47c1-93c9-877ab3e6ff3b"
      },
      "outputs": [
        {
          "output_type": "stream",
          "name": "stdout",
          "text": [
            "Is the index lexicographically sorted? True\n"
          ]
        },
        {
          "output_type": "stream",
          "name": "stderr",
          "text": [
            "<ipython-input-25-7b4067f2a449>:15: FutureWarning: MultiIndex.is_lexsorted is deprecated as a public function, users should use MultiIndex.is_monotonic_increasing instead.\n",
            "  is_sorted = s.index.is_lexsorted()\n"
          ]
        }
      ],
      "source": [
        "import pandas as pd\n",
        "import numpy as np\n",
        "\n",
        "# Create the lists\n",
        "letters = ['A', 'B', 'C']\n",
        "numbers = list(range(10))\n",
        "\n",
        "# Create the MultiIndex from the product of the two lists\n",
        "multi_index = pd.MultiIndex.from_product([letters, numbers], names=['Letter', 'Number'])\n",
        "\n",
        "# Create a Series of random numbers indexed by the MultiIndex\n",
        "s = pd.Series(np.random.random(len(multi_index)), index=multi_index)\n",
        "\n",
        "# Check if the index is lexicographically sorted\n",
        "is_sorted = s.index.is_lexsorted()\n",
        "\n",
        "# Print the result\n",
        "print(\"Is the index lexicographically sorted?\", is_sorted)\n"
      ]
    },
    {
      "cell_type": "markdown",
      "metadata": {
        "id": "dn3BK4jQAc76"
      },
      "source": [
        "**46**. Select the labels `1`, `3` and `6` from the second level of the MultiIndexed Series."
      ]
    },
    {
      "cell_type": "code",
      "execution_count": null,
      "metadata": {
        "id": "jc79N5WfAc76",
        "colab": {
          "base_uri": "https://localhost:8080/",
          "height": 583
        },
        "outputId": "7c3fd7aa-a257-48fb-f6cd-68377c908239"
      },
      "outputs": [
        {
          "output_type": "stream",
          "name": "stderr",
          "text": [
            "<ipython-input-26-72dc57b205ec>:15: FutureWarning: Passing lists as key for xs is deprecated and will be removed in a future version. Pass key as a tuple instead.\n",
            "  selected_values = s.xs([1, 3, 6], level='Number')\n"
          ]
        },
        {
          "output_type": "error",
          "ename": "KeyError",
          "evalue": "ignored",
          "traceback": [
            "\u001b[0;31m---------------------------------------------------------------------------\u001b[0m",
            "\u001b[0;31mKeyError\u001b[0m                                  Traceback (most recent call last)",
            "\u001b[0;32m/usr/local/lib/python3.10/dist-packages/pandas/core/indexes/base.py\u001b[0m in \u001b[0;36mget_loc\u001b[0;34m(self, key, method, tolerance)\u001b[0m\n\u001b[1;32m   3801\u001b[0m             \u001b[0;32mtry\u001b[0m\u001b[0;34m:\u001b[0m\u001b[0;34m\u001b[0m\u001b[0;34m\u001b[0m\u001b[0m\n\u001b[0;32m-> 3802\u001b[0;31m                 \u001b[0;32mreturn\u001b[0m \u001b[0mself\u001b[0m\u001b[0;34m.\u001b[0m\u001b[0m_engine\u001b[0m\u001b[0;34m.\u001b[0m\u001b[0mget_loc\u001b[0m\u001b[0;34m(\u001b[0m\u001b[0mcasted_key\u001b[0m\u001b[0;34m)\u001b[0m\u001b[0;34m\u001b[0m\u001b[0;34m\u001b[0m\u001b[0m\n\u001b[0m\u001b[1;32m   3803\u001b[0m             \u001b[0;32mexcept\u001b[0m \u001b[0mKeyError\u001b[0m \u001b[0;32mas\u001b[0m \u001b[0merr\u001b[0m\u001b[0;34m:\u001b[0m\u001b[0;34m\u001b[0m\u001b[0;34m\u001b[0m\u001b[0m\n",
            "\u001b[0;32m/usr/local/lib/python3.10/dist-packages/pandas/_libs/index.pyx\u001b[0m in \u001b[0;36mpandas._libs.index.IndexEngine.get_loc\u001b[0;34m()\u001b[0m\n",
            "\u001b[0;32m/usr/local/lib/python3.10/dist-packages/pandas/_libs/index.pyx\u001b[0m in \u001b[0;36mpandas._libs.index.IndexEngine.get_loc\u001b[0;34m()\u001b[0m\n",
            "\u001b[0;32mpandas/_libs/index_class_helper.pxi\u001b[0m in \u001b[0;36mpandas._libs.index.Int64Engine._check_type\u001b[0;34m()\u001b[0m\n",
            "\u001b[0;31mKeyError\u001b[0m: (1, 3, 6)",
            "\nThe above exception was the direct cause of the following exception:\n",
            "\u001b[0;31mKeyError\u001b[0m                                  Traceback (most recent call last)",
            "\u001b[0;32m<ipython-input-26-72dc57b205ec>\u001b[0m in \u001b[0;36m<cell line: 15>\u001b[0;34m()\u001b[0m\n\u001b[1;32m     13\u001b[0m \u001b[0;34m\u001b[0m\u001b[0m\n\u001b[1;32m     14\u001b[0m \u001b[0;31m# Select labels 1, 3, and 6 from the second level of the MultiIndex\u001b[0m\u001b[0;34m\u001b[0m\u001b[0;34m\u001b[0m\u001b[0m\n\u001b[0;32m---> 15\u001b[0;31m \u001b[0mselected_values\u001b[0m \u001b[0;34m=\u001b[0m \u001b[0ms\u001b[0m\u001b[0;34m.\u001b[0m\u001b[0mxs\u001b[0m\u001b[0;34m(\u001b[0m\u001b[0;34m[\u001b[0m\u001b[0;36m1\u001b[0m\u001b[0;34m,\u001b[0m \u001b[0;36m3\u001b[0m\u001b[0;34m,\u001b[0m \u001b[0;36m6\u001b[0m\u001b[0;34m]\u001b[0m\u001b[0;34m,\u001b[0m \u001b[0mlevel\u001b[0m\u001b[0;34m=\u001b[0m\u001b[0;34m'Number'\u001b[0m\u001b[0;34m)\u001b[0m\u001b[0;34m\u001b[0m\u001b[0;34m\u001b[0m\u001b[0m\n\u001b[0m\u001b[1;32m     16\u001b[0m \u001b[0;34m\u001b[0m\u001b[0m\n\u001b[1;32m     17\u001b[0m \u001b[0;31m# Print the selected values\u001b[0m\u001b[0;34m\u001b[0m\u001b[0;34m\u001b[0m\u001b[0m\n",
            "\u001b[0;32m/usr/local/lib/python3.10/dist-packages/pandas/core/generic.py\u001b[0m in \u001b[0;36mxs\u001b[0;34m(self, key, axis, level, drop_level)\u001b[0m\n\u001b[1;32m   4026\u001b[0m             \u001b[0;32mif\u001b[0m \u001b[0;32mnot\u001b[0m \u001b[0misinstance\u001b[0m\u001b[0;34m(\u001b[0m\u001b[0mlabels\u001b[0m\u001b[0;34m,\u001b[0m \u001b[0mMultiIndex\u001b[0m\u001b[0;34m)\u001b[0m\u001b[0;34m:\u001b[0m\u001b[0;34m\u001b[0m\u001b[0;34m\u001b[0m\u001b[0m\n\u001b[1;32m   4027\u001b[0m                 \u001b[0;32mraise\u001b[0m \u001b[0mTypeError\u001b[0m\u001b[0;34m(\u001b[0m\u001b[0;34m\"Index must be a MultiIndex\"\u001b[0m\u001b[0;34m)\u001b[0m\u001b[0;34m\u001b[0m\u001b[0;34m\u001b[0m\u001b[0m\n\u001b[0;32m-> 4028\u001b[0;31m             \u001b[0mloc\u001b[0m\u001b[0;34m,\u001b[0m \u001b[0mnew_ax\u001b[0m \u001b[0;34m=\u001b[0m \u001b[0mlabels\u001b[0m\u001b[0;34m.\u001b[0m\u001b[0mget_loc_level\u001b[0m\u001b[0;34m(\u001b[0m\u001b[0mkey\u001b[0m\u001b[0;34m,\u001b[0m \u001b[0mlevel\u001b[0m\u001b[0;34m=\u001b[0m\u001b[0mlevel\u001b[0m\u001b[0;34m,\u001b[0m \u001b[0mdrop_level\u001b[0m\u001b[0;34m=\u001b[0m\u001b[0mdrop_level\u001b[0m\u001b[0;34m)\u001b[0m\u001b[0;34m\u001b[0m\u001b[0;34m\u001b[0m\u001b[0m\n\u001b[0m\u001b[1;32m   4029\u001b[0m \u001b[0;34m\u001b[0m\u001b[0m\n\u001b[1;32m   4030\u001b[0m             \u001b[0;31m# create the tuple of the indexer\u001b[0m\u001b[0;34m\u001b[0m\u001b[0;34m\u001b[0m\u001b[0m\n",
            "\u001b[0;32m/usr/local/lib/python3.10/dist-packages/pandas/core/indexes/multi.py\u001b[0m in \u001b[0;36mget_loc_level\u001b[0;34m(self, key, level, drop_level)\u001b[0m\n\u001b[1;32m   3017\u001b[0m             \u001b[0mlevel\u001b[0m \u001b[0;34m=\u001b[0m \u001b[0;34m[\u001b[0m\u001b[0mself\u001b[0m\u001b[0;34m.\u001b[0m\u001b[0m_get_level_number\u001b[0m\u001b[0;34m(\u001b[0m\u001b[0mlev\u001b[0m\u001b[0;34m)\u001b[0m \u001b[0;32mfor\u001b[0m \u001b[0mlev\u001b[0m \u001b[0;32min\u001b[0m \u001b[0mlevel\u001b[0m\u001b[0;34m]\u001b[0m\u001b[0;34m\u001b[0m\u001b[0;34m\u001b[0m\u001b[0m\n\u001b[1;32m   3018\u001b[0m \u001b[0;34m\u001b[0m\u001b[0m\n\u001b[0;32m-> 3019\u001b[0;31m         \u001b[0mloc\u001b[0m\u001b[0;34m,\u001b[0m \u001b[0mmi\u001b[0m \u001b[0;34m=\u001b[0m \u001b[0mself\u001b[0m\u001b[0;34m.\u001b[0m\u001b[0m_get_loc_level\u001b[0m\u001b[0;34m(\u001b[0m\u001b[0mkey\u001b[0m\u001b[0;34m,\u001b[0m \u001b[0mlevel\u001b[0m\u001b[0;34m=\u001b[0m\u001b[0mlevel\u001b[0m\u001b[0;34m)\u001b[0m\u001b[0;34m\u001b[0m\u001b[0;34m\u001b[0m\u001b[0m\n\u001b[0m\u001b[1;32m   3020\u001b[0m         \u001b[0;32mif\u001b[0m \u001b[0;32mnot\u001b[0m \u001b[0mdrop_level\u001b[0m\u001b[0;34m:\u001b[0m\u001b[0;34m\u001b[0m\u001b[0;34m\u001b[0m\u001b[0m\n\u001b[1;32m   3021\u001b[0m             \u001b[0;32mif\u001b[0m \u001b[0mlib\u001b[0m\u001b[0;34m.\u001b[0m\u001b[0mis_integer\u001b[0m\u001b[0;34m(\u001b[0m\u001b[0mloc\u001b[0m\u001b[0;34m)\u001b[0m\u001b[0;34m:\u001b[0m\u001b[0;34m\u001b[0m\u001b[0;34m\u001b[0m\u001b[0m\n",
            "\u001b[0;32m/usr/local/lib/python3.10/dist-packages/pandas/core/indexes/multi.py\u001b[0m in \u001b[0;36m_get_loc_level\u001b[0;34m(self, key, level)\u001b[0m\n\u001b[1;32m   3158\u001b[0m                 \u001b[0;32mreturn\u001b[0m \u001b[0mindexer\u001b[0m\u001b[0;34m,\u001b[0m \u001b[0mmaybe_mi_droplevels\u001b[0m\u001b[0;34m(\u001b[0m\u001b[0mindexer\u001b[0m\u001b[0;34m,\u001b[0m \u001b[0milevels\u001b[0m\u001b[0;34m)\u001b[0m\u001b[0;34m\u001b[0m\u001b[0;34m\u001b[0m\u001b[0m\n\u001b[1;32m   3159\u001b[0m         \u001b[0;32melse\u001b[0m\u001b[0;34m:\u001b[0m\u001b[0;34m\u001b[0m\u001b[0;34m\u001b[0m\u001b[0m\n\u001b[0;32m-> 3160\u001b[0;31m             \u001b[0mindexer\u001b[0m \u001b[0;34m=\u001b[0m \u001b[0mself\u001b[0m\u001b[0;34m.\u001b[0m\u001b[0m_get_level_indexer\u001b[0m\u001b[0;34m(\u001b[0m\u001b[0mkey\u001b[0m\u001b[0;34m,\u001b[0m \u001b[0mlevel\u001b[0m\u001b[0;34m=\u001b[0m\u001b[0mlevel\u001b[0m\u001b[0;34m)\u001b[0m\u001b[0;34m\u001b[0m\u001b[0;34m\u001b[0m\u001b[0m\n\u001b[0m\u001b[1;32m   3161\u001b[0m             if (\n\u001b[1;32m   3162\u001b[0m                 \u001b[0misinstance\u001b[0m\u001b[0;34m(\u001b[0m\u001b[0mkey\u001b[0m\u001b[0;34m,\u001b[0m \u001b[0mstr\u001b[0m\u001b[0;34m)\u001b[0m\u001b[0;34m\u001b[0m\u001b[0;34m\u001b[0m\u001b[0m\n",
            "\u001b[0;32m/usr/local/lib/python3.10/dist-packages/pandas/core/indexes/multi.py\u001b[0m in \u001b[0;36m_get_level_indexer\u001b[0;34m(self, key, level, indexer)\u001b[0m\n\u001b[1;32m   3261\u001b[0m         \u001b[0;32melse\u001b[0m\u001b[0;34m:\u001b[0m\u001b[0;34m\u001b[0m\u001b[0;34m\u001b[0m\u001b[0m\n\u001b[1;32m   3262\u001b[0m \u001b[0;34m\u001b[0m\u001b[0m\n\u001b[0;32m-> 3263\u001b[0;31m             \u001b[0midx\u001b[0m \u001b[0;34m=\u001b[0m \u001b[0mself\u001b[0m\u001b[0;34m.\u001b[0m\u001b[0m_get_loc_single_level_index\u001b[0m\u001b[0;34m(\u001b[0m\u001b[0mlevel_index\u001b[0m\u001b[0;34m,\u001b[0m \u001b[0mkey\u001b[0m\u001b[0;34m)\u001b[0m\u001b[0;34m\u001b[0m\u001b[0;34m\u001b[0m\u001b[0m\n\u001b[0m\u001b[1;32m   3264\u001b[0m \u001b[0;34m\u001b[0m\u001b[0m\n\u001b[1;32m   3265\u001b[0m             \u001b[0;32mif\u001b[0m \u001b[0mlevel\u001b[0m \u001b[0;34m>\u001b[0m \u001b[0;36m0\u001b[0m \u001b[0;32mor\u001b[0m \u001b[0mself\u001b[0m\u001b[0;34m.\u001b[0m\u001b[0m_lexsort_depth\u001b[0m \u001b[0;34m==\u001b[0m \u001b[0;36m0\u001b[0m\u001b[0;34m:\u001b[0m\u001b[0;34m\u001b[0m\u001b[0;34m\u001b[0m\u001b[0m\n",
            "\u001b[0;32m/usr/local/lib/python3.10/dist-packages/pandas/core/indexes/multi.py\u001b[0m in \u001b[0;36m_get_loc_single_level_index\u001b[0;34m(self, level_index, key)\u001b[0m\n\u001b[1;32m   2847\u001b[0m             \u001b[0;32mreturn\u001b[0m \u001b[0;34m-\u001b[0m\u001b[0;36m1\u001b[0m\u001b[0;34m\u001b[0m\u001b[0;34m\u001b[0m\u001b[0m\n\u001b[1;32m   2848\u001b[0m         \u001b[0;32melse\u001b[0m\u001b[0;34m:\u001b[0m\u001b[0;34m\u001b[0m\u001b[0;34m\u001b[0m\u001b[0m\n\u001b[0;32m-> 2849\u001b[0;31m             \u001b[0;32mreturn\u001b[0m \u001b[0mlevel_index\u001b[0m\u001b[0;34m.\u001b[0m\u001b[0mget_loc\u001b[0m\u001b[0;34m(\u001b[0m\u001b[0mkey\u001b[0m\u001b[0;34m)\u001b[0m\u001b[0;34m\u001b[0m\u001b[0;34m\u001b[0m\u001b[0m\n\u001b[0m\u001b[1;32m   2850\u001b[0m \u001b[0;34m\u001b[0m\u001b[0m\n\u001b[1;32m   2851\u001b[0m     \u001b[0;32mdef\u001b[0m \u001b[0mget_loc\u001b[0m\u001b[0;34m(\u001b[0m\u001b[0mself\u001b[0m\u001b[0;34m,\u001b[0m \u001b[0mkey\u001b[0m\u001b[0;34m,\u001b[0m \u001b[0mmethod\u001b[0m\u001b[0;34m=\u001b[0m\u001b[0;32mNone\u001b[0m\u001b[0;34m)\u001b[0m\u001b[0;34m:\u001b[0m\u001b[0;34m\u001b[0m\u001b[0;34m\u001b[0m\u001b[0m\n",
            "\u001b[0;32m/usr/local/lib/python3.10/dist-packages/pandas/core/indexes/base.py\u001b[0m in \u001b[0;36mget_loc\u001b[0;34m(self, key, method, tolerance)\u001b[0m\n\u001b[1;32m   3802\u001b[0m                 \u001b[0;32mreturn\u001b[0m \u001b[0mself\u001b[0m\u001b[0;34m.\u001b[0m\u001b[0m_engine\u001b[0m\u001b[0;34m.\u001b[0m\u001b[0mget_loc\u001b[0m\u001b[0;34m(\u001b[0m\u001b[0mcasted_key\u001b[0m\u001b[0;34m)\u001b[0m\u001b[0;34m\u001b[0m\u001b[0;34m\u001b[0m\u001b[0m\n\u001b[1;32m   3803\u001b[0m             \u001b[0;32mexcept\u001b[0m \u001b[0mKeyError\u001b[0m \u001b[0;32mas\u001b[0m \u001b[0merr\u001b[0m\u001b[0;34m:\u001b[0m\u001b[0;34m\u001b[0m\u001b[0;34m\u001b[0m\u001b[0m\n\u001b[0;32m-> 3804\u001b[0;31m                 \u001b[0;32mraise\u001b[0m \u001b[0mKeyError\u001b[0m\u001b[0;34m(\u001b[0m\u001b[0mkey\u001b[0m\u001b[0;34m)\u001b[0m \u001b[0;32mfrom\u001b[0m \u001b[0merr\u001b[0m\u001b[0;34m\u001b[0m\u001b[0;34m\u001b[0m\u001b[0m\n\u001b[0m\u001b[1;32m   3805\u001b[0m             \u001b[0;32mexcept\u001b[0m \u001b[0mTypeError\u001b[0m\u001b[0;34m:\u001b[0m\u001b[0;34m\u001b[0m\u001b[0;34m\u001b[0m\u001b[0m\n\u001b[1;32m   3806\u001b[0m                 \u001b[0;31m# If we have a listlike key, _check_indexing_error will raise\u001b[0m\u001b[0;34m\u001b[0m\u001b[0;34m\u001b[0m\u001b[0m\n",
            "\u001b[0;31mKeyError\u001b[0m: (1, 3, 6)"
          ]
        }
      ],
      "source": [
        "import pandas as pd\n",
        "import numpy as np\n",
        "\n",
        "# Create the lists\n",
        "letters = ['A', 'B', 'C']\n",
        "numbers = list(range(10))\n",
        "\n",
        "# Create the MultiIndex from the product of the two lists\n",
        "multi_index = pd.MultiIndex.from_product([letters, numbers], names=['Letter', 'Number'])\n",
        "\n",
        "# Create a Series of random numbers indexed by the MultiIndex\n",
        "s = pd.Series(np.random.random(len(multi_index)), index=multi_index)\n",
        "\n",
        "# Select labels 1, 3, and 6 from the second level of the MultiIndex\n",
        "selected_values = s.xs([1, 3, 6], level='Number')\n",
        "\n",
        "# Print the selected values\n",
        "print(selected_values)\n"
      ]
    },
    {
      "cell_type": "markdown",
      "metadata": {
        "id": "6UOHwB7CAc76"
      },
      "source": [
        "**47**. Slice the Series `s`; slice up to label 'B' for the first level and from label 5 onwards for the second level."
      ]
    },
    {
      "cell_type": "code",
      "execution_count": null,
      "metadata": {
        "id": "r7d1jc1GAc76",
        "colab": {
          "base_uri": "https://localhost:8080/"
        },
        "outputId": "2b129995-2218-4f74-fdb2-7d1bfdc2dc4c"
      },
      "outputs": [
        {
          "output_type": "stream",
          "name": "stdout",
          "text": [
            "Letter  Number\n",
            "A       5         0.362816\n",
            "        6         0.463042\n",
            "        7         0.358304\n",
            "        8         0.128984\n",
            "        9         0.545282\n",
            "B       5         0.402885\n",
            "        6         0.914340\n",
            "        7         0.538542\n",
            "        8         0.918453\n",
            "        9         0.712077\n",
            "dtype: float64\n"
          ]
        }
      ],
      "source": [
        "import pandas as pd\n",
        "import numpy as np\n",
        "\n",
        "# Create the lists\n",
        "letters = ['A', 'B', 'C']\n",
        "numbers = list(range(10))\n",
        "\n",
        "# Create the MultiIndex from the product of the two lists\n",
        "multi_index = pd.MultiIndex.from_product([letters, numbers], names=['Letter', 'Number'])\n",
        "\n",
        "# Create a Series of random numbers indexed by the MultiIndex\n",
        "s = pd.Series(np.random.random(len(multi_index)), index=multi_index)\n",
        "\n",
        "# Slice the Series based on the specified conditions\n",
        "sliced_data = s.loc[slice(None, 'B'), slice(5, None)]\n",
        "\n",
        "# Print the sliced data\n",
        "print(sliced_data)\n"
      ]
    },
    {
      "cell_type": "markdown",
      "metadata": {
        "id": "iHpKjcXPAc76"
      },
      "source": [
        "**48**. Sum the values in `s` for each label in the first level (you should have Series giving you a total for labels A, B and C)."
      ]
    },
    {
      "cell_type": "code",
      "execution_count": null,
      "metadata": {
        "id": "wuGOCYHhAc76",
        "colab": {
          "base_uri": "https://localhost:8080/"
        },
        "outputId": "118cebec-b84e-45a4-85c5-0d4329a84a50"
      },
      "outputs": [
        {
          "output_type": "stream",
          "name": "stdout",
          "text": [
            "Letter\n",
            "A    5.559572\n",
            "B    5.236914\n",
            "C    5.450376\n",
            "dtype: float64\n"
          ]
        },
        {
          "output_type": "stream",
          "name": "stderr",
          "text": [
            "<ipython-input-28-8e43ad1c90fd>:15: FutureWarning: Using the level keyword in DataFrame and Series aggregations is deprecated and will be removed in a future version. Use groupby instead. df.sum(level=1) should use df.groupby(level=1).sum().\n",
            "  sum_by_first_level = s.sum(level='Letter')\n"
          ]
        }
      ],
      "source": [
        "import pandas as pd\n",
        "import numpy as np\n",
        "\n",
        "# Create the lists\n",
        "letters = ['A', 'B', 'C']\n",
        "numbers = list(range(10))\n",
        "\n",
        "# Create the MultiIndex from the product of the two lists\n",
        "multi_index = pd.MultiIndex.from_product([letters, numbers], names=['Letter', 'Number'])\n",
        "\n",
        "# Create a Series of random numbers indexed by the MultiIndex\n",
        "s = pd.Series(np.random.random(len(multi_index)), index=multi_index)\n",
        "\n",
        "# Sum the values in 's' for each label in the first level\n",
        "sum_by_first_level = s.sum(level='Letter')\n",
        "\n",
        "# Print the sum for each label in the first level\n",
        "print(sum_by_first_level)\n"
      ]
    },
    {
      "cell_type": "markdown",
      "metadata": {
        "id": "bWJuNd5UAc76"
      },
      "source": [
        "**49**. Suppose that `sum()` (and other methods) did not accept a `level` keyword argument. How else could you perform the equivalent of `s.sum(level=1)`?"
      ]
    },
    {
      "cell_type": "code",
      "execution_count": null,
      "metadata": {
        "id": "F9R_sYaXAc77",
        "colab": {
          "base_uri": "https://localhost:8080/"
        },
        "outputId": "fb854460-0e8e-4ed2-8857-a00b3f2d5ef5"
      },
      "outputs": [
        {
          "output_type": "stream",
          "name": "stdout",
          "text": [
            "Number\n",
            "0    1.434082\n",
            "1    1.428373\n",
            "2    2.076344\n",
            "3    2.061395\n",
            "4    1.092007\n",
            "5    1.063612\n",
            "6    1.705210\n",
            "7    1.561514\n",
            "8    1.346103\n",
            "9    1.520241\n",
            "dtype: float64\n"
          ]
        }
      ],
      "source": [
        "import pandas as pd\n",
        "import numpy as np\n",
        "\n",
        "# Create the lists\n",
        "letters = ['A', 'B', 'C']\n",
        "numbers = list(range(10))\n",
        "\n",
        "# Create the MultiIndex from the product of the two lists\n",
        "multi_index = pd.MultiIndex.from_product([letters, numbers], names=['Letter', 'Number'])\n",
        "\n",
        "# Create a Series of random numbers indexed by the MultiIndex\n",
        "s = pd.Series(np.random.random(len(multi_index)), index=multi_index)\n",
        "\n",
        "# Perform the equivalent of s.sum(level=1) using groupby and sum\n",
        "sum_by_second_level = s.groupby(level='Number').sum()\n",
        "\n",
        "# Print the sum for each label in the second level\n",
        "print(sum_by_second_level)\n"
      ]
    },
    {
      "cell_type": "markdown",
      "metadata": {
        "id": "ZRTEYALlAc77"
      },
      "source": [
        "**50**. Exchange the levels of the MultiIndex so we have an index of the form (letters, numbers). Is this new Series properly lexsorted? If not, sort it."
      ]
    },
    {
      "cell_type": "code",
      "execution_count": null,
      "metadata": {
        "id": "BlC6sJqjAc77",
        "colab": {
          "base_uri": "https://localhost:8080/"
        },
        "outputId": "db5b014c-ae5d-4773-adb8-20c510f2f1cc"
      },
      "outputs": [
        {
          "output_type": "stream",
          "name": "stdout",
          "text": [
            "Number  Letter\n",
            "0       A         0.341586\n",
            "        B         0.643195\n",
            "        C         0.335880\n",
            "1       A         0.654313\n",
            "        B         0.687035\n",
            "        C         0.366047\n",
            "2       A         0.264729\n",
            "        B         0.261453\n",
            "        C         0.825033\n",
            "3       A         0.561759\n",
            "        B         0.824399\n",
            "        C         0.458294\n",
            "4       A         0.154599\n",
            "        B         0.890268\n",
            "        C         0.433617\n",
            "5       A         0.865464\n",
            "        B         0.270694\n",
            "        C         0.168615\n",
            "6       A         0.530128\n",
            "        B         0.132903\n",
            "        C         0.208924\n",
            "7       A         0.810383\n",
            "        B         0.254022\n",
            "        C         0.289684\n",
            "8       A         0.737531\n",
            "        B         0.638540\n",
            "        C         0.030559\n",
            "9       A         0.271966\n",
            "        B         0.315779\n",
            "        C         0.664266\n",
            "dtype: float64\n"
          ]
        },
        {
          "output_type": "stream",
          "name": "stderr",
          "text": [
            "<ipython-input-30-f4becc9233a9>:18: FutureWarning: MultiIndex.is_lexsorted is deprecated as a public function, users should use MultiIndex.is_monotonic_increasing instead.\n",
            "  if not s.index.is_lexsorted():\n"
          ]
        }
      ],
      "source": [
        "import pandas as pd\n",
        "import numpy as np\n",
        "\n",
        "# Create the lists\n",
        "letters = ['A', 'B', 'C']\n",
        "numbers = list(range(10))\n",
        "\n",
        "# Create the MultiIndex from the product of the two lists\n",
        "multi_index = pd.MultiIndex.from_product([letters, numbers], names=['Letter', 'Number'])\n",
        "\n",
        "# Create a Series of random numbers indexed by the MultiIndex\n",
        "s = pd.Series(np.random.random(len(multi_index)), index=multi_index)\n",
        "\n",
        "# Exchange the levels of the MultiIndex\n",
        "s = s.swaplevel('Letter', 'Number')\n",
        "\n",
        "# Check if the new Series is lexsorted and sort it if needed\n",
        "if not s.index.is_lexsorted():\n",
        "    s = s.sort_index()\n",
        "\n",
        "# Print the sorted Series\n",
        "print(s)\n"
      ]
    },
    {
      "cell_type": "markdown",
      "metadata": {
        "id": "KWrWhJWgAc77"
      },
      "source": [
        "## Minesweeper\n",
        "\n",
        "### Generate the numbers for safe squares in a Minesweeper grid\n",
        "\n",
        "Difficulty: *medium* to *hard*\n",
        "\n",
        "If you've ever used an older version of Windows, there's a good chance you've played with Minesweeper:\n",
        "- https://en.wikipedia.org/wiki/Minesweeper_(video_game)\n",
        "\n",
        "\n",
        "If you're not familiar with the game, imagine a grid of squares: some of these squares conceal a mine. If you click on a mine, you lose instantly. If you click on a safe square, you reveal a number telling you how many mines are found in the squares that are immediately adjacent. The aim of the game is to uncover all squares in the grid that do not contain a mine.\n",
        "\n",
        "In this section, we'll make a DataFrame that contains the necessary data for a game of Minesweeper: coordinates of the squares, whether the square contains a mine and the number of mines found on adjacent squares."
      ]
    },
    {
      "cell_type": "markdown",
      "metadata": {
        "id": "EM-R92OLAc77"
      },
      "source": [
        "**51**. Let's suppose we're playing Minesweeper on a 5 by 4 grid, i.e.\n",
        "```\n",
        "X = 5\n",
        "Y = 4\n",
        "```\n",
        "To begin, generate a DataFrame `df` with two columns, `'x'` and `'y'` containing every coordinate for this grid. That is, the DataFrame should start:\n",
        "```\n",
        "   x  y\n",
        "0  0  0\n",
        "1  0  1\n",
        "2  0  2\n",
        "```"
      ]
    },
    {
      "cell_type": "code",
      "execution_count": null,
      "metadata": {
        "id": "oUBaKEwzAc77",
        "colab": {
          "base_uri": "https://localhost:8080/"
        },
        "outputId": "aed5ca3e-e52e-4caf-8607-a8d1d531ed56"
      },
      "outputs": [
        {
          "output_type": "stream",
          "name": "stdout",
          "text": [
            "    x  y\n",
            "0   0  0\n",
            "1   0  1\n",
            "2   0  2\n",
            "3   0  3\n",
            "4   1  0\n",
            "5   1  1\n",
            "6   1  2\n",
            "7   1  3\n",
            "8   2  0\n",
            "9   2  1\n",
            "10  2  2\n",
            "11  2  3\n",
            "12  3  0\n",
            "13  3  1\n",
            "14  3  2\n",
            "15  3  3\n",
            "16  4  0\n",
            "17  4  1\n",
            "18  4  2\n",
            "19  4  3\n"
          ]
        }
      ],
      "source": [
        "import pandas as pd\n",
        "import numpy as np\n",
        "\n",
        "# Define the dimensions of the grid\n",
        "X = 5\n",
        "Y = 4\n",
        "\n",
        "# Create a DataFrame with all coordinates\n",
        "df = pd.DataFrame(np.array(np.meshgrid(range(X), range(Y))).T.reshape(-1, 2), columns=['x', 'y'])\n",
        "\n",
        "# Print the DataFrame\n",
        "print(df)\n"
      ]
    },
    {
      "cell_type": "markdown",
      "metadata": {
        "id": "ZnWrLhUMAc77"
      },
      "source": [
        "**52**. For this DataFrame `df`, create a new column of zeros (safe) and ones (mine). The probability of a mine occuring at each location should be 0.4."
      ]
    },
    {
      "cell_type": "code",
      "execution_count": null,
      "metadata": {
        "id": "xBCs-9zoAc77",
        "colab": {
          "base_uri": "https://localhost:8080/"
        },
        "outputId": "7401fa85-b901-44f8-f3e8-8830e98430f9"
      },
      "outputs": [
        {
          "output_type": "stream",
          "name": "stdout",
          "text": [
            "    x  y  mine\n",
            "0   0  0     0\n",
            "1   0  1     1\n",
            "2   0  2     0\n",
            "3   0  3     0\n",
            "4   1  0     1\n",
            "5   1  1     0\n",
            "6   1  2     1\n",
            "7   1  3     0\n",
            "8   2  0     0\n",
            "9   2  1     1\n",
            "10  2  2     1\n",
            "11  2  3     0\n",
            "12  3  0     1\n",
            "13  3  1     0\n",
            "14  3  2     0\n",
            "15  3  3     0\n",
            "16  4  0     0\n",
            "17  4  1     0\n",
            "18  4  2     1\n",
            "19  4  3     0\n"
          ]
        }
      ],
      "source": [
        "import pandas as pd\n",
        "import numpy as np\n",
        "\n",
        "# Define the dimensions of the grid\n",
        "X = 5\n",
        "Y = 4\n",
        "\n",
        "# Create a DataFrame with all coordinates\n",
        "df = pd.DataFrame(np.array(np.meshgrid(range(X), range(Y))).T.reshape(-1, 2), columns=['x', 'y'])\n",
        "\n",
        "# Define the probability of a mine\n",
        "mine_probability = 0.4\n",
        "\n",
        "# Create a new column 'mine' with zeros (safe) and ones (mine)\n",
        "df['mine'] = np.random.choice([0, 1], size=df.shape[0], p=[1 - mine_probability, mine_probability])\n",
        "\n",
        "# Print the DataFrame\n",
        "print(df)\n"
      ]
    },
    {
      "cell_type": "markdown",
      "metadata": {
        "id": "aab7YOvvAc77"
      },
      "source": [
        "**53**. Now create a new column for this DataFrame called `'adjacent'`. This column should contain the number of mines found on adjacent squares in the grid.\n",
        "\n",
        "(E.g. for the first row, which is the entry for the coordinate `(0, 0)`, count how many mines are found on the coordinates `(0, 1)`, `(1, 0)` and `(1, 1)`.)"
      ]
    },
    {
      "cell_type": "code",
      "execution_count": null,
      "metadata": {
        "id": "AkKzkXt7Ac77",
        "colab": {
          "base_uri": "https://localhost:8080/"
        },
        "outputId": "05e3bf4f-c2e2-4ef4-a208-c237ff2f068f"
      },
      "outputs": [
        {
          "output_type": "stream",
          "name": "stdout",
          "text": [
            "    x  y  mine  adjacent\n",
            "0   0  0     1         1\n",
            "1   0  1     1         3\n",
            "2   0  2     1         4\n",
            "3   0  3     1         3\n",
            "4   1  0     0         3\n",
            "5   1  1     0         5\n",
            "6   1  2     1         4\n",
            "7   1  3     1         3\n",
            "8   2  0     1         1\n",
            "9   2  1     0         3\n",
            "10  2  2     0         2\n",
            "11  2  3     0         2\n",
            "12  3  0     1         2\n",
            "13  3  1     0         4\n",
            "14  3  2     0         3\n",
            "15  3  3     0         2\n",
            "16  4  0     0         2\n",
            "17  4  1     1         2\n",
            "18  4  2     1         2\n",
            "19  4  3     1         1\n"
          ]
        }
      ],
      "source": [
        "import pandas as pd\n",
        "import numpy as np\n",
        "\n",
        "# Define the dimensions of the grid\n",
        "X = 5\n",
        "Y = 4\n",
        "\n",
        "# Create a DataFrame with all coordinates\n",
        "df = pd.DataFrame(np.array(np.meshgrid(range(X), range(Y))).T.reshape(-1, 2), columns=['x', 'y'])\n",
        "\n",
        "# Define the probability of a mine\n",
        "mine_probability = 0.4\n",
        "\n",
        "# Create a new column 'mine' with zeros (safe) and ones (mine)\n",
        "df['mine'] = np.random.choice([0, 1], size=df.shape[0], p=[1 - mine_probability, mine_probability])\n",
        "\n",
        "# Function to count adjacent mines\n",
        "def count_adjacent_mines(row):\n",
        "    x, y = row['x'], row['y']\n",
        "    adjacent_coords = [(x-1, y-1), (x-1, y), (x-1, y+1), (x, y-1), (x, y+1), (x+1, y-1), (x+1, y), (x+1, y+1)]\n",
        "    mine_count = 0\n",
        "    for coord in adjacent_coords:\n",
        "        if (coord[0] >= 0 and coord[0] < X) and (coord[1] >= 0 and coord[1] < Y):\n",
        "            if df.loc[(df['x'] == coord[0]) & (df['y'] == coord[1]), 'mine'].values[0] == 1:\n",
        "                mine_count += 1\n",
        "    return mine_count\n",
        "\n",
        "# Apply the count_adjacent_mines function to create the 'adjacent' column\n",
        "df['adjacent'] = df.apply(count_adjacent_mines, axis=1)\n",
        "\n",
        "# Print the DataFrame\n",
        "print(df)\n"
      ]
    },
    {
      "cell_type": "markdown",
      "metadata": {
        "id": "pSCPXp3BAc78"
      },
      "source": [
        "**54**. For rows of the DataFrame that contain a mine, set the value in the `'adjacent'` column to NaN."
      ]
    },
    {
      "cell_type": "code",
      "execution_count": null,
      "metadata": {
        "id": "7n3GZdiSAc78",
        "colab": {
          "base_uri": "https://localhost:8080/"
        },
        "outputId": "e1fe7afc-da2e-44fb-c94f-b181e0767361"
      },
      "outputs": [
        {
          "output_type": "stream",
          "name": "stdout",
          "text": [
            "    x  y  mine  adjacent\n",
            "0   0  0     1       NaN\n",
            "1   0  1     0       2.0\n",
            "2   0  2     1       NaN\n",
            "3   0  3     0       1.0\n",
            "4   1  0     0       1.0\n",
            "5   1  1     0       2.0\n",
            "6   1  2     0       1.0\n",
            "7   1  3     0       1.0\n",
            "8   2  0     0       1.0\n",
            "9   2  1     0       1.0\n",
            "10  2  2     0       0.0\n",
            "11  2  3     0       0.0\n",
            "12  3  0     1       NaN\n",
            "13  3  1     0       2.0\n",
            "14  3  2     0       0.0\n",
            "15  3  3     0       0.0\n",
            "16  4  0     1       NaN\n",
            "17  4  1     0       2.0\n",
            "18  4  2     0       0.0\n",
            "19  4  3     0       0.0\n"
          ]
        }
      ],
      "source": [
        "import pandas as pd\n",
        "import numpy as np\n",
        "\n",
        "# Define the dimensions of the grid\n",
        "X = 5\n",
        "Y = 4\n",
        "\n",
        "# Create a DataFrame with all coordinates\n",
        "df = pd.DataFrame(np.array(np.meshgrid(range(X), range(Y))).T.reshape(-1, 2), columns=['x', 'y'])\n",
        "\n",
        "# Define the probability of a mine\n",
        "mine_probability = 0.4\n",
        "\n",
        "# Create a new column 'mine' with zeros (safe) and ones (mine)\n",
        "df['mine'] = np.random.choice([0, 1], size=df.shape[0], p=[1 - mine_probability, mine_probability])\n",
        "\n",
        "# Function to count adjacent mines\n",
        "def count_adjacent_mines(row):\n",
        "    x, y = row['x'], row['y']\n",
        "    adjacent_coords = [(x-1, y-1), (x-1, y), (x-1, y+1), (x, y-1), (x, y+1), (x+1, y-1), (x+1, y), (x+1, y+1)]\n",
        "    mine_count = 0\n",
        "    for coord in adjacent_coords:\n",
        "        if (coord[0] >= 0 and coord[0] < X) and (coord[1] >= 0 and coord[1] < Y):\n",
        "            if df.loc[(df['x'] == coord[0]) & (df['y'] == coord[1]), 'mine'].values[0] == 1:\n",
        "                mine_count += 1\n",
        "    return mine_count\n",
        "\n",
        "# Apply the count_adjacent_mines function to create the 'adjacent' column\n",
        "df['adjacent'] = df.apply(count_adjacent_mines, axis=1)\n",
        "\n",
        "# Set 'adjacent' to NaN for rows containing a mine\n",
        "df.loc[df['mine'] == 1, 'adjacent'] = np.nan\n",
        "\n",
        "# Print the DataFrame\n",
        "print(df)\n"
      ]
    },
    {
      "cell_type": "markdown",
      "metadata": {
        "id": "89e7-UVLAc78"
      },
      "source": [
        "**55**. Finally, convert the DataFrame to grid of the adjacent mine counts: columns are the `x` coordinate, rows are the `y` coordinate."
      ]
    },
    {
      "cell_type": "code",
      "execution_count": null,
      "metadata": {
        "id": "NwuHUayBAc78",
        "colab": {
          "base_uri": "https://localhost:8080/"
        },
        "outputId": "9cf49532-827a-41c9-84d9-db31a22d395e"
      },
      "outputs": [
        {
          "output_type": "stream",
          "name": "stdout",
          "text": [
            "x    0    1    2    3    4\n",
            "y                         \n",
            "0  1.0  1.0  1.0  2.0  NaN\n",
            "1  NaN  2.0  2.0  NaN  2.0\n",
            "2  4.0  NaN  5.0  3.0  2.0\n",
            "3  NaN  NaN  NaN  NaN  1.0\n"
          ]
        }
      ],
      "source": [
        "import pandas as pd\n",
        "import numpy as np\n",
        "\n",
        "# Define the dimensions of the grid\n",
        "X = 5\n",
        "Y = 4\n",
        "\n",
        "# Create a DataFrame with all coordinates\n",
        "df = pd.DataFrame(np.array(np.meshgrid(range(X), range(Y))).T.reshape(-1, 2), columns=['x', 'y'])\n",
        "\n",
        "# Define the probability of a mine\n",
        "mine_probability = 0.4\n",
        "\n",
        "# Create a new column 'mine' with zeros (safe) and ones (mine)\n",
        "df['mine'] = np.random.choice([0, 1], size=df.shape[0], p=[1 - mine_probability, mine_probability])\n",
        "\n",
        "# Function to count adjacent mines\n",
        "def count_adjacent_mines(row):\n",
        "    x, y = row['x'], row['y']\n",
        "    adjacent_coords = [(x-1, y-1), (x-1, y), (x-1, y+1), (x, y-1), (x, y+1), (x+1, y-1), (x+1, y), (x+1, y+1)]\n",
        "    mine_count = 0\n",
        "    for coord in adjacent_coords:\n",
        "        if (coord[0] >= 0 and coord[0] < X) and (coord[1] >= 0 and coord[1] < Y):\n",
        "            if df.loc[(df['x'] == coord[0]) & (df['y'] == coord[1]), 'mine'].values[0] == 1:\n",
        "                mine_count += 1\n",
        "    return mine_count\n",
        "\n",
        "# Apply the count_adjacent_mines function to create the 'adjacent' column\n",
        "df['adjacent'] = df.apply(count_adjacent_mines, axis=1)\n",
        "\n",
        "# Set 'adjacent' to NaN for rows containing a mine\n",
        "df.loc[df['mine'] == 1, 'adjacent'] = np.nan\n",
        "\n",
        "# Convert the DataFrame to a grid of adjacent mine counts\n",
        "grid = df.pivot(index='y', columns='x', values='adjacent')\n",
        "\n",
        "# Print the grid\n",
        "print(grid)\n",
        "\n"
      ]
    },
    {
      "cell_type": "markdown",
      "metadata": {
        "id": "nb2FNgorAc78"
      },
      "source": [
        "## Plotting\n",
        "\n",
        "### Visualize trends and patterns in data\n",
        "\n",
        "Difficulty: *medium*\n",
        "\n",
        "To really get a good understanding of the data contained in your DataFrame, it is often essential to create plots: if you're lucky, trends and anomalies will jump right out at you. This functionality is baked into pandas and the puzzles below explore some of what's possible with the library.\n",
        "\n",
        "**56.** Pandas is highly integrated with the plotting library matplotlib, and makes plotting DataFrames very user-friendly! Plotting in a notebook environment usually makes use of the following boilerplate:\n",
        "\n",
        "```python\n",
        "import matplotlib.pyplot as plt\n",
        "%matplotlib inline\n",
        "plt.style.use('ggplot')\n",
        "```\n",
        "\n",
        "matplotlib is the plotting library which pandas' plotting functionality is built upon, and it is usually aliased to ```plt```.\n",
        "\n",
        "```%matplotlib inline``` tells the notebook to show plots inline, instead of creating them in a separate window.  \n",
        "\n",
        "```plt.style.use('ggplot')``` is a style theme that most people find agreeable, based upon the styling of R's ggplot package.\n",
        "\n",
        "For starters, make a scatter plot of this random data, but use black X's instead of the default markers.\n",
        "\n",
        "```df = pd.DataFrame({\"xs\":[1,5,2,8,1], \"ys\":[4,2,1,9,6]})```\n",
        "\n"
      ]
    },
    {
      "cell_type": "markdown",
      "metadata": {
        "id": "is25VPuKAc78"
      },
      "source": [
        "**57.** Columns in your DataFrame can also be used to modify colors and sizes.  Bill has been keeping track of his performance at work over time, as well as how good he was feeling that day, and whether he had a cup of coffee in the morning.  Make a plot which incorporates all four features of this DataFrame.\n",
        "\n",
        "(Hint:  If you're having trouble seeing the plot, try multiplying the Series which you choose to represent size by 10 or more)\n",
        "\n",
        "*The chart doesn't have to be pretty: this isn't a course in data viz!*\n",
        "\n",
        "```\n",
        "df = pd.DataFrame({\"productivity\":[5,2,3,1,4,5,6,7,8,3,4,8,9],\n",
        "                   \"hours_in\"    :[1,9,6,5,3,9,2,9,1,7,4,2,2],\n",
        "                   \"happiness\"   :[2,1,3,2,3,1,2,3,1,2,2,1,3],\n",
        "                   \"caffienated\" :[0,0,1,1,0,0,0,0,1,1,0,1,0]})\n",
        "```"
      ]
    },
    {
      "cell_type": "code",
      "execution_count": null,
      "metadata": {
        "id": "bdpSRkopAc78",
        "colab": {
          "base_uri": "https://localhost:8080/",
          "height": 472
        },
        "outputId": "acf83d85-e2b1-4a92-f9df-34c12cb073fa"
      },
      "outputs": [
        {
          "output_type": "display_data",
          "data": {
            "text/plain": [
              "<Figure size 640x480 with 2 Axes>"
            ],
            "image/png": "[encoded data removed]"
          },
          "metadata": {}
        }
      ],
      "source": [
        "import pandas as pd\n",
        "import matplotlib.pyplot as plt\n",
        "\n",
        "# Create the DataFrame\n",
        "df = pd.DataFrame({\"productivity\":[5,2,3,1,4,5,6,7,8,3,4,8,9],\n",
        "                   \"hours_in\"    :[1,9,6,5,3,9,2,9,1,7,4,2,2],\n",
        "                   \"happiness\"   :[2,1,3,2,3,1,2,3,1,2,2,1,3],\n",
        "                   \"caffienated\" :[0,0,1,1,0,0,0,0,1,1,0,1,0]})\n",
        "\n",
        "# Create a scatter plot\n",
        "plt.scatter(df['productivity'], df['hours_in'], c=df['happiness'], s=df['caffienated'] * 15, cmap='viridis')\n",
        "\n",
        "# Add labels and title\n",
        "plt.xlabel('Productivity')\n",
        "plt.ylabel('Hours In')\n",
        "plt.title('Bill\\'s Performance Over Time')\n",
        "\n",
        "# Show the color bar\n",
        "colorbar = plt.colorbar()\n",
        "colorbar.set_label('Happiness')\n",
        "\n",
        "# Show the plot\n",
        "plt.show()\n"
      ]
    },
    {
      "cell_type": "markdown",
      "metadata": {
        "id": "PzCigtVPAc78"
      },
      "source": [
        "**58.**  What if we want to plot multiple things?  Pandas allows you to pass in a matplotlib *Axis* object for plots, and plots will also return an Axis object.\n",
        "\n",
        "Make a bar plot of monthly revenue with a line plot of monthly advertising spending (numbers in millions)\n",
        "\n",
        "```\n",
        "df = pd.DataFrame({\"revenue\":[57,68,63,71,72,90,80,62,59,51,47,52],\n",
        "                   \"advertising\":[2.1,1.9,2.7,3.0,3.6,3.2,2.7,2.4,1.8,1.6,1.3,1.9],\n",
        "                   \"month\":range(12)\n",
        "                  })\n",
        "```"
      ]
    },
    {
      "cell_type": "code",
      "execution_count": null,
      "metadata": {
        "id": "1vuCGgeQAc78",
        "colab": {
          "base_uri": "https://localhost:8080/",
          "height": 487
        },
        "outputId": "ff5ba879-c342-427a-f3bc-63f68545aa4e"
      },
      "outputs": [
        {
          "output_type": "display_data",
          "data": {
            "text/plain": [
              "<Figure size 640x480 with 2 Axes>"
            ],
            "image/png": "[encoded data removed]"
          },
          "metadata": {}
        }
      ],
      "source": [
        "import pandas as pd\n",
        "import matplotlib.pyplot as plt\n",
        "\n",
        "# Create the DataFrame\n",
        "df = pd.DataFrame({\"revenue\":[57,68,63,71,72,90,80,62,59,51,47,52],\n",
        "                   \"advertising\":[2.1,1.9,2.7,3.0,3.6,3.2,2.7,2.4,1.8,1.6,1.3,1.9],\n",
        "                   \"month\":range(12)\n",
        "                  })\n",
        "\n",
        "# Create a figure and axis\n",
        "fig, ax1 = plt.subplots()\n",
        "\n",
        "# Plot monthly revenue as a bar plot on the primary axis\n",
        "ax1.bar(df['month'], df['revenue'], color='b', alpha=0.7, label='Revenue')\n",
        "ax1.set_xlabel('Month')\n",
        "ax1.set_ylabel('Revenue', color='b')\n",
        "ax1.tick_params('y', colors='b')\n",
        "\n",
        "# Create a secondary axis for monthly advertising spending as a line plot\n",
        "ax2 = ax1.twinx()\n",
        "ax2.plot(df['month'], df['advertising'], color='r', marker='o', label='Advertising')\n",
        "ax2.set_ylabel('Advertising Spending (Millions)', color='r')\n",
        "ax2.tick_params('y', colors='r')\n",
        "\n",
        "# Add a legend\n",
        "lines, labels = ax1.get_legend_handles_labels()\n",
        "lines2, labels2 = ax2.get_legend_handles_labels()\n",
        "ax1.legend(lines + lines2, labels + labels2, loc='upper left')\n",
        "\n",
        "# Set the x-axis ticks\n",
        "plt.xticks(df['month'], ['Jan', 'Feb', 'Mar', 'Apr', 'May', 'Jun', 'Jul', 'Aug', 'Sep', 'Oct', 'Nov', 'Dec'])\n",
        "\n",
        "# Set the title\n",
        "plt.title('Monthly Revenue and Advertising Spending')\n",
        "\n",
        "# Show the plot\n",
        "plt.tight_layout()\n",
        "plt.show()\n"
      ]
    },
    {
      "cell_type": "markdown",
      "metadata": {
        "id": "3aWIv5LmAc78"
      },
      "source": [
        "Now we're finally ready to create a candlestick chart, which is a very common tool used to analyze stock price data.  A candlestick chart shows the opening, closing, highest, and lowest price for a stock during a time window.  The color of the \"candle\" (the thick part of the bar) is green if the stock closed above its opening price, or red if below.\n",
        "\n",
        "![Candlestick Example](img/candle.jpg)\n",
        "\n",
        "This was initially designed to be a pandas plotting challenge, but it just so happens that this type of plot is just not feasible using pandas' methods.  If you are unfamiliar with matplotlib, we have provided a function that will plot the chart for you so long as you can use pandas to get the data into the correct format.\n",
        "\n",
        "Your first step should be to get the data in the correct format using pandas' time-series grouping function.  We would like each candle to represent an hour's worth of data.  You can write your own aggregation function which returns the open/high/low/close, but pandas has a built-in which also does this."
      ]
    },
    {
      "cell_type": "markdown",
      "metadata": {
        "id": "Pssz_-7kAc79"
      },
      "source": [
        "The below cell contains helper functions.  Call ```day_stock_data()``` to generate a DataFrame containing the prices a hypothetical stock sold for, and the time the sale occurred.  Call ```plot_candlestick(df)``` on your properly aggregated and formatted stock data to print the candlestick chart."
      ]
    },
    {
      "cell_type": "code",
      "execution_count": null,
      "metadata": {
        "id": "uY3H8KlmAc79"
      },
      "outputs": [],
      "source": [
        "import numpy as np\n",
        "def float_to_time(x):\n",
        "    return str(int(x)) + \":\" + str(int(x%1 * 60)).zfill(2) + \":\" + str(int(x*60 % 1 * 60)).zfill(2)\n",
        "\n",
        "def day_stock_data():\n",
        "    #NYSE is open from 9:30 to 4:00\n",
        "    time = 9.5\n",
        "    price = 100\n",
        "    results = [(float_to_time(time), price)]\n",
        "    while time < 16:\n",
        "        elapsed = np.random.exponential(.001)\n",
        "        time += elapsed\n",
        "        if time > 16:\n",
        "            break\n",
        "        price_diff = np.random.uniform(.999, 1.001)\n",
        "        price *= price_diff\n",
        "        results.append((float_to_time(time), price))\n",
        "\n",
        "\n",
        "    df = pd.DataFrame(results, columns = ['time','price'])\n",
        "    df.time = pd.to_datetime(df.time)\n",
        "    return df\n",
        "\n",
        "#Don't read me unless you get stuck!\n",
        "def plot_candlestick(agg):\n",
        "    \"\"\"\n",
        "    agg is a DataFrame which has a DatetimeIndex and five columns: [\"open\",\"high\",\"low\",\"close\",\"color\"]\n",
        "    \"\"\"\n",
        "    fig, ax = plt.subplots()\n",
        "    for time in agg.index:\n",
        "        ax.plot([time.hour] * 2, agg.loc[time, [\"high\",\"low\"]].values, color = \"black\")\n",
        "        ax.plot([time.hour] * 2, agg.loc[time, [\"open\",\"close\"]].values, color = agg.loc[time, \"color\"], linewidth = 10)\n",
        "\n",
        "    ax.set_xlim((8,16))\n",
        "    ax.set_ylabel(\"Price\")\n",
        "    ax.set_xlabel(\"Hour\")\n",
        "    ax.set_title(\"OHLC of Stock Value During Trading Day\")\n",
        "    plt.show()"
      ]
    },
    {
      "cell_type": "markdown",
      "metadata": {
        "id": "SnA6H9F2Ac79"
      },
      "source": [
        "**59.** Generate a day's worth of random stock data, and aggregate / reformat it so that it has hourly summaries of the opening, highest, lowest, and closing prices"
      ]
    },
    {
      "cell_type": "code",
      "source": [
        "import pandas as pd\n",
        "import numpy as np\n",
        "\n",
        "# Set the random seed for reproducibility\n",
        "np.random.seed(0)\n",
        "\n",
        "# Define the number of data points for a day (e.g., 24 data points for hourly data)\n",
        "num_data_points = 24\n",
        "\n",
        "# Generate random stock data for a day\n",
        "stock_data = pd.DataFrame({\n",
        "    'Timestamp': pd.date_range(start='2023-09-21', periods=num_data_points, freq='H'),\n",
        "    'Price': np.random.uniform(low=100, high=200, size=num_data_points)\n",
        "})\n",
        "\n",
        "# Create hourly summaries\n",
        "hourly_summary = stock_data.groupby(stock_data['Timestamp'].dt.hour).agg({\n",
        "    'Price': ['first', 'max', 'min', 'last']\n",
        "})\n",
        "\n",
        "# Rename columns for clarity\n",
        "hourly_summary.columns = ['Open', 'High', 'Low', 'Close']\n",
        "\n",
        "# Reset the index to show hours as a separate column\n",
        "hourly_summary.reset_index(inplace=True)\n",
        "\n",
        "# Print the hourly summaries\n",
        "print(hourly_summary)\n"
      ],
      "metadata": {
        "colab": {
          "base_uri": "https://localhost:8080/"
        },
        "id": "Gd2Fa_jtpUUo",
        "outputId": "6962f23b-316d-4ed9-f76d-62d63c0d3f77"
      },
      "execution_count": null,
      "outputs": [
        {
          "output_type": "stream",
          "name": "stdout",
          "text": [
            "    Timestamp        Open        High         Low       Close\n",
            "0           0  154.881350  154.881350  154.881350  154.881350\n",
            "1           1  171.518937  171.518937  171.518937  171.518937\n",
            "2           2  160.276338  160.276338  160.276338  160.276338\n",
            "3           3  154.488318  154.488318  154.488318  154.488318\n",
            "4           4  142.365480  142.365480  142.365480  142.365480\n",
            "5           5  164.589411  164.589411  164.589411  164.589411\n",
            "6           6  143.758721  143.758721  143.758721  143.758721\n",
            "7           7  189.177300  189.177300  189.177300  189.177300\n",
            "8           8  196.366276  196.366276  196.366276  196.366276\n",
            "9           9  138.344152  138.344152  138.344152  138.344152\n",
            "10         10  179.172504  179.172504  179.172504  179.172504\n",
            "11         11  152.889492  152.889492  152.889492  152.889492\n",
            "12         12  156.804456  156.804456  156.804456  156.804456\n",
            "13         13  192.559664  192.559664  192.559664  192.559664\n",
            "14         14  107.103606  107.103606  107.103606  107.103606\n",
            "15         15  108.712930  108.712930  108.712930  108.712930\n",
            "16         16  102.021840  102.021840  102.021840  102.021840\n",
            "17         17  183.261985  183.261985  183.261985  183.261985\n",
            "18         18  177.815675  177.815675  177.815675  177.815675\n",
            "19         19  187.001215  187.001215  187.001215  187.001215\n",
            "20         20  197.861834  197.861834  197.861834  197.861834\n",
            "21         21  179.915856  179.915856  179.915856  179.915856\n",
            "22         22  146.147936  146.147936  146.147936  146.147936\n",
            "23         23  178.052918  178.052918  178.052918  178.052918\n"
          ]
        }
      ]
    }
  ],
  "metadata": {
    "kernelspec": {
      "display_name": "Python 3 (ipykernel)",
      "language": "python",
      "name": "python3"
    },
    "language_info": {
      "codemirror_mode": {
        "name": "ipython",
        "version": 3
      },
      "file_extension": ".py",
      "mimetype": "text/x-python",
      "name": "python",
      "nbconvert_exporter": "python",
      "pygments_lexer": "ipython3",
      "version": "3.11.3"
    },
    "colab": {
      "provenance": [],
      "include_colab_link": true
    }
  },
  "nbformat": 4,
  "nbformat_minor": 0
}